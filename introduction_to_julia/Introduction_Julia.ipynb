{
 "cells": [
  {
   "cell_type": "markdown",
   "id": "62860fb4",
   "metadata": {
    "slideshow": {
     "slide_type": "slide"
    }
   },
   "source": [
    "# Julia 入門\n",
    "\n",
    "- 2022/02/18 \n",
    "- Y Kanai\n",
    "\n",
    "\n",
    "このスライドは社内勉強会用に作成しています。"
   ]
  },
  {
   "cell_type": "markdown",
   "id": "72052e11",
   "metadata": {
    "slideshow": {
     "slide_type": "slide"
    }
   },
   "source": [
    "# Julia\n",
    "\n",
    "- ライセンスを気にすることなく使えるオーブンソースな言語\n",
    "- Cのように高速に計算でき、Rubyのように書きやすい言語\n",
    "- Lispのように同図像性のある言語\n",
    "- Matlabのような数式表現を使える\n",
    "- Pythonのように使い勝手が良く、Rのように統計処理しやすい\n",
    "\n",
    "そんな言語を目指して作られた言語\n",
    "\n"
   ]
  },
  {
   "cell_type": "markdown",
   "id": "2c5526e1",
   "metadata": {
    "slideshow": {
     "slide_type": "subslide"
    }
   },
   "source": [
    "# Juliaを何故使うのか?\n",
    "\n",
    "- 数式表現がそのまま使える\n",
    "- ギリシャ文字などが使える\n",
    "- 高速な計算処理"
   ]
  },
  {
   "cell_type": "markdown",
   "id": "2e9b81a2",
   "metadata": {
    "slideshow": {
     "slide_type": "slide"
    }
   },
   "source": [
    "# Hello world\n",
    "\n",
    "実行環境はJupyter Notebookを前提としています。"
   ]
  },
  {
   "cell_type": "markdown",
   "id": "4699b477",
   "metadata": {
    "slideshow": {
     "slide_type": "subslide"
    }
   },
   "source": [
    "## 基本文法"
   ]
  },
  {
   "cell_type": "markdown",
   "id": "7be47704",
   "metadata": {
    "slideshow": {
     "slide_type": "subslide"
    }
   },
   "source": [
    "### コメント"
   ]
  },
  {
   "cell_type": "code",
   "execution_count": 1,
   "id": "51568645",
   "metadata": {
    "slideshow": {
     "slide_type": "-"
    }
   },
   "outputs": [],
   "source": [
    "# コメント <= \"#\" を先頭に記述するとコメントになる\n",
    "\n",
    "#=\n",
    "\n",
    "multi-line コメントにする場合は\n",
    "\"#=\" と \"=#\" で囲む\n",
    "\n",
    "=#"
   ]
  },
  {
   "cell_type": "markdown",
   "id": "af5c0747",
   "metadata": {
    "slideshow": {
     "slide_type": "subslide"
    }
   },
   "source": [
    "### 変数"
   ]
  },
  {
   "cell_type": "code",
   "execution_count": 2,
   "id": "efd3336b",
   "metadata": {},
   "outputs": [
    {
     "data": {
      "text/plain": [
       "Int64"
      ]
     },
     "execution_count": 2,
     "metadata": {},
     "output_type": "execute_result"
    }
   ],
   "source": [
    "x=1\n",
    "typeof(x)"
   ]
  },
  {
   "cell_type": "code",
   "execution_count": 3,
   "id": "4bba8d22",
   "metadata": {},
   "outputs": [
    {
     "data": {
      "text/plain": [
       "String"
      ]
     },
     "execution_count": 3,
     "metadata": {},
     "output_type": "execute_result"
    }
   ],
   "source": [
    "head=\"age\"\n",
    "typeof(head)"
   ]
  },
  {
   "cell_type": "code",
   "execution_count": 4,
   "id": "67fa8f1c",
   "metadata": {},
   "outputs": [
    {
     "name": "stdout",
     "output_type": "stream",
     "text": [
      "2\n",
      "age ; 25\n"
     ]
    }
   ],
   "source": [
    "y = x+1\n",
    "println(y)\n",
    "println(\"$head ; 25\")"
   ]
  },
  {
   "cell_type": "markdown",
   "id": "21540c1b",
   "metadata": {
    "slideshow": {
     "slide_type": "subslide"
    }
   },
   "source": [
    "### Unicode文字の入力\n",
    "\n",
    "科学計算や統計で扱う数式を実装するとき次のようにしたい場合がでてくる\n",
    "\n",
    "- パラメタとして出てくるギリシャ文字を扱いたり\n",
    "- indexとして下付き文字を使いたい\n",
    "- ∫や ∇ を使いたい\n",
    "\n",
    "これらは バックスラッシュ の後にキーワードを入力してタブキーをタイプすることで、Unicode文字を入力することができる。\n",
    "キーワードは latex の数式入力の方法が参考になる。"
   ]
  },
  {
   "cell_type": "code",
   "execution_count": 5,
   "id": "1f86dbfc",
   "metadata": {},
   "outputs": [
    {
     "data": {
      "text/plain": [
       "385"
      ]
     },
     "execution_count": 5,
     "metadata": {},
     "output_type": "execute_result"
    }
   ],
   "source": [
    "# \\_1 を入力してタブキーをタイプする\n",
    "X₁ = [0 0]\n",
    "\n",
    "# \\prime を入力してタブキーをタイプする\n",
    "f′(x) = 2*x+1\n",
    "\n",
    "# \\Sigmaを入力してタブキーをタイプする\n",
    "Σ(f, s, e) = sum([f(n) for n = s:e])\n",
    "\n",
    "out = Σ(x->x^2, 1, 10)"
   ]
  },
  {
   "cell_type": "markdown",
   "id": "68c14668",
   "metadata": {
    "slideshow": {
     "slide_type": "subslide"
    }
   },
   "source": [
    "### 基本演算\n",
    "\n",
    "ドキュメント [Mathmatics](https://docs.julialang.org/en/v1/base/math/) に載っているものが全てだけど、その中で最も基本的なものを取り出して紹介する。"
   ]
  },
  {
   "cell_type": "code",
   "execution_count": 6,
   "id": "e534d4aa",
   "metadata": {
    "slideshow": {
     "slide_type": "-"
    }
   },
   "outputs": [
    {
     "data": {
      "text/plain": [
       "1"
      ]
     },
     "execution_count": 6,
     "metadata": {},
     "output_type": "execute_result"
    }
   ],
   "source": [
    "# 加算\n",
    "1+1\n",
    "# 減算\n",
    "10 - 3\n",
    "# 乗算\n",
    "3 * 4\n",
    "# (右)除算\n",
    "6 / 2\n",
    "# べき乗\n",
    "2^5\n",
    "# 剰余\n",
    "101 % 2"
   ]
  },
  {
   "cell_type": "markdown",
   "id": "dd904bb5",
   "metadata": {
    "slideshow": {
     "slide_type": "slide"
    }
   },
   "source": [
    "### データ構造"
   ]
  },
  {
   "cell_type": "markdown",
   "id": "a99a8bc1",
   "metadata": {
    "slideshow": {
     "slide_type": "subslide"
    }
   },
   "source": [
    "#### 辞書型"
   ]
  },
  {
   "cell_type": "code",
   "execution_count": 7,
   "id": "1c0664bc",
   "metadata": {},
   "outputs": [
    {
     "data": {
      "text/plain": [
       "Dict{String, String} with 3 entries:\n",
       "  \"NZ\" => \"64\"\n",
       "  \"HK\" => \"852\"\n",
       "  \"JP\" => \"81\""
      ]
     },
     "metadata": {},
     "output_type": "display_data"
    },
    {
     "data": {
      "text/plain": [
       "\"81\""
      ]
     },
     "metadata": {},
     "output_type": "display_data"
    }
   ],
   "source": [
    "country_codes = Dict(\"JP\"=>\"81\", \"NZ\"=>\"64\", \"HK\"=>\"852\")\n",
    "display(country_codes)\n",
    "display(country_codes[\"JP\"])"
   ]
  },
  {
   "cell_type": "markdown",
   "id": "4c859982",
   "metadata": {
    "slideshow": {
     "slide_type": "subslide"
    }
   },
   "source": [
    "#### タプル"
   ]
  },
  {
   "cell_type": "code",
   "execution_count": 8,
   "id": "2567dd42",
   "metadata": {},
   "outputs": [
    {
     "data": {
      "text/plain": [
       "(\"Aoki\", \"Kato\", \"Konishi\", \"Sometani\")"
      ]
     },
     "metadata": {},
     "output_type": "display_data"
    },
    {
     "data": {
      "text/plain": [
       "\"Aoki\""
      ]
     },
     "metadata": {},
     "output_type": "display_data"
    }
   ],
   "source": [
    "class_member = (\"Aoki\", \"Kato\", \"Konishi\", \"Sometani\")\n",
    "display(class_member)\n",
    "display(class_member[1])"
   ]
  },
  {
   "cell_type": "markdown",
   "id": "25420d3c",
   "metadata": {},
   "source": [
    "#### 配列"
   ]
  },
  {
   "cell_type": "code",
   "execution_count": 9,
   "id": "cc57e7e2",
   "metadata": {},
   "outputs": [
    {
     "data": {
      "text/plain": [
       "4-element Vector{Int64}:\n",
       " 5\n",
       " 1\n",
       " 3\n",
       " 4"
      ]
     },
     "metadata": {},
     "output_type": "display_data"
    },
    {
     "data": {
      "text/plain": [
       "5"
      ]
     },
     "metadata": {},
     "output_type": "display_data"
    },
    {
     "data": {
      "text/plain": [
       "4-element Vector{Int64}:\n",
       " 7\n",
       " 1\n",
       " 3\n",
       " 4"
      ]
     },
     "metadata": {},
     "output_type": "display_data"
    }
   ],
   "source": [
    "bow = [5, 1, 3, 4]\n",
    "display(bow)\n",
    "display(bow[1])\n",
    "bow[1] = 7\n",
    "display(bow)"
   ]
  },
  {
   "cell_type": "markdown",
   "id": "7eac56dd",
   "metadata": {
    "slideshow": {
     "slide_type": "subslide"
    }
   },
   "source": [
    "#### 配列 (関数を使用)"
   ]
  },
  {
   "cell_type": "code",
   "execution_count": 10,
   "id": "dc5e37a9",
   "metadata": {},
   "outputs": [
    {
     "data": {
      "text/plain": [
       "3-element Vector{Float64}:\n",
       " 0.0\n",
       " 0.0\n",
       " 0.0"
      ]
     },
     "metadata": {},
     "output_type": "display_data"
    },
    {
     "data": {
      "text/plain": [
       "5×1 Matrix{Float64}:\n",
       " 1.0\n",
       " 1.0\n",
       " 1.0\n",
       " 1.0\n",
       " 1.0"
      ]
     },
     "metadata": {},
     "output_type": "display_data"
    },
    {
     "data": {
      "text/plain": [
       "1×2 Matrix{Float64}:\n",
       " 0.420692  0.901926"
      ]
     },
     "metadata": {},
     "output_type": "display_data"
    },
    {
     "data": {
      "text/plain": [
       "2×1 Matrix{Float64}:\n",
       "  1.0799297114239366\n",
       " -0.6459438702237017"
      ]
     },
     "metadata": {},
     "output_type": "display_data"
    }
   ],
   "source": [
    "display(zeros(3))\n",
    "display(ones(5,1))\n",
    "display(rand(1,2))\n",
    "display(randn(2,1))"
   ]
  },
  {
   "cell_type": "markdown",
   "id": "511c938a",
   "metadata": {
    "slideshow": {
     "slide_type": "subslide"
    }
   },
   "source": [
    "#### 多次元配列"
   ]
  },
  {
   "cell_type": "code",
   "execution_count": 11,
   "id": "784e205a",
   "metadata": {},
   "outputs": [
    {
     "data": {
      "text/plain": [
       "(2, 3)"
      ]
     },
     "metadata": {},
     "output_type": "display_data"
    },
    {
     "data": {
      "text/plain": [
       "6"
      ]
     },
     "metadata": {},
     "output_type": "display_data"
    },
    {
     "data": {
      "text/plain": [
       "4"
      ]
     },
     "metadata": {},
     "output_type": "display_data"
    },
    {
     "data": {
      "text/plain": [
       "3-element Vector{Int64}:\n",
       " 4\n",
       " 5\n",
       " 6"
      ]
     },
     "metadata": {},
     "output_type": "display_data"
    },
    {
     "data": {
      "text/plain": [
       "2×2 Matrix{Int64}:\n",
       " 2  3\n",
       " 5  6"
      ]
     },
     "metadata": {},
     "output_type": "display_data"
    }
   ],
   "source": [
    "A = [1 2 3;\n",
    "     4 5 6]\n",
    "display(size(A))\n",
    "display(length(A))\n",
    "display(A[2, 1]) # index が 0 で始めていないことに注意!\n",
    "display(A[2, :])\n",
    "display(A[:, 2:3])"
   ]
  },
  {
   "cell_type": "markdown",
   "id": "6c0cfe70",
   "metadata": {
    "slideshow": {
     "slide_type": "slide"
    }
   },
   "source": [
    "### 制御構文"
   ]
  },
  {
   "cell_type": "markdown",
   "id": "dd4b2cdc",
   "metadata": {
    "slideshow": {
     "slide_type": "subslide"
    }
   },
   "source": [
    "#### while ループ"
   ]
  },
  {
   "cell_type": "code",
   "execution_count": 12,
   "id": "46fa9abf",
   "metadata": {},
   "outputs": [
    {
     "data": {
      "text/plain": [
       "\"do action\""
      ]
     },
     "metadata": {},
     "output_type": "display_data"
    }
   ],
   "source": [
    "done = false\n",
    "\n",
    "action = ()-> begin\n",
    "    display(\"do action\")\n",
    "    (\"next state\", \"reward\", true, \"info\")\n",
    "end\n",
    "\n",
    "while !done\n",
    "    _, _, done, _  = action()\n",
    "end"
   ]
  },
  {
   "cell_type": "markdown",
   "id": "c721ccc8",
   "metadata": {
    "slideshow": {
     "slide_type": "subslide"
    }
   },
   "source": [
    "#### for ループ"
   ]
  },
  {
   "cell_type": "code",
   "execution_count": 13,
   "id": "b521e611",
   "metadata": {},
   "outputs": [
    {
     "data": {
      "text/plain": [
       "1"
      ]
     },
     "metadata": {},
     "output_type": "display_data"
    },
    {
     "data": {
      "text/plain": [
       "4"
      ]
     },
     "metadata": {},
     "output_type": "display_data"
    },
    {
     "data": {
      "text/plain": [
       "9"
      ]
     },
     "metadata": {},
     "output_type": "display_data"
    },
    {
     "name": "stdout",
     "output_type": "stream",
     "text": [
      "...................................................................................................."
     ]
    }
   ],
   "source": [
    "for _ in 1:100 # in の代わりに = でも良い\n",
    "    print(\".\")\n",
    "end\n",
    "\n",
    "X = [1, 2, 3]\n",
    "f(𝑥) = 𝑥^2\n",
    "for x ∈ X     # また ∈ を使っても良い\n",
    "    display(f(x))\n",
    "end"
   ]
  },
  {
   "cell_type": "markdown",
   "id": "eb41f8be",
   "metadata": {
    "slideshow": {
     "slide_type": "subslide"
    }
   },
   "source": [
    "#### 内包表現"
   ]
  },
  {
   "cell_type": "code",
   "execution_count": 14,
   "id": "c22d3620",
   "metadata": {},
   "outputs": [
    {
     "data": {
      "text/plain": [
       "9×9 Matrix{Float64}:\n",
       " 1.1  1.2  1.3  1.4  1.5  1.6  1.7  1.8  1.9\n",
       " 2.1  2.2  2.3  2.4  2.5  2.6  2.7  2.8  2.9\n",
       " 3.1  3.2  3.3  3.4  3.5  3.6  3.7  3.8  3.9\n",
       " 4.1  4.2  4.3  4.4  4.5  4.6  4.7  4.8  4.9\n",
       " 5.1  5.2  5.3  5.4  5.5  5.6  5.7  5.8  5.9\n",
       " 6.1  6.2  6.3  6.4  6.5  6.6  6.7  6.8  6.9\n",
       " 7.1  7.2  7.3  7.4  7.5  7.6  7.7  7.8  7.9\n",
       " 8.1  8.2  8.3  8.4  8.5  8.6  8.7  8.8  8.9\n",
       " 9.1  9.2  9.3  9.4  9.5  9.6  9.7  9.8  9.9"
      ]
     },
     "execution_count": 14,
     "metadata": {},
     "output_type": "execute_result"
    }
   ],
   "source": [
    "A = [i+0.1*j for i in 1:9, j in 1:9]"
   ]
  },
  {
   "cell_type": "markdown",
   "id": "8ee141e8",
   "metadata": {
    "slideshow": {
     "slide_type": "subslide"
    }
   },
   "source": [
    "#### 条件分岐"
   ]
  },
  {
   "cell_type": "code",
   "execution_count": 15,
   "id": "bfa86e3a",
   "metadata": {},
   "outputs": [
    {
     "data": {
      "text/plain": [
       "\"更新完了!\""
      ]
     },
     "metadata": {},
     "output_type": "display_data"
    }
   ],
   "source": [
    "state = \"success\"\n",
    "\n",
    "if state == \"loading\"\n",
    "    display(\"更新中...\")\n",
    "elseif state == \"success\"\n",
    "    display(\"更新完了!\")\n",
    "elseif state == \"failed\"\n",
    "    display(\"更新失敗\")\n",
    "else\n",
    "    display(\"\")\n",
    "end"
   ]
  },
  {
   "cell_type": "code",
   "execution_count": 1,
   "id": "2d0d682e",
   "metadata": {},
   "outputs": [
    {
     "data": {
      "text/plain": [
       "\"4駆\""
      ]
     },
     "metadata": {},
     "output_type": "display_data"
    }
   ],
   "source": [
    "has_4tire = true\n",
    "category = has_4tire ? \"4駆\" : \"2駆\""
   ]
  },
  {
   "cell_type": "markdown",
   "id": "5282d0e9",
   "metadata": {
    "slideshow": {
     "slide_type": "subslide"
    }
   },
   "source": [
    "#### 短絡評価"
   ]
  },
  {
   "cell_type": "code",
   "execution_count": 17,
   "id": "c29a3bed",
   "metadata": {},
   "outputs": [
    {
     "data": {
      "text/plain": [
       "\"right\""
      ]
     },
     "metadata": {},
     "output_type": "display_data"
    }
   ],
   "source": [
    "∠c = 90\n",
    "triangle_type = \"acute\"\n",
    "∠c == 90 && (triangle_type = \"right\")\n",
    "∠c > 90 && (triangle_type = \"obtuse\")\n",
    "\n",
    "display(triangle_type)"
   ]
  },
  {
   "cell_type": "markdown",
   "id": "225c7639",
   "metadata": {
    "slideshow": {
     "slide_type": "slide"
    }
   },
   "source": [
    "### 関数"
   ]
  },
  {
   "cell_type": "code",
   "execution_count": 18,
   "id": "3626d084",
   "metadata": {},
   "outputs": [
    {
     "data": {
      "text/plain": [
       "squared (generic function with 1 method)"
      ]
     },
     "execution_count": 18,
     "metadata": {},
     "output_type": "execute_result"
    }
   ],
   "source": [
    "function squared(x)\n",
    "    return x^2\n",
    "end"
   ]
  },
  {
   "cell_type": "code",
   "execution_count": 19,
   "id": "8fef8f35",
   "metadata": {},
   "outputs": [
    {
     "data": {
      "text/plain": [
       "9"
      ]
     },
     "execution_count": 19,
     "metadata": {},
     "output_type": "execute_result"
    }
   ],
   "source": [
    "squared(3)"
   ]
  },
  {
   "cell_type": "code",
   "execution_count": 20,
   "id": "8ec08804",
   "metadata": {},
   "outputs": [
    {
     "ename": "LoadError",
     "evalue": "cannot define function y; it already has a value",
     "output_type": "error",
     "traceback": [
      "cannot define function y; it already has a value",
      "",
      "Stacktrace:",
      " [1] top-level scope",
      "   @ none:0",
      " [2] top-level scope",
      "   @ In[20]:1",
      " [3] eval",
      "   @ .\\boot.jl:373 [inlined]",
      " [4] include_string(mapexpr::typeof(REPL.softscope), mod::Module, code::String, filename::String)",
      "   @ Base .\\loading.jl:1196"
     ]
    }
   ],
   "source": [
    "y(x) = 2*x^2\n",
    "display(y)\n",
    "display(y(3))\n",
    "A = rand(2,2)\n",
    "display(A)\n",
    "display(y(A))"
   ]
  },
  {
   "cell_type": "code",
   "execution_count": 21,
   "id": "85ac4730",
   "metadata": {
    "slideshow": {
     "slide_type": "subslide"
    }
   },
   "outputs": [
    {
     "data": {
      "text/plain": [
       "#11 (generic function with 1 method)"
      ]
     },
     "execution_count": 21,
     "metadata": {},
     "output_type": "execute_result"
    }
   ],
   "source": [
    "# 無名関数\n",
    "\n",
    "normal_gaussian = x->ℯ^(-x^2)/√(2π)\n",
    "trigonometric_ratio = θ -> begin\n",
    "    s = sin(θ)\n",
    "    c = cos(θ)\n",
    "    s, c\n",
    "end"
   ]
  },
  {
   "cell_type": "markdown",
   "id": "3615d314",
   "metadata": {
    "slideshow": {
     "slide_type": "slide"
    }
   },
   "source": [
    "#### ブロードキャスト\n",
    "\n",
    "ある演算を複数の要素に対して一括に処理するときに便利な機能。\n",
    "演算に $.$ を付けるだけ！"
   ]
  },
  {
   "cell_type": "code",
   "execution_count": 22,
   "id": "aff90d51",
   "metadata": {},
   "outputs": [
    {
     "data": {
      "text/plain": [
       "7"
      ]
     },
     "execution_count": 22,
     "metadata": {},
     "output_type": "execute_result"
    }
   ],
   "source": [
    "regression_line(x) = fma(3,x,1) # fma(a, b, c) = a*b+c\n",
    "regression_line(2)"
   ]
  },
  {
   "cell_type": "code",
   "execution_count": 23,
   "id": "67e92f43",
   "metadata": {},
   "outputs": [
    {
     "data": {
      "text/plain": [
       "3-element Vector{Int64}:\n",
       "  7\n",
       " 10\n",
       " 13"
      ]
     },
     "execution_count": 23,
     "metadata": {},
     "output_type": "execute_result"
    }
   ],
   "source": [
    "# regression_line([2, 3, 4]) // error\n",
    "regression_line.([2, 3, 4])"
   ]
  },
  {
   "cell_type": "code",
   "execution_count": 24,
   "id": "36eeece1",
   "metadata": {},
   "outputs": [
    {
     "data": {
      "text/plain": [
       "3-element Vector{Int64}:\n",
       "  4\n",
       "  9\n",
       " 16"
      ]
     },
     "execution_count": 24,
     "metadata": {},
     "output_type": "execute_result"
    }
   ],
   "source": [
    "squared.([2, 3, 4])"
   ]
  },
  {
   "cell_type": "code",
   "execution_count": 25,
   "id": "a5ce3931",
   "metadata": {},
   "outputs": [
    {
     "data": {
      "text/plain": [
       "3-element Vector{Int64}:\n",
       "  4\n",
       "  9\n",
       " 16"
      ]
     },
     "execution_count": 25,
     "metadata": {},
     "output_type": "execute_result"
    }
   ],
   "source": [
    "map(squared, [2, 3, 4])"
   ]
  },
  {
   "cell_type": "markdown",
   "id": "cb1c02b4",
   "metadata": {
    "slideshow": {
     "slide_type": "slide"
    }
   },
   "source": [
    "### パッケージ\n",
    "\n",
    "https://julialang.org/packages/ からどんなパッケージがあるのかを閲覧することができる。"
   ]
  },
  {
   "cell_type": "code",
   "execution_count": 2,
   "id": "eec2d21b",
   "metadata": {
    "slideshow": {
     "slide_type": "subslide"
    }
   },
   "outputs": [
    {
     "name": "stdout",
     "output_type": "stream",
     "text": [
      "Collecting package metadata (current_repodata.json): ...working... done\r\n",
      "Solving environment: ...working... done\r\n",
      "\r\n",
      "# All requested packages already installed.\r\n",
      "\r\n"
     ]
    },
    {
     "name": "stderr",
     "output_type": "stream",
     "text": [
      "\u001b[32m\u001b[1m    Updating\u001b[22m\u001b[39m registry at `C:\\Users\\yusuke.kanai\\.julia\\registries\\General.toml`\n",
      "\u001b[32m\u001b[1m   Resolving\u001b[22m\u001b[39m package versions...\n",
      "\u001b[32m\u001b[1m  No Changes\u001b[22m\u001b[39m to `C:\\Users\\yusuke.kanai\\.julia\\environments\\v1.7\\Project.toml`\n",
      "\u001b[32m\u001b[1m  No Changes\u001b[22m\u001b[39m to `C:\\Users\\yusuke.kanai\\.julia\\environments\\v1.7\\Manifest.toml`\n",
      "\u001b[32m\u001b[1m   Resolving\u001b[22m\u001b[39m package versions...\n",
      "\u001b[32m\u001b[1m  No Changes\u001b[22m\u001b[39m to `C:\\Users\\yusuke.kanai\\.julia\\environments\\v1.7\\Project.toml`\n",
      "\u001b[32m\u001b[1m  No Changes\u001b[22m\u001b[39m to `C:\\Users\\yusuke.kanai\\.julia\\environments\\v1.7\\Manifest.toml`\n",
      "\u001b[32m\u001b[1m   Resolving\u001b[22m\u001b[39m package versions...\n",
      "\u001b[32m\u001b[1m  No Changes\u001b[22m\u001b[39m to `C:\\Users\\yusuke.kanai\\.julia\\environments\\v1.7\\Project.toml`\n",
      "\u001b[32m\u001b[1m  No Changes\u001b[22m\u001b[39m to `C:\\Users\\yusuke.kanai\\.julia\\environments\\v1.7\\Manifest.toml`\n",
      "\u001b[32m\u001b[1m   Resolving\u001b[22m\u001b[39m package versions...\n",
      "\u001b[32m\u001b[1m  No Changes\u001b[22m\u001b[39m to `C:\\Users\\yusuke.kanai\\.julia\\environments\\v1.7\\Project.toml`\n",
      "\u001b[32m\u001b[1m  No Changes\u001b[22m\u001b[39m to `C:\\Users\\yusuke.kanai\\.julia\\environments\\v1.7\\Manifest.toml`\n",
      "\u001b[32m\u001b[1m   Resolving\u001b[22m\u001b[39m package versions...\n",
      "\u001b[32m\u001b[1m  No Changes\u001b[22m\u001b[39m to `C:\\Users\\yusuke.kanai\\.julia\\environments\\v1.7\\Project.toml`\n",
      "\u001b[32m\u001b[1m  No Changes\u001b[22m\u001b[39m to `C:\\Users\\yusuke.kanai\\.julia\\environments\\v1.7\\Manifest.toml`\n",
      "\u001b[32m\u001b[1m   Resolving\u001b[22m\u001b[39m package versions...\n",
      "\u001b[32m\u001b[1m  No Changes\u001b[22m\u001b[39m to `C:\\Users\\yusuke.kanai\\.julia\\environments\\v1.7\\Project.toml`\n",
      "\u001b[32m\u001b[1m  No Changes\u001b[22m\u001b[39m to `C:\\Users\\yusuke.kanai\\.julia\\environments\\v1.7\\Manifest.toml`\n",
      "┌ Info: Running `conda config --add channels conda-forge --file 'C:\\Users\\yusuke.kanai\\.julia\\conda\\3\\condarc-julia.yml' --force` in root environment\n",
      "└ @ Conda C:\\Users\\yusuke.kanai\\.julia\\packages\\Conda\\1403Y\\src\\Conda.jl:129\n",
      "Warning: 'conda-forge' already in 'channels' list, moving to the top\r\n",
      "┌ Info: Running `conda install -y rise` in root environment\n",
      "└ @ Conda C:\\Users\\yusuke.kanai\\.julia\\packages\\Conda\\1403Y\\src\\Conda.jl:129\n"
     ]
    }
   ],
   "source": [
    "# 追加\n",
    "\n",
    "using Pkg\n",
    "Pkg.add(\"Statistics\") # 統計処理\n",
    "Pkg.add(\"IJulia\") # Jupyter Notebook を使用できるようにする (Julia REPL で入れることになる)\n",
    "Pkg.add(\"PyPlot\") # Python のグラフ描画のライブラリ Matplotlib を Julia から利用する\n",
    "Pkg.add(\"Plots\") # Julia用のグラフ描画パッケージ\n",
    "Pkg.add(\"Distributions\") # 様々な確率分布を提供してくれる\n",
    "Pkg.add(\"Conda\")\n",
    "\n",
    "# 利用\n",
    "\n",
    "using Statistics\n",
    "using Plots\n",
    "\n",
    "# rise: Jupyter Notebookで作成したものをスライドにできる\n",
    "using Conda\n",
    "Conda.add_channel(\"conda-forge\")\n",
    "Conda.add(\"rise\")"
   ]
  },
  {
   "cell_type": "code",
   "execution_count": 27,
   "id": "b4689a59",
   "metadata": {
    "slideshow": {
     "slide_type": "subslide"
    }
   },
   "outputs": [
    {
     "name": "stdout",
     "output_type": "stream",
     "text": [
      "search: \u001b[0m\u001b[1mm\u001b[22m\u001b[0m\u001b[1me\u001b[22m\u001b[0m\u001b[1ma\u001b[22m\u001b[0m\u001b[1mn\u001b[22m \u001b[0m\u001b[1mm\u001b[22m\u001b[0m\u001b[1me\u001b[22m\u001b[0m\u001b[1ma\u001b[22m\u001b[0m\u001b[1mn\u001b[22m! \u001b[0m\u001b[1mm\u001b[22m\u001b[0m\u001b[1me\u001b[22mdi\u001b[0m\u001b[1ma\u001b[22m\u001b[0m\u001b[1mn\u001b[22m \u001b[0m\u001b[1mm\u001b[22m\u001b[0m\u001b[1me\u001b[22mdi\u001b[0m\u001b[1ma\u001b[22m\u001b[0m\u001b[1mn\u001b[22m! weighted_color_\u001b[0m\u001b[1mm\u001b[22m\u001b[0m\u001b[1me\u001b[22m\u001b[0m\u001b[1ma\u001b[22m\u001b[0m\u001b[1mn\u001b[22m PKG\u001b[0m\u001b[1mM\u001b[22mOD\u001b[0m\u001b[1mE\u001b[22m_M\u001b[0m\u001b[1mA\u001b[22m\u001b[0m\u001b[1mN\u001b[22mIFEST\n",
      "\n"
     ]
    },
    {
     "data": {
      "text/latex": [
       "\\begin{verbatim}\n",
       "mean(itr)\n",
       "\\end{verbatim}\n",
       "Compute the mean of all elements in a collection.\n",
       "\n",
       "\\begin{quote}\n",
       "\\textbf{note}\n",
       "\n",
       "Note\n",
       "\n",
       "If \\texttt{itr} contains \\texttt{NaN} or \\href{@ref}{\\texttt{missing}} values, the result is also \\texttt{NaN} or \\texttt{missing} (\\texttt{missing} takes precedence if array contains both). Use the \\href{@ref}{\\texttt{skipmissing}} function to omit \\texttt{missing} entries and compute the mean of non-missing values.\n",
       "\n",
       "\\end{quote}\n",
       "\\section{Examples}\n",
       "\\begin{verbatim}\n",
       "julia> using Statistics\n",
       "\n",
       "julia> mean(1:20)\n",
       "10.5\n",
       "\n",
       "julia> mean([1, missing, 3])\n",
       "missing\n",
       "\n",
       "julia> mean(skipmissing([1, missing, 3]))\n",
       "2.0\n",
       "\\end{verbatim}\n",
       "\\rule{\\textwidth}{1pt}\n",
       "\\begin{verbatim}\n",
       "mean(f::Function, itr)\n",
       "\\end{verbatim}\n",
       "Apply the function \\texttt{f} to each element of collection \\texttt{itr} and take the mean.\n",
       "\n",
       "\\begin{verbatim}\n",
       "julia> using Statistics\n",
       "\n",
       "julia> mean(√, [1, 2, 3])\n",
       "1.3820881233139908\n",
       "\n",
       "julia> mean([√1, √2, √3])\n",
       "1.3820881233139908\n",
       "\\end{verbatim}\n",
       "\\rule{\\textwidth}{1pt}\n",
       "\\begin{verbatim}\n",
       "mean(f::Function, A::AbstractArray; dims)\n",
       "\\end{verbatim}\n",
       "Apply the function \\texttt{f} to each element of array \\texttt{A} and take the mean over dimensions \\texttt{dims}.\n",
       "\n",
       "\\begin{quote}\n",
       "\\textbf{compat}\n",
       "\n",
       "Julia 1.3\n",
       "\n",
       "This method requires at least Julia 1.3.\n",
       "\n",
       "\\end{quote}\n",
       "\\begin{verbatim}\n",
       "julia> using Statistics\n",
       "\n",
       "julia> mean(√, [1, 2, 3])\n",
       "1.3820881233139908\n",
       "\n",
       "julia> mean([√1, √2, √3])\n",
       "1.3820881233139908\n",
       "\n",
       "julia> mean(√, [1 2 3; 4 5 6], dims=2)\n",
       "2×1 Matrix{Float64}:\n",
       " 1.3820881233139908\n",
       " 2.2285192400943226\n",
       "\\end{verbatim}\n",
       "\\rule{\\textwidth}{1pt}\n",
       "\\begin{verbatim}\n",
       "mean(A::AbstractArray; dims)\n",
       "\\end{verbatim}\n",
       "Compute the mean of an array over the given dimensions.\n",
       "\n",
       "\\begin{quote}\n",
       "\\textbf{compat}\n",
       "\n",
       "Julia 1.1\n",
       "\n",
       "\\texttt{mean} for empty arrays requires at least Julia 1.1.\n",
       "\n",
       "\\end{quote}\n",
       "\\section{Examples}\n",
       "\\begin{verbatim}\n",
       "julia> using Statistics\n",
       "\n",
       "julia> A = [1 2; 3 4]\n",
       "2×2 Matrix{Int64}:\n",
       " 1  2\n",
       " 3  4\n",
       "\n",
       "julia> mean(A, dims=1)\n",
       "1×2 Matrix{Float64}:\n",
       " 2.0  3.0\n",
       "\n",
       "julia> mean(A, dims=2)\n",
       "2×1 Matrix{Float64}:\n",
       " 1.5\n",
       " 3.5\n",
       "\\end{verbatim}\n",
       "\\rule{\\textwidth}{1pt}\n",
       "\\begin{verbatim}\n",
       "mean(A::AbstractArray, w::AbstractWeights[, dims::Int])\n",
       "\\end{verbatim}\n",
       "Compute the weighted mean of array \\texttt{A} with weight vector \\texttt{w} (of type \\texttt{AbstractWeights}). If \\texttt{dim} is provided, compute the weighted mean along dimension \\texttt{dims}.\n",
       "\n",
       "\\section{Examples}\n",
       "\\begin{verbatim}\n",
       "n = 20\n",
       "x = rand(n)\n",
       "w = rand(n)\n",
       "mean(x, weights(w))\n",
       "\\end{verbatim}\n"
      ],
      "text/markdown": [
       "```\n",
       "mean(itr)\n",
       "```\n",
       "\n",
       "Compute the mean of all elements in a collection.\n",
       "\n",
       "!!! note\n",
       "    If `itr` contains `NaN` or [`missing`](@ref) values, the result is also `NaN` or `missing` (`missing` takes precedence if array contains both). Use the [`skipmissing`](@ref) function to omit `missing` entries and compute the mean of non-missing values.\n",
       "\n",
       "\n",
       "# Examples\n",
       "\n",
       "```jldoctest\n",
       "julia> using Statistics\n",
       "\n",
       "julia> mean(1:20)\n",
       "10.5\n",
       "\n",
       "julia> mean([1, missing, 3])\n",
       "missing\n",
       "\n",
       "julia> mean(skipmissing([1, missing, 3]))\n",
       "2.0\n",
       "```\n",
       "\n",
       "---\n",
       "\n",
       "```\n",
       "mean(f::Function, itr)\n",
       "```\n",
       "\n",
       "Apply the function `f` to each element of collection `itr` and take the mean.\n",
       "\n",
       "```jldoctest\n",
       "julia> using Statistics\n",
       "\n",
       "julia> mean(√, [1, 2, 3])\n",
       "1.3820881233139908\n",
       "\n",
       "julia> mean([√1, √2, √3])\n",
       "1.3820881233139908\n",
       "```\n",
       "\n",
       "---\n",
       "\n",
       "```\n",
       "mean(f::Function, A::AbstractArray; dims)\n",
       "```\n",
       "\n",
       "Apply the function `f` to each element of array `A` and take the mean over dimensions `dims`.\n",
       "\n",
       "!!! compat \"Julia 1.3\"\n",
       "    This method requires at least Julia 1.3.\n",
       "\n",
       "\n",
       "```jldoctest\n",
       "julia> using Statistics\n",
       "\n",
       "julia> mean(√, [1, 2, 3])\n",
       "1.3820881233139908\n",
       "\n",
       "julia> mean([√1, √2, √3])\n",
       "1.3820881233139908\n",
       "\n",
       "julia> mean(√, [1 2 3; 4 5 6], dims=2)\n",
       "2×1 Matrix{Float64}:\n",
       " 1.3820881233139908\n",
       " 2.2285192400943226\n",
       "```\n",
       "\n",
       "---\n",
       "\n",
       "```\n",
       "mean(A::AbstractArray; dims)\n",
       "```\n",
       "\n",
       "Compute the mean of an array over the given dimensions.\n",
       "\n",
       "!!! compat \"Julia 1.1\"\n",
       "    `mean` for empty arrays requires at least Julia 1.1.\n",
       "\n",
       "\n",
       "# Examples\n",
       "\n",
       "```jldoctest\n",
       "julia> using Statistics\n",
       "\n",
       "julia> A = [1 2; 3 4]\n",
       "2×2 Matrix{Int64}:\n",
       " 1  2\n",
       " 3  4\n",
       "\n",
       "julia> mean(A, dims=1)\n",
       "1×2 Matrix{Float64}:\n",
       " 2.0  3.0\n",
       "\n",
       "julia> mean(A, dims=2)\n",
       "2×1 Matrix{Float64}:\n",
       " 1.5\n",
       " 3.5\n",
       "```\n",
       "\n",
       "---\n",
       "\n",
       "```\n",
       "mean(A::AbstractArray, w::AbstractWeights[, dims::Int])\n",
       "```\n",
       "\n",
       "Compute the weighted mean of array `A` with weight vector `w` (of type `AbstractWeights`). If `dim` is provided, compute the weighted mean along dimension `dims`.\n",
       "\n",
       "# Examples\n",
       "\n",
       "```julia\n",
       "n = 20\n",
       "x = rand(n)\n",
       "w = rand(n)\n",
       "mean(x, weights(w))\n",
       "```\n"
      ],
      "text/plain": [
       "\u001b[36m  mean(itr)\u001b[39m\n",
       "\n",
       "  Compute the mean of all elements in a collection.\n",
       "\n",
       "\u001b[36m\u001b[1m  │ \u001b[22m\u001b[39m\u001b[36m\u001b[1mNote\u001b[22m\u001b[39m\n",
       "\u001b[36m\u001b[1m  │\u001b[22m\u001b[39m\n",
       "\u001b[36m\u001b[1m  │\u001b[22m\u001b[39m  If \u001b[36mitr\u001b[39m contains \u001b[36mNaN\u001b[39m or \u001b[36mmissing\u001b[39m values, the result is also \u001b[36mNaN\u001b[39m or\n",
       "\u001b[36m\u001b[1m  │\u001b[22m\u001b[39m  \u001b[36mmissing\u001b[39m (\u001b[36mmissing\u001b[39m takes precedence if array contains both). Use the\n",
       "\u001b[36m\u001b[1m  │\u001b[22m\u001b[39m  \u001b[36mskipmissing\u001b[39m function to omit \u001b[36mmissing\u001b[39m entries and compute the mean\n",
       "\u001b[36m\u001b[1m  │\u001b[22m\u001b[39m  of non-missing values.\n",
       "\n",
       "\u001b[1m  Examples\u001b[22m\n",
       "\u001b[1m  ≡≡≡≡≡≡≡≡≡≡\u001b[22m\n",
       "\n",
       "\u001b[36m  julia> using Statistics\u001b[39m\n",
       "\u001b[36m  \u001b[39m\n",
       "\u001b[36m  julia> mean(1:20)\u001b[39m\n",
       "\u001b[36m  10.5\u001b[39m\n",
       "\u001b[36m  \u001b[39m\n",
       "\u001b[36m  julia> mean([1, missing, 3])\u001b[39m\n",
       "\u001b[36m  missing\u001b[39m\n",
       "\u001b[36m  \u001b[39m\n",
       "\u001b[36m  julia> mean(skipmissing([1, missing, 3]))\u001b[39m\n",
       "\u001b[36m  2.0\u001b[39m\n",
       "\n",
       "  ────────────────────────────────────────────────────────────────────────────\n",
       "\n",
       "\u001b[36m  mean(f::Function, itr)\u001b[39m\n",
       "\n",
       "  Apply the function \u001b[36mf\u001b[39m to each element of collection \u001b[36mitr\u001b[39m and take the mean.\n",
       "\n",
       "\u001b[36m  julia> using Statistics\u001b[39m\n",
       "\u001b[36m  \u001b[39m\n",
       "\u001b[36m  julia> mean(√, [1, 2, 3])\u001b[39m\n",
       "\u001b[36m  1.3820881233139908\u001b[39m\n",
       "\u001b[36m  \u001b[39m\n",
       "\u001b[36m  julia> mean([√1, √2, √3])\u001b[39m\n",
       "\u001b[36m  1.3820881233139908\u001b[39m\n",
       "\n",
       "  ────────────────────────────────────────────────────────────────────────────\n",
       "\n",
       "\u001b[36m  mean(f::Function, A::AbstractArray; dims)\u001b[39m\n",
       "\n",
       "  Apply the function \u001b[36mf\u001b[39m to each element of array \u001b[36mA\u001b[39m and take the mean over\n",
       "  dimensions \u001b[36mdims\u001b[39m.\n",
       "\n",
       "\u001b[39m\u001b[1m  │ \u001b[22m\u001b[39m\u001b[1mJulia 1.3\u001b[22m\n",
       "\u001b[39m\u001b[1m  │\u001b[22m\n",
       "\u001b[39m\u001b[1m  │\u001b[22m  This method requires at least Julia 1.3.\n",
       "\n",
       "\u001b[36m  julia> using Statistics\u001b[39m\n",
       "\u001b[36m  \u001b[39m\n",
       "\u001b[36m  julia> mean(√, [1, 2, 3])\u001b[39m\n",
       "\u001b[36m  1.3820881233139908\u001b[39m\n",
       "\u001b[36m  \u001b[39m\n",
       "\u001b[36m  julia> mean([√1, √2, √3])\u001b[39m\n",
       "\u001b[36m  1.3820881233139908\u001b[39m\n",
       "\u001b[36m  \u001b[39m\n",
       "\u001b[36m  julia> mean(√, [1 2 3; 4 5 6], dims=2)\u001b[39m\n",
       "\u001b[36m  2×1 Matrix{Float64}:\u001b[39m\n",
       "\u001b[36m   1.3820881233139908\u001b[39m\n",
       "\u001b[36m   2.2285192400943226\u001b[39m\n",
       "\n",
       "  ────────────────────────────────────────────────────────────────────────────\n",
       "\n",
       "\u001b[36m  mean(A::AbstractArray; dims)\u001b[39m\n",
       "\n",
       "  Compute the mean of an array over the given dimensions.\n",
       "\n",
       "\u001b[39m\u001b[1m  │ \u001b[22m\u001b[39m\u001b[1mJulia 1.1\u001b[22m\n",
       "\u001b[39m\u001b[1m  │\u001b[22m\n",
       "\u001b[39m\u001b[1m  │\u001b[22m  \u001b[36mmean\u001b[39m for empty arrays requires at least Julia 1.1.\n",
       "\n",
       "\u001b[1m  Examples\u001b[22m\n",
       "\u001b[1m  ≡≡≡≡≡≡≡≡≡≡\u001b[22m\n",
       "\n",
       "\u001b[36m  julia> using Statistics\u001b[39m\n",
       "\u001b[36m  \u001b[39m\n",
       "\u001b[36m  julia> A = [1 2; 3 4]\u001b[39m\n",
       "\u001b[36m  2×2 Matrix{Int64}:\u001b[39m\n",
       "\u001b[36m   1  2\u001b[39m\n",
       "\u001b[36m   3  4\u001b[39m\n",
       "\u001b[36m  \u001b[39m\n",
       "\u001b[36m  julia> mean(A, dims=1)\u001b[39m\n",
       "\u001b[36m  1×2 Matrix{Float64}:\u001b[39m\n",
       "\u001b[36m   2.0  3.0\u001b[39m\n",
       "\u001b[36m  \u001b[39m\n",
       "\u001b[36m  julia> mean(A, dims=2)\u001b[39m\n",
       "\u001b[36m  2×1 Matrix{Float64}:\u001b[39m\n",
       "\u001b[36m   1.5\u001b[39m\n",
       "\u001b[36m   3.5\u001b[39m\n",
       "\n",
       "  ────────────────────────────────────────────────────────────────────────────\n",
       "\n",
       "\u001b[36m  mean(A::AbstractArray, w::AbstractWeights[, dims::Int])\u001b[39m\n",
       "\n",
       "  Compute the weighted mean of array \u001b[36mA\u001b[39m with weight vector \u001b[36mw\u001b[39m (of type\n",
       "  \u001b[36mAbstractWeights\u001b[39m). If \u001b[36mdim\u001b[39m is provided, compute the weighted mean along\n",
       "  dimension \u001b[36mdims\u001b[39m.\n",
       "\n",
       "\u001b[1m  Examples\u001b[22m\n",
       "\u001b[1m  ≡≡≡≡≡≡≡≡≡≡\u001b[22m\n",
       "\n",
       "\u001b[36m  n = 20\u001b[39m\n",
       "\u001b[36m  x = rand(n)\u001b[39m\n",
       "\u001b[36m  w = rand(n)\u001b[39m\n",
       "\u001b[36m  mean(x, weights(w))\u001b[39m"
      ]
     },
     "execution_count": 27,
     "metadata": {},
     "output_type": "execute_result"
    }
   ],
   "source": [
    "?mean"
   ]
  },
  {
   "cell_type": "markdown",
   "id": "a2b53f2c",
   "metadata": {
    "slideshow": {
     "slide_type": "slide"
    }
   },
   "source": [
    "## 実演"
   ]
  },
  {
   "cell_type": "markdown",
   "id": "4062ca51",
   "metadata": {
    "slideshow": {
     "slide_type": "slide"
    }
   },
   "source": [
    "### 多項式近似\n",
    "\n",
    "4次関数の多項式近似を例に紹介する。"
   ]
  },
  {
   "cell_type": "markdown",
   "id": "5f81f71f",
   "metadata": {
    "slideshow": {
     "slide_type": "subslide"
    }
   },
   "source": [
    "#### データ\n",
    "\n",
    "データは -2 ～ 3 の間で $f(x) = 0.3x^4 - 0.8x^3 - 0.6x^2 + 2.4x + 1 + \\epsilon$ から生成されたとする "
   ]
  },
  {
   "cell_type": "code",
   "execution_count": 3,
   "id": "1b6a59a1",
   "metadata": {
    "slideshow": {
     "slide_type": "-"
    }
   },
   "outputs": [
    {
     "data": {
      "image/png": "[encoded data removed]",
      "image/svg+xml": "<?xml version=\"1.0\" encoding=\"utf-8\"?>\n<svg xmlns=\"http://www.w3.org/2000/svg\" xmlns:xlink=\"http://www.w3.org/1999/xlink\" width=\"600\" height=\"400\" viewBox=\"0 0 2400 1600\">\n<defs>\n  <clipPath id=\"clip750\">\n    <rect x=\"0\" y=\"0\" width=\"2400\" height=\"1600\"/>\n  </clipPath>\n</defs>\n<path clip-path=\"url(#clip750)\" d=\"\nM0 1600 L2400 1600 L2400 0 L0 0  Z\n  \" fill=\"#ffffff\" fill-rule=\"evenodd\" fill-opacity=\"1\"/>\n<defs>\n  <clipPath id=\"clip751\">\n    <rect x=\"480\" y=\"0\" width=\"1681\" height=\"1600\"/>\n  </clipPath>\n</defs>\n<path clip-path=\"url(#clip750)\" d=\"\nM147.108 1486.45 L2352.76 1486.45 L2352.76 47.2441 L147.108 47.2441  Z\n  \" fill=\"#ffffff\" fill-rule=\"evenodd\" fill-opacity=\"1\"/>\n<defs>\n  <clipPath id=\"clip752\">\n    <rect x=\"147\" y=\"47\" width=\"2207\" height=\"1440\"/>\n  </clipPath>\n</defs>\n<polyline clip-path=\"url(#clip752)\" style=\"stroke:#000000; stroke-linecap:butt; stroke-linejoin:round; stroke-width:2; stroke-opacity:0.1; fill:none\" points=\"\n  209.532,1486.45 209.532,47.2441 \n  \"/>\n<polyline clip-path=\"url(#clip752)\" style=\"stroke:#000000; stroke-linecap:butt; stroke-linejoin:round; stroke-width:2; stroke-opacity:0.1; fill:none\" points=\"\n  625.692,1486.45 625.692,47.2441 \n  \"/>\n<polyline clip-path=\"url(#clip752)\" style=\"stroke:#000000; stroke-linecap:butt; stroke-linejoin:round; stroke-width:2; stroke-opacity:0.1; fill:none\" points=\"\n  1041.85,1486.45 1041.85,47.2441 \n  \"/>\n<polyline clip-path=\"url(#clip752)\" style=\"stroke:#000000; stroke-linecap:butt; stroke-linejoin:round; stroke-width:2; stroke-opacity:0.1; fill:none\" points=\"\n  1458.01,1486.45 1458.01,47.2441 \n  \"/>\n<polyline clip-path=\"url(#clip752)\" style=\"stroke:#000000; stroke-linecap:butt; stroke-linejoin:round; stroke-width:2; stroke-opacity:0.1; fill:none\" points=\"\n  1874.17,1486.45 1874.17,47.2441 \n  \"/>\n<polyline clip-path=\"url(#clip752)\" style=\"stroke:#000000; stroke-linecap:butt; stroke-linejoin:round; stroke-width:2; stroke-opacity:0.1; fill:none\" points=\"\n  2290.33,1486.45 2290.33,47.2441 \n  \"/>\n<polyline clip-path=\"url(#clip750)\" style=\"stroke:#000000; stroke-linecap:butt; stroke-linejoin:round; stroke-width:4; stroke-opacity:1; fill:none\" points=\"\n  147.108,1486.45 2352.76,1486.45 \n  \"/>\n<polyline clip-path=\"url(#clip750)\" style=\"stroke:#000000; stroke-linecap:butt; stroke-linejoin:round; stroke-width:4; stroke-opacity:1; fill:none\" points=\"\n  209.532,1486.45 209.532,1467.55 \n  \"/>\n<polyline clip-path=\"url(#clip750)\" style=\"stroke:#000000; stroke-linecap:butt; stroke-linejoin:round; stroke-width:4; stroke-opacity:1; fill:none\" points=\"\n  625.692,1486.45 625.692,1467.55 \n  \"/>\n<polyline clip-path=\"url(#clip750)\" style=\"stroke:#000000; stroke-linecap:butt; stroke-linejoin:round; stroke-width:4; stroke-opacity:1; fill:none\" points=\"\n  1041.85,1486.45 1041.85,1467.55 \n  \"/>\n<polyline clip-path=\"url(#clip750)\" style=\"stroke:#000000; stroke-linecap:butt; stroke-linejoin:round; stroke-width:4; stroke-opacity:1; fill:none\" points=\"\n  1458.01,1486.45 1458.01,1467.55 \n  \"/>\n<polyline clip-path=\"url(#clip750)\" style=\"stroke:#000000; stroke-linecap:butt; stroke-linejoin:round; stroke-width:4; stroke-opacity:1; fill:none\" points=\"\n  1874.17,1486.45 1874.17,1467.55 \n  \"/>\n<polyline clip-path=\"url(#clip750)\" style=\"stroke:#000000; stroke-linecap:butt; stroke-linejoin:round; stroke-width:4; stroke-opacity:1; fill:none\" points=\"\n  2290.33,1486.45 2290.33,1467.55 \n  \"/>\n<path clip-path=\"url(#clip750)\" d=\"M179.474 1532.02 L209.15 1532.02 L209.15 1535.95 L179.474 1535.95 L179.474 1532.02 Z\" fill=\"#000000\" fill-rule=\"evenodd\" fill-opacity=\"1\" /><path clip-path=\"url(#clip750)\" d=\"M223.27 1544.91 L239.589 1544.91 L239.589 1548.85 L217.645 1548.85 L217.645 1544.91 Q220.307 1542.16 224.89 1537.53 Q229.497 1532.88 230.677 1531.53 Q232.923 1529.01 233.802 1527.27 Q234.705 1525.51 234.705 1523.82 Q234.705 1521.07 232.761 1519.33 Q230.839 1517.6 227.737 1517.6 Q225.538 1517.6 223.085 1518.36 Q220.654 1519.13 217.876 1520.68 L217.876 1515.95 Q220.7 1514.82 223.154 1514.24 Q225.608 1513.66 227.645 1513.66 Q233.015 1513.66 236.21 1516.35 Q239.404 1519.03 239.404 1523.52 Q239.404 1525.65 238.594 1527.57 Q237.807 1529.47 235.7 1532.07 Q235.122 1532.74 232.02 1535.95 Q228.918 1539.15 223.27 1544.91 Z\" fill=\"#000000\" fill-rule=\"evenodd\" fill-opacity=\"1\" /><path clip-path=\"url(#clip750)\" d=\"M595.449 1532.02 L625.124 1532.02 L625.124 1535.95 L595.449 1535.95 L595.449 1532.02 Z\" fill=\"#000000\" fill-rule=\"evenodd\" fill-opacity=\"1\" /><path clip-path=\"url(#clip750)\" d=\"M636.027 1544.91 L643.666 1544.91 L643.666 1518.55 L635.356 1520.21 L635.356 1515.95 L643.62 1514.29 L648.296 1514.29 L648.296 1544.91 L655.935 1544.91 L655.935 1548.85 L636.027 1548.85 L636.027 1544.91 Z\" fill=\"#000000\" fill-rule=\"evenodd\" fill-opacity=\"1\" /><path clip-path=\"url(#clip750)\" d=\"M1041.85 1517.37 Q1038.24 1517.37 1036.41 1520.93 Q1034.61 1524.47 1034.61 1531.6 Q1034.61 1538.71 1036.41 1542.27 Q1038.24 1545.82 1041.85 1545.82 Q1045.49 1545.82 1047.29 1542.27 Q1049.12 1538.71 1049.12 1531.6 Q1049.12 1524.47 1047.29 1520.93 Q1045.49 1517.37 1041.85 1517.37 M1041.85 1513.66 Q1047.66 1513.66 1050.72 1518.27 Q1053.8 1522.85 1053.8 1531.6 Q1053.8 1540.33 1050.72 1544.94 Q1047.66 1549.52 1041.85 1549.52 Q1036.04 1549.52 1032.96 1544.94 Q1029.91 1540.33 1029.91 1531.6 Q1029.91 1522.85 1032.96 1518.27 Q1036.04 1513.66 1041.85 1513.66 Z\" fill=\"#000000\" fill-rule=\"evenodd\" fill-opacity=\"1\" /><path clip-path=\"url(#clip750)\" d=\"M1448.39 1544.91 L1456.03 1544.91 L1456.03 1518.55 L1447.72 1520.21 L1447.72 1515.95 L1455.99 1514.29 L1460.66 1514.29 L1460.66 1544.91 L1468.3 1544.91 L1468.3 1548.85 L1448.39 1548.85 L1448.39 1544.91 Z\" fill=\"#000000\" fill-rule=\"evenodd\" fill-opacity=\"1\" /><path clip-path=\"url(#clip750)\" d=\"M1868.82 1544.91 L1885.14 1544.91 L1885.14 1548.85 L1863.2 1548.85 L1863.2 1544.91 Q1865.86 1542.16 1870.44 1537.53 Q1875.05 1532.88 1876.23 1531.53 Q1878.48 1529.01 1879.36 1527.27 Q1880.26 1525.51 1880.26 1523.82 Q1880.26 1521.07 1878.32 1519.33 Q1876.39 1517.6 1873.29 1517.6 Q1871.09 1517.6 1868.64 1518.36 Q1866.21 1519.13 1863.43 1520.68 L1863.43 1515.95 Q1866.26 1514.82 1868.71 1514.24 Q1871.16 1513.66 1873.2 1513.66 Q1878.57 1513.66 1881.76 1516.35 Q1884.96 1519.03 1884.96 1523.52 Q1884.96 1525.65 1884.15 1527.57 Q1883.36 1529.47 1881.26 1532.07 Q1880.68 1532.74 1877.57 1535.95 Q1874.47 1539.15 1868.82 1544.91 Z\" fill=\"#000000\" fill-rule=\"evenodd\" fill-opacity=\"1\" /><path clip-path=\"url(#clip750)\" d=\"M2294.58 1530.21 Q2297.94 1530.93 2299.81 1533.2 Q2301.71 1535.47 2301.71 1538.8 Q2301.71 1543.92 2298.19 1546.72 Q2294.67 1549.52 2288.19 1549.52 Q2286.01 1549.52 2283.7 1549.08 Q2281.41 1548.66 2278.95 1547.81 L2278.95 1543.29 Q2280.9 1544.43 2283.21 1545.01 Q2285.53 1545.58 2288.05 1545.58 Q2292.45 1545.58 2294.74 1543.85 Q2297.06 1542.11 2297.06 1538.8 Q2297.06 1535.75 2294.9 1534.03 Q2292.77 1532.3 2288.95 1532.3 L2284.93 1532.3 L2284.93 1528.45 L2289.14 1528.45 Q2292.59 1528.45 2294.42 1527.09 Q2296.25 1525.7 2296.25 1523.11 Q2296.25 1520.45 2294.35 1519.03 Q2292.47 1517.6 2288.95 1517.6 Q2287.03 1517.6 2284.83 1518.01 Q2282.64 1518.43 2280 1519.31 L2280 1515.14 Q2282.66 1514.4 2284.97 1514.03 Q2287.31 1513.66 2289.37 1513.66 Q2294.7 1513.66 2297.8 1516.09 Q2300.9 1518.5 2300.9 1522.62 Q2300.9 1525.49 2299.26 1527.48 Q2297.61 1529.45 2294.58 1530.21 Z\" fill=\"#000000\" fill-rule=\"evenodd\" fill-opacity=\"1\" /><polyline clip-path=\"url(#clip752)\" style=\"stroke:#000000; stroke-linecap:butt; stroke-linejoin:round; stroke-width:2; stroke-opacity:0.1; fill:none\" points=\"\n  147.108,1461.99 2352.76,1461.99 \n  \"/>\n<polyline clip-path=\"url(#clip752)\" style=\"stroke:#000000; stroke-linecap:butt; stroke-linejoin:round; stroke-width:2; stroke-opacity:0.1; fill:none\" points=\"\n  147.108,1109.38 2352.76,1109.38 \n  \"/>\n<polyline clip-path=\"url(#clip752)\" style=\"stroke:#000000; stroke-linecap:butt; stroke-linejoin:round; stroke-width:2; stroke-opacity:0.1; fill:none\" points=\"\n  147.108,756.765 2352.76,756.765 \n  \"/>\n<polyline clip-path=\"url(#clip752)\" style=\"stroke:#000000; stroke-linecap:butt; stroke-linejoin:round; stroke-width:2; stroke-opacity:0.1; fill:none\" points=\"\n  147.108,404.15 2352.76,404.15 \n  \"/>\n<polyline clip-path=\"url(#clip752)\" style=\"stroke:#000000; stroke-linecap:butt; stroke-linejoin:round; stroke-width:2; stroke-opacity:0.1; fill:none\" points=\"\n  147.108,51.5352 2352.76,51.5352 \n  \"/>\n<polyline clip-path=\"url(#clip750)\" style=\"stroke:#000000; stroke-linecap:butt; stroke-linejoin:round; stroke-width:4; stroke-opacity:1; fill:none\" points=\"\n  147.108,1486.45 147.108,47.2441 \n  \"/>\n<polyline clip-path=\"url(#clip750)\" style=\"stroke:#000000; stroke-linecap:butt; stroke-linejoin:round; stroke-width:4; stroke-opacity:1; fill:none\" points=\"\n  147.108,1461.99 166.005,1461.99 \n  \"/>\n<polyline clip-path=\"url(#clip750)\" style=\"stroke:#000000; stroke-linecap:butt; stroke-linejoin:round; stroke-width:4; stroke-opacity:1; fill:none\" points=\"\n  147.108,1109.38 166.005,1109.38 \n  \"/>\n<polyline clip-path=\"url(#clip750)\" style=\"stroke:#000000; stroke-linecap:butt; stroke-linejoin:round; stroke-width:4; stroke-opacity:1; fill:none\" points=\"\n  147.108,756.765 166.005,756.765 \n  \"/>\n<polyline clip-path=\"url(#clip750)\" style=\"stroke:#000000; stroke-linecap:butt; stroke-linejoin:round; stroke-width:4; stroke-opacity:1; fill:none\" points=\"\n  147.108,404.15 166.005,404.15 \n  \"/>\n<polyline clip-path=\"url(#clip750)\" style=\"stroke:#000000; stroke-linecap:butt; stroke-linejoin:round; stroke-width:4; stroke-opacity:1; fill:none\" points=\"\n  147.108,51.5352 166.005,51.5352 \n  \"/>\n<path clip-path=\"url(#clip750)\" d=\"M50.9921 1462.45 L80.6679 1462.45 L80.6679 1466.38 L50.9921 1466.38 L50.9921 1462.45 Z\" fill=\"#000000\" fill-rule=\"evenodd\" fill-opacity=\"1\" /><path clip-path=\"url(#clip750)\" d=\"M94.7882 1475.34 L111.108 1475.34 L111.108 1479.27 L89.1632 1479.27 L89.1632 1475.34 Q91.8252 1472.59 96.4085 1467.96 Q101.015 1463.3 102.196 1461.96 Q104.441 1459.44 105.321 1457.7 Q106.223 1455.94 106.223 1454.25 Q106.223 1451.5 104.279 1449.76 Q102.358 1448.02 99.2558 1448.02 Q97.0567 1448.02 94.603 1448.79 Q92.1725 1449.55 89.3947 1451.1 L89.3947 1446.38 Q92.2188 1445.25 94.6724 1444.67 Q97.1261 1444.09 99.1632 1444.09 Q104.534 1444.09 107.728 1446.77 Q110.922 1449.46 110.922 1453.95 Q110.922 1456.08 110.112 1458 Q109.325 1459.9 107.219 1462.49 Q106.64 1463.16 103.538 1466.38 Q100.436 1469.58 94.7882 1475.34 Z\" fill=\"#000000\" fill-rule=\"evenodd\" fill-opacity=\"1\" /><path clip-path=\"url(#clip750)\" d=\"M99.1632 1095.18 Q95.5521 1095.18 93.7234 1098.74 Q91.9178 1102.29 91.9178 1109.41 Q91.9178 1116.52 93.7234 1120.09 Q95.5521 1123.63 99.1632 1123.63 Q102.797 1123.63 104.603 1120.09 Q106.432 1116.52 106.432 1109.41 Q106.432 1102.29 104.603 1098.74 Q102.797 1095.18 99.1632 1095.18 M99.1632 1091.47 Q104.973 1091.47 108.029 1096.08 Q111.108 1100.66 111.108 1109.41 Q111.108 1118.14 108.029 1122.75 Q104.973 1127.33 99.1632 1127.33 Q93.353 1127.33 90.2743 1122.75 Q87.2188 1118.14 87.2188 1109.41 Q87.2188 1100.66 90.2743 1096.08 Q93.353 1091.47 99.1632 1091.47 Z\" fill=\"#000000\" fill-rule=\"evenodd\" fill-opacity=\"1\" /><path clip-path=\"url(#clip750)\" d=\"M94.7882 770.11 L111.108 770.11 L111.108 774.045 L89.1632 774.045 L89.1632 770.11 Q91.8252 767.355 96.4085 762.726 Q101.015 758.073 102.196 756.73 Q104.441 754.207 105.321 752.471 Q106.223 750.712 106.223 749.022 Q106.223 746.267 104.279 744.531 Q102.358 742.795 99.2558 742.795 Q97.0567 742.795 94.603 743.559 Q92.1725 744.323 89.3947 745.874 L89.3947 741.152 Q92.2188 740.017 94.6724 739.439 Q97.1261 738.86 99.1632 738.86 Q104.534 738.86 107.728 741.545 Q110.922 744.23 110.922 748.721 Q110.922 750.851 110.112 752.772 Q109.325 754.67 107.219 757.263 Q106.64 757.934 103.538 761.152 Q100.436 764.346 94.7882 770.11 Z\" fill=\"#000000\" fill-rule=\"evenodd\" fill-opacity=\"1\" /><path clip-path=\"url(#clip750)\" d=\"M101.524 390.944 L89.7188 409.393 L101.524 409.393 L101.524 390.944 M100.297 386.87 L106.177 386.87 L106.177 409.393 L111.108 409.393 L111.108 413.282 L106.177 413.282 L106.177 421.43 L101.524 421.43 L101.524 413.282 L85.9225 413.282 L85.9225 408.768 L100.297 386.87 Z\" fill=\"#000000\" fill-rule=\"evenodd\" fill-opacity=\"1\" /><path clip-path=\"url(#clip750)\" d=\"M99.5798 49.6718 Q96.4317 49.6718 94.5799 51.8246 Q92.7512 53.9774 92.7512 57.7273 Q92.7512 61.4542 94.5799 63.6301 Q96.4317 65.7828 99.5798 65.7828 Q102.728 65.7828 104.557 63.6301 Q106.408 61.4542 106.408 57.7273 Q106.408 53.9774 104.557 51.8246 Q102.728 49.6718 99.5798 49.6718 M108.862 35.0191 L108.862 39.2784 Q107.103 38.445 105.297 38.0052 Q103.515 37.5654 101.756 37.5654 Q97.1261 37.5654 94.6724 40.6904 Q92.2419 43.8154 91.8947 50.1348 Q93.2604 48.1209 95.3206 47.0561 Q97.3808 45.9681 99.8576 45.9681 Q105.066 45.9681 108.075 49.1394 Q111.108 52.2875 111.108 57.7273 Q111.108 63.0514 107.959 66.269 Q104.811 69.4865 99.5798 69.4865 Q93.5845 69.4865 90.4132 64.9032 Q87.2419 60.2968 87.2419 51.57 Q87.2419 43.3756 91.1308 38.5145 Q95.0197 33.6302 101.571 33.6302 Q103.33 33.6302 105.112 33.9775 Q106.918 34.3247 108.862 35.0191 Z\" fill=\"#000000\" fill-rule=\"evenodd\" fill-opacity=\"1\" /><circle clip-path=\"url(#clip752)\" cx=\"209.532\" cy=\"285.251\" r=\"14\" fill=\"#009af9\" fill-rule=\"evenodd\" fill-opacity=\"1\" stroke=\"#000000\" stroke-opacity=\"1\" stroke-width=\"3.2\"/>\n<circle clip-path=\"url(#clip752)\" cx=\"251.148\" cy=\"450.193\" r=\"14\" fill=\"#009af9\" fill-rule=\"evenodd\" fill-opacity=\"1\" stroke=\"#000000\" stroke-opacity=\"1\" stroke-width=\"3.2\"/>\n<circle clip-path=\"url(#clip752)\" cx=\"292.764\" cy=\"726.689\" r=\"14\" fill=\"#009af9\" fill-rule=\"evenodd\" fill-opacity=\"1\" stroke=\"#000000\" stroke-opacity=\"1\" stroke-width=\"3.2\"/>\n<circle clip-path=\"url(#clip752)\" cx=\"334.38\" cy=\"888.16\" r=\"14\" fill=\"#009af9\" fill-rule=\"evenodd\" fill-opacity=\"1\" stroke=\"#000000\" stroke-opacity=\"1\" stroke-width=\"3.2\"/>\n<circle clip-path=\"url(#clip752)\" cx=\"375.996\" cy=\"870.977\" r=\"14\" fill=\"#009af9\" fill-rule=\"evenodd\" fill-opacity=\"1\" stroke=\"#000000\" stroke-opacity=\"1\" stroke-width=\"3.2\"/>\n<circle clip-path=\"url(#clip752)\" cx=\"417.612\" cy=\"943.797\" r=\"14\" fill=\"#009af9\" fill-rule=\"evenodd\" fill-opacity=\"1\" stroke=\"#000000\" stroke-opacity=\"1\" stroke-width=\"3.2\"/>\n<circle clip-path=\"url(#clip752)\" cx=\"459.228\" cy=\"1085.98\" r=\"14\" fill=\"#009af9\" fill-rule=\"evenodd\" fill-opacity=\"1\" stroke=\"#000000\" stroke-opacity=\"1\" stroke-width=\"3.2\"/>\n<circle clip-path=\"url(#clip752)\" cx=\"500.844\" cy=\"1163.02\" r=\"14\" fill=\"#009af9\" fill-rule=\"evenodd\" fill-opacity=\"1\" stroke=\"#000000\" stroke-opacity=\"1\" stroke-width=\"3.2\"/>\n<circle clip-path=\"url(#clip752)\" cx=\"542.46\" cy=\"1445.72\" r=\"14\" fill=\"#009af9\" fill-rule=\"evenodd\" fill-opacity=\"1\" stroke=\"#000000\" stroke-opacity=\"1\" stroke-width=\"3.2\"/>\n<circle clip-path=\"url(#clip752)\" cx=\"584.076\" cy=\"1302.2\" r=\"14\" fill=\"#009af9\" fill-rule=\"evenodd\" fill-opacity=\"1\" stroke=\"#000000\" stroke-opacity=\"1\" stroke-width=\"3.2\"/>\n<circle clip-path=\"url(#clip752)\" cx=\"625.692\" cy=\"1268.08\" r=\"14\" fill=\"#009af9\" fill-rule=\"evenodd\" fill-opacity=\"1\" stroke=\"#000000\" stroke-opacity=\"1\" stroke-width=\"3.2\"/>\n<circle clip-path=\"url(#clip752)\" cx=\"667.308\" cy=\"1166.17\" r=\"14\" fill=\"#009af9\" fill-rule=\"evenodd\" fill-opacity=\"1\" stroke=\"#000000\" stroke-opacity=\"1\" stroke-width=\"3.2\"/>\n<circle clip-path=\"url(#clip752)\" cx=\"708.924\" cy=\"1263.4\" r=\"14\" fill=\"#009af9\" fill-rule=\"evenodd\" fill-opacity=\"1\" stroke=\"#000000\" stroke-opacity=\"1\" stroke-width=\"3.2\"/>\n<circle clip-path=\"url(#clip752)\" cx=\"750.54\" cy=\"1249.8\" r=\"14\" fill=\"#009af9\" fill-rule=\"evenodd\" fill-opacity=\"1\" stroke=\"#000000\" stroke-opacity=\"1\" stroke-width=\"3.2\"/>\n<circle clip-path=\"url(#clip752)\" cx=\"792.156\" cy=\"1184.63\" r=\"14\" fill=\"#009af9\" fill-rule=\"evenodd\" fill-opacity=\"1\" stroke=\"#000000\" stroke-opacity=\"1\" stroke-width=\"3.2\"/>\n<circle clip-path=\"url(#clip752)\" cx=\"833.772\" cy=\"1174\" r=\"14\" fill=\"#009af9\" fill-rule=\"evenodd\" fill-opacity=\"1\" stroke=\"#000000\" stroke-opacity=\"1\" stroke-width=\"3.2\"/>\n<circle clip-path=\"url(#clip752)\" cx=\"875.388\" cy=\"1154.82\" r=\"14\" fill=\"#009af9\" fill-rule=\"evenodd\" fill-opacity=\"1\" stroke=\"#000000\" stroke-opacity=\"1\" stroke-width=\"3.2\"/>\n<circle clip-path=\"url(#clip752)\" cx=\"917.004\" cy=\"1084.53\" r=\"14\" fill=\"#009af9\" fill-rule=\"evenodd\" fill-opacity=\"1\" stroke=\"#000000\" stroke-opacity=\"1\" stroke-width=\"3.2\"/>\n<circle clip-path=\"url(#clip752)\" cx=\"958.62\" cy=\"1055.22\" r=\"14\" fill=\"#009af9\" fill-rule=\"evenodd\" fill-opacity=\"1\" stroke=\"#000000\" stroke-opacity=\"1\" stroke-width=\"3.2\"/>\n<circle clip-path=\"url(#clip752)\" cx=\"1000.24\" cy=\"1036.27\" r=\"14\" fill=\"#009af9\" fill-rule=\"evenodd\" fill-opacity=\"1\" stroke=\"#000000\" stroke-opacity=\"1\" stroke-width=\"3.2\"/>\n<circle clip-path=\"url(#clip752)\" cx=\"1041.85\" cy=\"860.556\" r=\"14\" fill=\"#009af9\" fill-rule=\"evenodd\" fill-opacity=\"1\" stroke=\"#000000\" stroke-opacity=\"1\" stroke-width=\"3.2\"/>\n<circle clip-path=\"url(#clip752)\" cx=\"1083.47\" cy=\"870.878\" r=\"14\" fill=\"#009af9\" fill-rule=\"evenodd\" fill-opacity=\"1\" stroke=\"#000000\" stroke-opacity=\"1\" stroke-width=\"3.2\"/>\n<circle clip-path=\"url(#clip752)\" cx=\"1125.08\" cy=\"865.298\" r=\"14\" fill=\"#009af9\" fill-rule=\"evenodd\" fill-opacity=\"1\" stroke=\"#000000\" stroke-opacity=\"1\" stroke-width=\"3.2\"/>\n<circle clip-path=\"url(#clip752)\" cx=\"1166.7\" cy=\"723.06\" r=\"14\" fill=\"#009af9\" fill-rule=\"evenodd\" fill-opacity=\"1\" stroke=\"#000000\" stroke-opacity=\"1\" stroke-width=\"3.2\"/>\n<circle clip-path=\"url(#clip752)\" cx=\"1208.32\" cy=\"736.41\" r=\"14\" fill=\"#009af9\" fill-rule=\"evenodd\" fill-opacity=\"1\" stroke=\"#000000\" stroke-opacity=\"1\" stroke-width=\"3.2\"/>\n<circle clip-path=\"url(#clip752)\" cx=\"1249.93\" cy=\"794.718\" r=\"14\" fill=\"#009af9\" fill-rule=\"evenodd\" fill-opacity=\"1\" stroke=\"#000000\" stroke-opacity=\"1\" stroke-width=\"3.2\"/>\n<circle clip-path=\"url(#clip752)\" cx=\"1291.55\" cy=\"831.984\" r=\"14\" fill=\"#009af9\" fill-rule=\"evenodd\" fill-opacity=\"1\" stroke=\"#000000\" stroke-opacity=\"1\" stroke-width=\"3.2\"/>\n<circle clip-path=\"url(#clip752)\" cx=\"1333.16\" cy=\"713.818\" r=\"14\" fill=\"#009af9\" fill-rule=\"evenodd\" fill-opacity=\"1\" stroke=\"#000000\" stroke-opacity=\"1\" stroke-width=\"3.2\"/>\n<circle clip-path=\"url(#clip752)\" cx=\"1374.78\" cy=\"761.832\" r=\"14\" fill=\"#009af9\" fill-rule=\"evenodd\" fill-opacity=\"1\" stroke=\"#000000\" stroke-opacity=\"1\" stroke-width=\"3.2\"/>\n<circle clip-path=\"url(#clip752)\" cx=\"1416.4\" cy=\"600.19\" r=\"14\" fill=\"#009af9\" fill-rule=\"evenodd\" fill-opacity=\"1\" stroke=\"#000000\" stroke-opacity=\"1\" stroke-width=\"3.2\"/>\n<circle clip-path=\"url(#clip752)\" cx=\"1458.01\" cy=\"665.117\" r=\"14\" fill=\"#009af9\" fill-rule=\"evenodd\" fill-opacity=\"1\" stroke=\"#000000\" stroke-opacity=\"1\" stroke-width=\"3.2\"/>\n<circle clip-path=\"url(#clip752)\" cx=\"1499.63\" cy=\"727.005\" r=\"14\" fill=\"#009af9\" fill-rule=\"evenodd\" fill-opacity=\"1\" stroke=\"#000000\" stroke-opacity=\"1\" stroke-width=\"3.2\"/>\n<circle clip-path=\"url(#clip752)\" cx=\"1541.24\" cy=\"830.551\" r=\"14\" fill=\"#009af9\" fill-rule=\"evenodd\" fill-opacity=\"1\" stroke=\"#000000\" stroke-opacity=\"1\" stroke-width=\"3.2\"/>\n<circle clip-path=\"url(#clip752)\" cx=\"1582.86\" cy=\"669.378\" r=\"14\" fill=\"#009af9\" fill-rule=\"evenodd\" fill-opacity=\"1\" stroke=\"#000000\" stroke-opacity=\"1\" stroke-width=\"3.2\"/>\n<circle clip-path=\"url(#clip752)\" cx=\"1624.48\" cy=\"701.168\" r=\"14\" fill=\"#009af9\" fill-rule=\"evenodd\" fill-opacity=\"1\" stroke=\"#000000\" stroke-opacity=\"1\" stroke-width=\"3.2\"/>\n<circle clip-path=\"url(#clip752)\" cx=\"1666.09\" cy=\"786.726\" r=\"14\" fill=\"#009af9\" fill-rule=\"evenodd\" fill-opacity=\"1\" stroke=\"#000000\" stroke-opacity=\"1\" stroke-width=\"3.2\"/>\n<circle clip-path=\"url(#clip752)\" cx=\"1707.71\" cy=\"671.127\" r=\"14\" fill=\"#009af9\" fill-rule=\"evenodd\" fill-opacity=\"1\" stroke=\"#000000\" stroke-opacity=\"1\" stroke-width=\"3.2\"/>\n<circle clip-path=\"url(#clip752)\" cx=\"1749.32\" cy=\"680.133\" r=\"14\" fill=\"#009af9\" fill-rule=\"evenodd\" fill-opacity=\"1\" stroke=\"#000000\" stroke-opacity=\"1\" stroke-width=\"3.2\"/>\n<circle clip-path=\"url(#clip752)\" cx=\"1790.94\" cy=\"887.38\" r=\"14\" fill=\"#009af9\" fill-rule=\"evenodd\" fill-opacity=\"1\" stroke=\"#000000\" stroke-opacity=\"1\" stroke-width=\"3.2\"/>\n<circle clip-path=\"url(#clip752)\" cx=\"1832.56\" cy=\"838.44\" r=\"14\" fill=\"#009af9\" fill-rule=\"evenodd\" fill-opacity=\"1\" stroke=\"#000000\" stroke-opacity=\"1\" stroke-width=\"3.2\"/>\n<circle clip-path=\"url(#clip752)\" cx=\"1874.17\" cy=\"799.132\" r=\"14\" fill=\"#009af9\" fill-rule=\"evenodd\" fill-opacity=\"1\" stroke=\"#000000\" stroke-opacity=\"1\" stroke-width=\"3.2\"/>\n<circle clip-path=\"url(#clip752)\" cx=\"1915.79\" cy=\"655.013\" r=\"14\" fill=\"#009af9\" fill-rule=\"evenodd\" fill-opacity=\"1\" stroke=\"#000000\" stroke-opacity=\"1\" stroke-width=\"3.2\"/>\n<circle clip-path=\"url(#clip752)\" cx=\"1957.4\" cy=\"770.172\" r=\"14\" fill=\"#009af9\" fill-rule=\"evenodd\" fill-opacity=\"1\" stroke=\"#000000\" stroke-opacity=\"1\" stroke-width=\"3.2\"/>\n<circle clip-path=\"url(#clip752)\" cx=\"1999.02\" cy=\"793.411\" r=\"14\" fill=\"#009af9\" fill-rule=\"evenodd\" fill-opacity=\"1\" stroke=\"#000000\" stroke-opacity=\"1\" stroke-width=\"3.2\"/>\n<circle clip-path=\"url(#clip752)\" cx=\"2040.64\" cy=\"788.03\" r=\"14\" fill=\"#009af9\" fill-rule=\"evenodd\" fill-opacity=\"1\" stroke=\"#000000\" stroke-opacity=\"1\" stroke-width=\"3.2\"/>\n<circle clip-path=\"url(#clip752)\" cx=\"2082.25\" cy=\"773.928\" r=\"14\" fill=\"#009af9\" fill-rule=\"evenodd\" fill-opacity=\"1\" stroke=\"#000000\" stroke-opacity=\"1\" stroke-width=\"3.2\"/>\n<circle clip-path=\"url(#clip752)\" cx=\"2123.87\" cy=\"530.299\" r=\"14\" fill=\"#009af9\" fill-rule=\"evenodd\" fill-opacity=\"1\" stroke=\"#000000\" stroke-opacity=\"1\" stroke-width=\"3.2\"/>\n<circle clip-path=\"url(#clip752)\" cx=\"2165.48\" cy=\"543.125\" r=\"14\" fill=\"#009af9\" fill-rule=\"evenodd\" fill-opacity=\"1\" stroke=\"#000000\" stroke-opacity=\"1\" stroke-width=\"3.2\"/>\n<circle clip-path=\"url(#clip752)\" cx=\"2207.1\" cy=\"521.3\" r=\"14\" fill=\"#009af9\" fill-rule=\"evenodd\" fill-opacity=\"1\" stroke=\"#000000\" stroke-opacity=\"1\" stroke-width=\"3.2\"/>\n<circle clip-path=\"url(#clip752)\" cx=\"2248.72\" cy=\"261.922\" r=\"14\" fill=\"#009af9\" fill-rule=\"evenodd\" fill-opacity=\"1\" stroke=\"#000000\" stroke-opacity=\"1\" stroke-width=\"3.2\"/>\n<circle clip-path=\"url(#clip752)\" cx=\"2290.33\" cy=\"87.9763\" r=\"14\" fill=\"#009af9\" fill-rule=\"evenodd\" fill-opacity=\"1\" stroke=\"#000000\" stroke-opacity=\"1\" stroke-width=\"3.2\"/>\n<path clip-path=\"url(#clip750)\" d=\"\nM1986.8 198.898 L2279.23 198.898 L2279.23 95.2176 L1986.8 95.2176  Z\n  \" fill=\"#ffffff\" fill-rule=\"evenodd\" fill-opacity=\"1\"/>\n<polyline clip-path=\"url(#clip750)\" style=\"stroke:#000000; stroke-linecap:butt; stroke-linejoin:round; stroke-width:4; stroke-opacity:1; fill:none\" points=\"\n  1986.8,198.898 2279.23,198.898 2279.23,95.2176 1986.8,95.2176 1986.8,198.898 \n  \"/>\n<circle clip-path=\"url(#clip750)\" cx=\"2082.8\" cy=\"147.058\" r=\"23\" fill=\"#009af9\" fill-rule=\"evenodd\" fill-opacity=\"1\" stroke=\"#000000\" stroke-opacity=\"1\" stroke-width=\"5.12\"/>\n<path clip-path=\"url(#clip750)\" d=\"M2192.65 166.745 Q2190.84 171.375 2189.13 172.787 Q2187.42 174.199 2184.54 174.199 L2181.14 174.199 L2181.14 170.634 L2183.64 170.634 Q2185.4 170.634 2186.37 169.8 Q2187.35 168.967 2188.53 165.865 L2189.29 163.921 L2178.8 138.412 L2183.32 138.412 L2191.42 158.689 L2199.52 138.412 L2204.04 138.412 L2192.65 166.745 Z\" fill=\"#000000\" fill-rule=\"evenodd\" fill-opacity=\"1\" /><path clip-path=\"url(#clip750)\" d=\"M2211.33 160.402 L2218.97 160.402 L2218.97 134.037 L2210.66 135.703 L2210.66 131.444 L2218.92 129.778 L2223.6 129.778 L2223.6 160.402 L2231.23 160.402 L2231.23 164.338 L2211.33 164.338 L2211.33 160.402 Z\" fill=\"#000000\" fill-rule=\"evenodd\" fill-opacity=\"1\" /></svg>\n",
      "text/html": [
       "<?xml version=\"1.0\" encoding=\"utf-8\"?>\n",
       "<svg xmlns=\"http://www.w3.org/2000/svg\" xmlns:xlink=\"http://www.w3.org/1999/xlink\" width=\"600\" height=\"400\" viewBox=\"0 0 2400 1600\">\n",
       "<defs>\n",
       "  <clipPath id=\"clip800\">\n",
       "    <rect x=\"0\" y=\"0\" width=\"2400\" height=\"1600\"/>\n",
       "  </clipPath>\n",
       "</defs>\n",
       "<path clip-path=\"url(#clip800)\" d=\"\n",
       "M0 1600 L2400 1600 L2400 0 L0 0  Z\n",
       "  \" fill=\"#ffffff\" fill-rule=\"evenodd\" fill-opacity=\"1\"/>\n",
       "<defs>\n",
       "  <clipPath id=\"clip801\">\n",
       "    <rect x=\"480\" y=\"0\" width=\"1681\" height=\"1600\"/>\n",
       "  </clipPath>\n",
       "</defs>\n",
       "<path clip-path=\"url(#clip800)\" d=\"\n",
       "M147.108 1486.45 L2352.76 1486.45 L2352.76 47.2441 L147.108 47.2441  Z\n",
       "  \" fill=\"#ffffff\" fill-rule=\"evenodd\" fill-opacity=\"1\"/>\n",
       "<defs>\n",
       "  <clipPath id=\"clip802\">\n",
       "    <rect x=\"147\" y=\"47\" width=\"2207\" height=\"1440\"/>\n",
       "  </clipPath>\n",
       "</defs>\n",
       "<polyline clip-path=\"url(#clip802)\" style=\"stroke:#000000; stroke-linecap:butt; stroke-linejoin:round; stroke-width:2; stroke-opacity:0.1; fill:none\" points=\"\n",
       "  209.532,1486.45 209.532,47.2441 \n",
       "  \"/>\n",
       "<polyline clip-path=\"url(#clip802)\" style=\"stroke:#000000; stroke-linecap:butt; stroke-linejoin:round; stroke-width:2; stroke-opacity:0.1; fill:none\" points=\"\n",
       "  625.692,1486.45 625.692,47.2441 \n",
       "  \"/>\n",
       "<polyline clip-path=\"url(#clip802)\" style=\"stroke:#000000; stroke-linecap:butt; stroke-linejoin:round; stroke-width:2; stroke-opacity:0.1; fill:none\" points=\"\n",
       "  1041.85,1486.45 1041.85,47.2441 \n",
       "  \"/>\n",
       "<polyline clip-path=\"url(#clip802)\" style=\"stroke:#000000; stroke-linecap:butt; stroke-linejoin:round; stroke-width:2; stroke-opacity:0.1; fill:none\" points=\"\n",
       "  1458.01,1486.45 1458.01,47.2441 \n",
       "  \"/>\n",
       "<polyline clip-path=\"url(#clip802)\" style=\"stroke:#000000; stroke-linecap:butt; stroke-linejoin:round; stroke-width:2; stroke-opacity:0.1; fill:none\" points=\"\n",
       "  1874.17,1486.45 1874.17,47.2441 \n",
       "  \"/>\n",
       "<polyline clip-path=\"url(#clip802)\" style=\"stroke:#000000; stroke-linecap:butt; stroke-linejoin:round; stroke-width:2; stroke-opacity:0.1; fill:none\" points=\"\n",
       "  2290.33,1486.45 2290.33,47.2441 \n",
       "  \"/>\n",
       "<polyline clip-path=\"url(#clip800)\" style=\"stroke:#000000; stroke-linecap:butt; stroke-linejoin:round; stroke-width:4; stroke-opacity:1; fill:none\" points=\"\n",
       "  147.108,1486.45 2352.76,1486.45 \n",
       "  \"/>\n",
       "<polyline clip-path=\"url(#clip800)\" style=\"stroke:#000000; stroke-linecap:butt; stroke-linejoin:round; stroke-width:4; stroke-opacity:1; fill:none\" points=\"\n",
       "  209.532,1486.45 209.532,1467.55 \n",
       "  \"/>\n",
       "<polyline clip-path=\"url(#clip800)\" style=\"stroke:#000000; stroke-linecap:butt; stroke-linejoin:round; stroke-width:4; stroke-opacity:1; fill:none\" points=\"\n",
       "  625.692,1486.45 625.692,1467.55 \n",
       "  \"/>\n",
       "<polyline clip-path=\"url(#clip800)\" style=\"stroke:#000000; stroke-linecap:butt; stroke-linejoin:round; stroke-width:4; stroke-opacity:1; fill:none\" points=\"\n",
       "  1041.85,1486.45 1041.85,1467.55 \n",
       "  \"/>\n",
       "<polyline clip-path=\"url(#clip800)\" style=\"stroke:#000000; stroke-linecap:butt; stroke-linejoin:round; stroke-width:4; stroke-opacity:1; fill:none\" points=\"\n",
       "  1458.01,1486.45 1458.01,1467.55 \n",
       "  \"/>\n",
       "<polyline clip-path=\"url(#clip800)\" style=\"stroke:#000000; stroke-linecap:butt; stroke-linejoin:round; stroke-width:4; stroke-opacity:1; fill:none\" points=\"\n",
       "  1874.17,1486.45 1874.17,1467.55 \n",
       "  \"/>\n",
       "<polyline clip-path=\"url(#clip800)\" style=\"stroke:#000000; stroke-linecap:butt; stroke-linejoin:round; stroke-width:4; stroke-opacity:1; fill:none\" points=\"\n",
       "  2290.33,1486.45 2290.33,1467.55 \n",
       "  \"/>\n",
       "<path clip-path=\"url(#clip800)\" d=\"M179.474 1532.02 L209.15 1532.02 L209.15 1535.95 L179.474 1535.95 L179.474 1532.02 Z\" fill=\"#000000\" fill-rule=\"evenodd\" fill-opacity=\"1\" /><path clip-path=\"url(#clip800)\" d=\"M223.27 1544.91 L239.589 1544.91 L239.589 1548.85 L217.645 1548.85 L217.645 1544.91 Q220.307 1542.16 224.89 1537.53 Q229.497 1532.88 230.677 1531.53 Q232.923 1529.01 233.802 1527.27 Q234.705 1525.51 234.705 1523.82 Q234.705 1521.07 232.761 1519.33 Q230.839 1517.6 227.737 1517.6 Q225.538 1517.6 223.085 1518.36 Q220.654 1519.13 217.876 1520.68 L217.876 1515.95 Q220.7 1514.82 223.154 1514.24 Q225.608 1513.66 227.645 1513.66 Q233.015 1513.66 236.21 1516.35 Q239.404 1519.03 239.404 1523.52 Q239.404 1525.65 238.594 1527.57 Q237.807 1529.47 235.7 1532.07 Q235.122 1532.74 232.02 1535.95 Q228.918 1539.15 223.27 1544.91 Z\" fill=\"#000000\" fill-rule=\"evenodd\" fill-opacity=\"1\" /><path clip-path=\"url(#clip800)\" d=\"M595.449 1532.02 L625.124 1532.02 L625.124 1535.95 L595.449 1535.95 L595.449 1532.02 Z\" fill=\"#000000\" fill-rule=\"evenodd\" fill-opacity=\"1\" /><path clip-path=\"url(#clip800)\" d=\"M636.027 1544.91 L643.666 1544.91 L643.666 1518.55 L635.356 1520.21 L635.356 1515.95 L643.62 1514.29 L648.296 1514.29 L648.296 1544.91 L655.935 1544.91 L655.935 1548.85 L636.027 1548.85 L636.027 1544.91 Z\" fill=\"#000000\" fill-rule=\"evenodd\" fill-opacity=\"1\" /><path clip-path=\"url(#clip800)\" d=\"M1041.85 1517.37 Q1038.24 1517.37 1036.41 1520.93 Q1034.61 1524.47 1034.61 1531.6 Q1034.61 1538.71 1036.41 1542.27 Q1038.24 1545.82 1041.85 1545.82 Q1045.49 1545.82 1047.29 1542.27 Q1049.12 1538.71 1049.12 1531.6 Q1049.12 1524.47 1047.29 1520.93 Q1045.49 1517.37 1041.85 1517.37 M1041.85 1513.66 Q1047.66 1513.66 1050.72 1518.27 Q1053.8 1522.85 1053.8 1531.6 Q1053.8 1540.33 1050.72 1544.94 Q1047.66 1549.52 1041.85 1549.52 Q1036.04 1549.52 1032.96 1544.94 Q1029.91 1540.33 1029.91 1531.6 Q1029.91 1522.85 1032.96 1518.27 Q1036.04 1513.66 1041.85 1513.66 Z\" fill=\"#000000\" fill-rule=\"evenodd\" fill-opacity=\"1\" /><path clip-path=\"url(#clip800)\" d=\"M1448.39 1544.91 L1456.03 1544.91 L1456.03 1518.55 L1447.72 1520.21 L1447.72 1515.95 L1455.99 1514.29 L1460.66 1514.29 L1460.66 1544.91 L1468.3 1544.91 L1468.3 1548.85 L1448.39 1548.85 L1448.39 1544.91 Z\" fill=\"#000000\" fill-rule=\"evenodd\" fill-opacity=\"1\" /><path clip-path=\"url(#clip800)\" d=\"M1868.82 1544.91 L1885.14 1544.91 L1885.14 1548.85 L1863.2 1548.85 L1863.2 1544.91 Q1865.86 1542.16 1870.44 1537.53 Q1875.05 1532.88 1876.23 1531.53 Q1878.48 1529.01 1879.36 1527.27 Q1880.26 1525.51 1880.26 1523.82 Q1880.26 1521.07 1878.32 1519.33 Q1876.39 1517.6 1873.29 1517.6 Q1871.09 1517.6 1868.64 1518.36 Q1866.21 1519.13 1863.43 1520.68 L1863.43 1515.95 Q1866.26 1514.82 1868.71 1514.24 Q1871.16 1513.66 1873.2 1513.66 Q1878.57 1513.66 1881.76 1516.35 Q1884.96 1519.03 1884.96 1523.52 Q1884.96 1525.65 1884.15 1527.57 Q1883.36 1529.47 1881.26 1532.07 Q1880.68 1532.74 1877.57 1535.95 Q1874.47 1539.15 1868.82 1544.91 Z\" fill=\"#000000\" fill-rule=\"evenodd\" fill-opacity=\"1\" /><path clip-path=\"url(#clip800)\" d=\"M2294.58 1530.21 Q2297.94 1530.93 2299.81 1533.2 Q2301.71 1535.47 2301.71 1538.8 Q2301.71 1543.92 2298.19 1546.72 Q2294.67 1549.52 2288.19 1549.52 Q2286.01 1549.52 2283.7 1549.08 Q2281.41 1548.66 2278.95 1547.81 L2278.95 1543.29 Q2280.9 1544.43 2283.21 1545.01 Q2285.53 1545.58 2288.05 1545.58 Q2292.45 1545.58 2294.74 1543.85 Q2297.06 1542.11 2297.06 1538.8 Q2297.06 1535.75 2294.9 1534.03 Q2292.77 1532.3 2288.95 1532.3 L2284.93 1532.3 L2284.93 1528.45 L2289.14 1528.45 Q2292.59 1528.45 2294.42 1527.09 Q2296.25 1525.7 2296.25 1523.11 Q2296.25 1520.45 2294.35 1519.03 Q2292.47 1517.6 2288.95 1517.6 Q2287.03 1517.6 2284.83 1518.01 Q2282.64 1518.43 2280 1519.31 L2280 1515.14 Q2282.66 1514.4 2284.97 1514.03 Q2287.31 1513.66 2289.37 1513.66 Q2294.7 1513.66 2297.8 1516.09 Q2300.9 1518.5 2300.9 1522.62 Q2300.9 1525.49 2299.26 1527.48 Q2297.61 1529.45 2294.58 1530.21 Z\" fill=\"#000000\" fill-rule=\"evenodd\" fill-opacity=\"1\" /><polyline clip-path=\"url(#clip802)\" style=\"stroke:#000000; stroke-linecap:butt; stroke-linejoin:round; stroke-width:2; stroke-opacity:0.1; fill:none\" points=\"\n",
       "  147.108,1461.99 2352.76,1461.99 \n",
       "  \"/>\n",
       "<polyline clip-path=\"url(#clip802)\" style=\"stroke:#000000; stroke-linecap:butt; stroke-linejoin:round; stroke-width:2; stroke-opacity:0.1; fill:none\" points=\"\n",
       "  147.108,1109.38 2352.76,1109.38 \n",
       "  \"/>\n",
       "<polyline clip-path=\"url(#clip802)\" style=\"stroke:#000000; stroke-linecap:butt; stroke-linejoin:round; stroke-width:2; stroke-opacity:0.1; fill:none\" points=\"\n",
       "  147.108,756.765 2352.76,756.765 \n",
       "  \"/>\n",
       "<polyline clip-path=\"url(#clip802)\" style=\"stroke:#000000; stroke-linecap:butt; stroke-linejoin:round; stroke-width:2; stroke-opacity:0.1; fill:none\" points=\"\n",
       "  147.108,404.15 2352.76,404.15 \n",
       "  \"/>\n",
       "<polyline clip-path=\"url(#clip802)\" style=\"stroke:#000000; stroke-linecap:butt; stroke-linejoin:round; stroke-width:2; stroke-opacity:0.1; fill:none\" points=\"\n",
       "  147.108,51.5352 2352.76,51.5352 \n",
       "  \"/>\n",
       "<polyline clip-path=\"url(#clip800)\" style=\"stroke:#000000; stroke-linecap:butt; stroke-linejoin:round; stroke-width:4; stroke-opacity:1; fill:none\" points=\"\n",
       "  147.108,1486.45 147.108,47.2441 \n",
       "  \"/>\n",
       "<polyline clip-path=\"url(#clip800)\" style=\"stroke:#000000; stroke-linecap:butt; stroke-linejoin:round; stroke-width:4; stroke-opacity:1; fill:none\" points=\"\n",
       "  147.108,1461.99 166.005,1461.99 \n",
       "  \"/>\n",
       "<polyline clip-path=\"url(#clip800)\" style=\"stroke:#000000; stroke-linecap:butt; stroke-linejoin:round; stroke-width:4; stroke-opacity:1; fill:none\" points=\"\n",
       "  147.108,1109.38 166.005,1109.38 \n",
       "  \"/>\n",
       "<polyline clip-path=\"url(#clip800)\" style=\"stroke:#000000; stroke-linecap:butt; stroke-linejoin:round; stroke-width:4; stroke-opacity:1; fill:none\" points=\"\n",
       "  147.108,756.765 166.005,756.765 \n",
       "  \"/>\n",
       "<polyline clip-path=\"url(#clip800)\" style=\"stroke:#000000; stroke-linecap:butt; stroke-linejoin:round; stroke-width:4; stroke-opacity:1; fill:none\" points=\"\n",
       "  147.108,404.15 166.005,404.15 \n",
       "  \"/>\n",
       "<polyline clip-path=\"url(#clip800)\" style=\"stroke:#000000; stroke-linecap:butt; stroke-linejoin:round; stroke-width:4; stroke-opacity:1; fill:none\" points=\"\n",
       "  147.108,51.5352 166.005,51.5352 \n",
       "  \"/>\n",
       "<path clip-path=\"url(#clip800)\" d=\"M50.9921 1462.45 L80.6679 1462.45 L80.6679 1466.38 L50.9921 1466.38 L50.9921 1462.45 Z\" fill=\"#000000\" fill-rule=\"evenodd\" fill-opacity=\"1\" /><path clip-path=\"url(#clip800)\" d=\"M94.7882 1475.34 L111.108 1475.34 L111.108 1479.27 L89.1632 1479.27 L89.1632 1475.34 Q91.8252 1472.59 96.4085 1467.96 Q101.015 1463.3 102.196 1461.96 Q104.441 1459.44 105.321 1457.7 Q106.223 1455.94 106.223 1454.25 Q106.223 1451.5 104.279 1449.76 Q102.358 1448.02 99.2558 1448.02 Q97.0567 1448.02 94.603 1448.79 Q92.1725 1449.55 89.3947 1451.1 L89.3947 1446.38 Q92.2188 1445.25 94.6724 1444.67 Q97.1261 1444.09 99.1632 1444.09 Q104.534 1444.09 107.728 1446.77 Q110.922 1449.46 110.922 1453.95 Q110.922 1456.08 110.112 1458 Q109.325 1459.9 107.219 1462.49 Q106.64 1463.16 103.538 1466.38 Q100.436 1469.58 94.7882 1475.34 Z\" fill=\"#000000\" fill-rule=\"evenodd\" fill-opacity=\"1\" /><path clip-path=\"url(#clip800)\" d=\"M99.1632 1095.18 Q95.5521 1095.18 93.7234 1098.74 Q91.9178 1102.29 91.9178 1109.41 Q91.9178 1116.52 93.7234 1120.09 Q95.5521 1123.63 99.1632 1123.63 Q102.797 1123.63 104.603 1120.09 Q106.432 1116.52 106.432 1109.41 Q106.432 1102.29 104.603 1098.74 Q102.797 1095.18 99.1632 1095.18 M99.1632 1091.47 Q104.973 1091.47 108.029 1096.08 Q111.108 1100.66 111.108 1109.41 Q111.108 1118.14 108.029 1122.75 Q104.973 1127.33 99.1632 1127.33 Q93.353 1127.33 90.2743 1122.75 Q87.2188 1118.14 87.2188 1109.41 Q87.2188 1100.66 90.2743 1096.08 Q93.353 1091.47 99.1632 1091.47 Z\" fill=\"#000000\" fill-rule=\"evenodd\" fill-opacity=\"1\" /><path clip-path=\"url(#clip800)\" d=\"M94.7882 770.11 L111.108 770.11 L111.108 774.045 L89.1632 774.045 L89.1632 770.11 Q91.8252 767.355 96.4085 762.726 Q101.015 758.073 102.196 756.73 Q104.441 754.207 105.321 752.471 Q106.223 750.712 106.223 749.022 Q106.223 746.267 104.279 744.531 Q102.358 742.795 99.2558 742.795 Q97.0567 742.795 94.603 743.559 Q92.1725 744.323 89.3947 745.874 L89.3947 741.152 Q92.2188 740.017 94.6724 739.439 Q97.1261 738.86 99.1632 738.86 Q104.534 738.86 107.728 741.545 Q110.922 744.23 110.922 748.721 Q110.922 750.851 110.112 752.772 Q109.325 754.67 107.219 757.263 Q106.64 757.934 103.538 761.152 Q100.436 764.346 94.7882 770.11 Z\" fill=\"#000000\" fill-rule=\"evenodd\" fill-opacity=\"1\" /><path clip-path=\"url(#clip800)\" d=\"M101.524 390.944 L89.7188 409.393 L101.524 409.393 L101.524 390.944 M100.297 386.87 L106.177 386.87 L106.177 409.393 L111.108 409.393 L111.108 413.282 L106.177 413.282 L106.177 421.43 L101.524 421.43 L101.524 413.282 L85.9225 413.282 L85.9225 408.768 L100.297 386.87 Z\" fill=\"#000000\" fill-rule=\"evenodd\" fill-opacity=\"1\" /><path clip-path=\"url(#clip800)\" d=\"M99.5798 49.6718 Q96.4317 49.6718 94.5799 51.8246 Q92.7512 53.9774 92.7512 57.7273 Q92.7512 61.4542 94.5799 63.6301 Q96.4317 65.7828 99.5798 65.7828 Q102.728 65.7828 104.557 63.6301 Q106.408 61.4542 106.408 57.7273 Q106.408 53.9774 104.557 51.8246 Q102.728 49.6718 99.5798 49.6718 M108.862 35.0191 L108.862 39.2784 Q107.103 38.445 105.297 38.0052 Q103.515 37.5654 101.756 37.5654 Q97.1261 37.5654 94.6724 40.6904 Q92.2419 43.8154 91.8947 50.1348 Q93.2604 48.1209 95.3206 47.0561 Q97.3808 45.9681 99.8576 45.9681 Q105.066 45.9681 108.075 49.1394 Q111.108 52.2875 111.108 57.7273 Q111.108 63.0514 107.959 66.269 Q104.811 69.4865 99.5798 69.4865 Q93.5845 69.4865 90.4132 64.9032 Q87.2419 60.2968 87.2419 51.57 Q87.2419 43.3756 91.1308 38.5145 Q95.0197 33.6302 101.571 33.6302 Q103.33 33.6302 105.112 33.9775 Q106.918 34.3247 108.862 35.0191 Z\" fill=\"#000000\" fill-rule=\"evenodd\" fill-opacity=\"1\" /><circle clip-path=\"url(#clip802)\" cx=\"209.532\" cy=\"285.251\" r=\"14\" fill=\"#009af9\" fill-rule=\"evenodd\" fill-opacity=\"1\" stroke=\"#000000\" stroke-opacity=\"1\" stroke-width=\"3.2\"/>\n",
       "<circle clip-path=\"url(#clip802)\" cx=\"251.148\" cy=\"450.193\" r=\"14\" fill=\"#009af9\" fill-rule=\"evenodd\" fill-opacity=\"1\" stroke=\"#000000\" stroke-opacity=\"1\" stroke-width=\"3.2\"/>\n",
       "<circle clip-path=\"url(#clip802)\" cx=\"292.764\" cy=\"726.689\" r=\"14\" fill=\"#009af9\" fill-rule=\"evenodd\" fill-opacity=\"1\" stroke=\"#000000\" stroke-opacity=\"1\" stroke-width=\"3.2\"/>\n",
       "<circle clip-path=\"url(#clip802)\" cx=\"334.38\" cy=\"888.16\" r=\"14\" fill=\"#009af9\" fill-rule=\"evenodd\" fill-opacity=\"1\" stroke=\"#000000\" stroke-opacity=\"1\" stroke-width=\"3.2\"/>\n",
       "<circle clip-path=\"url(#clip802)\" cx=\"375.996\" cy=\"870.977\" r=\"14\" fill=\"#009af9\" fill-rule=\"evenodd\" fill-opacity=\"1\" stroke=\"#000000\" stroke-opacity=\"1\" stroke-width=\"3.2\"/>\n",
       "<circle clip-path=\"url(#clip802)\" cx=\"417.612\" cy=\"943.797\" r=\"14\" fill=\"#009af9\" fill-rule=\"evenodd\" fill-opacity=\"1\" stroke=\"#000000\" stroke-opacity=\"1\" stroke-width=\"3.2\"/>\n",
       "<circle clip-path=\"url(#clip802)\" cx=\"459.228\" cy=\"1085.98\" r=\"14\" fill=\"#009af9\" fill-rule=\"evenodd\" fill-opacity=\"1\" stroke=\"#000000\" stroke-opacity=\"1\" stroke-width=\"3.2\"/>\n",
       "<circle clip-path=\"url(#clip802)\" cx=\"500.844\" cy=\"1163.02\" r=\"14\" fill=\"#009af9\" fill-rule=\"evenodd\" fill-opacity=\"1\" stroke=\"#000000\" stroke-opacity=\"1\" stroke-width=\"3.2\"/>\n",
       "<circle clip-path=\"url(#clip802)\" cx=\"542.46\" cy=\"1445.72\" r=\"14\" fill=\"#009af9\" fill-rule=\"evenodd\" fill-opacity=\"1\" stroke=\"#000000\" stroke-opacity=\"1\" stroke-width=\"3.2\"/>\n",
       "<circle clip-path=\"url(#clip802)\" cx=\"584.076\" cy=\"1302.2\" r=\"14\" fill=\"#009af9\" fill-rule=\"evenodd\" fill-opacity=\"1\" stroke=\"#000000\" stroke-opacity=\"1\" stroke-width=\"3.2\"/>\n",
       "<circle clip-path=\"url(#clip802)\" cx=\"625.692\" cy=\"1268.08\" r=\"14\" fill=\"#009af9\" fill-rule=\"evenodd\" fill-opacity=\"1\" stroke=\"#000000\" stroke-opacity=\"1\" stroke-width=\"3.2\"/>\n",
       "<circle clip-path=\"url(#clip802)\" cx=\"667.308\" cy=\"1166.17\" r=\"14\" fill=\"#009af9\" fill-rule=\"evenodd\" fill-opacity=\"1\" stroke=\"#000000\" stroke-opacity=\"1\" stroke-width=\"3.2\"/>\n",
       "<circle clip-path=\"url(#clip802)\" cx=\"708.924\" cy=\"1263.4\" r=\"14\" fill=\"#009af9\" fill-rule=\"evenodd\" fill-opacity=\"1\" stroke=\"#000000\" stroke-opacity=\"1\" stroke-width=\"3.2\"/>\n",
       "<circle clip-path=\"url(#clip802)\" cx=\"750.54\" cy=\"1249.8\" r=\"14\" fill=\"#009af9\" fill-rule=\"evenodd\" fill-opacity=\"1\" stroke=\"#000000\" stroke-opacity=\"1\" stroke-width=\"3.2\"/>\n",
       "<circle clip-path=\"url(#clip802)\" cx=\"792.156\" cy=\"1184.63\" r=\"14\" fill=\"#009af9\" fill-rule=\"evenodd\" fill-opacity=\"1\" stroke=\"#000000\" stroke-opacity=\"1\" stroke-width=\"3.2\"/>\n",
       "<circle clip-path=\"url(#clip802)\" cx=\"833.772\" cy=\"1174\" r=\"14\" fill=\"#009af9\" fill-rule=\"evenodd\" fill-opacity=\"1\" stroke=\"#000000\" stroke-opacity=\"1\" stroke-width=\"3.2\"/>\n",
       "<circle clip-path=\"url(#clip802)\" cx=\"875.388\" cy=\"1154.82\" r=\"14\" fill=\"#009af9\" fill-rule=\"evenodd\" fill-opacity=\"1\" stroke=\"#000000\" stroke-opacity=\"1\" stroke-width=\"3.2\"/>\n",
       "<circle clip-path=\"url(#clip802)\" cx=\"917.004\" cy=\"1084.53\" r=\"14\" fill=\"#009af9\" fill-rule=\"evenodd\" fill-opacity=\"1\" stroke=\"#000000\" stroke-opacity=\"1\" stroke-width=\"3.2\"/>\n",
       "<circle clip-path=\"url(#clip802)\" cx=\"958.62\" cy=\"1055.22\" r=\"14\" fill=\"#009af9\" fill-rule=\"evenodd\" fill-opacity=\"1\" stroke=\"#000000\" stroke-opacity=\"1\" stroke-width=\"3.2\"/>\n",
       "<circle clip-path=\"url(#clip802)\" cx=\"1000.24\" cy=\"1036.27\" r=\"14\" fill=\"#009af9\" fill-rule=\"evenodd\" fill-opacity=\"1\" stroke=\"#000000\" stroke-opacity=\"1\" stroke-width=\"3.2\"/>\n",
       "<circle clip-path=\"url(#clip802)\" cx=\"1041.85\" cy=\"860.556\" r=\"14\" fill=\"#009af9\" fill-rule=\"evenodd\" fill-opacity=\"1\" stroke=\"#000000\" stroke-opacity=\"1\" stroke-width=\"3.2\"/>\n",
       "<circle clip-path=\"url(#clip802)\" cx=\"1083.47\" cy=\"870.878\" r=\"14\" fill=\"#009af9\" fill-rule=\"evenodd\" fill-opacity=\"1\" stroke=\"#000000\" stroke-opacity=\"1\" stroke-width=\"3.2\"/>\n",
       "<circle clip-path=\"url(#clip802)\" cx=\"1125.08\" cy=\"865.298\" r=\"14\" fill=\"#009af9\" fill-rule=\"evenodd\" fill-opacity=\"1\" stroke=\"#000000\" stroke-opacity=\"1\" stroke-width=\"3.2\"/>\n",
       "<circle clip-path=\"url(#clip802)\" cx=\"1166.7\" cy=\"723.06\" r=\"14\" fill=\"#009af9\" fill-rule=\"evenodd\" fill-opacity=\"1\" stroke=\"#000000\" stroke-opacity=\"1\" stroke-width=\"3.2\"/>\n",
       "<circle clip-path=\"url(#clip802)\" cx=\"1208.32\" cy=\"736.41\" r=\"14\" fill=\"#009af9\" fill-rule=\"evenodd\" fill-opacity=\"1\" stroke=\"#000000\" stroke-opacity=\"1\" stroke-width=\"3.2\"/>\n",
       "<circle clip-path=\"url(#clip802)\" cx=\"1249.93\" cy=\"794.718\" r=\"14\" fill=\"#009af9\" fill-rule=\"evenodd\" fill-opacity=\"1\" stroke=\"#000000\" stroke-opacity=\"1\" stroke-width=\"3.2\"/>\n",
       "<circle clip-path=\"url(#clip802)\" cx=\"1291.55\" cy=\"831.984\" r=\"14\" fill=\"#009af9\" fill-rule=\"evenodd\" fill-opacity=\"1\" stroke=\"#000000\" stroke-opacity=\"1\" stroke-width=\"3.2\"/>\n",
       "<circle clip-path=\"url(#clip802)\" cx=\"1333.16\" cy=\"713.818\" r=\"14\" fill=\"#009af9\" fill-rule=\"evenodd\" fill-opacity=\"1\" stroke=\"#000000\" stroke-opacity=\"1\" stroke-width=\"3.2\"/>\n",
       "<circle clip-path=\"url(#clip802)\" cx=\"1374.78\" cy=\"761.832\" r=\"14\" fill=\"#009af9\" fill-rule=\"evenodd\" fill-opacity=\"1\" stroke=\"#000000\" stroke-opacity=\"1\" stroke-width=\"3.2\"/>\n",
       "<circle clip-path=\"url(#clip802)\" cx=\"1416.4\" cy=\"600.19\" r=\"14\" fill=\"#009af9\" fill-rule=\"evenodd\" fill-opacity=\"1\" stroke=\"#000000\" stroke-opacity=\"1\" stroke-width=\"3.2\"/>\n",
       "<circle clip-path=\"url(#clip802)\" cx=\"1458.01\" cy=\"665.117\" r=\"14\" fill=\"#009af9\" fill-rule=\"evenodd\" fill-opacity=\"1\" stroke=\"#000000\" stroke-opacity=\"1\" stroke-width=\"3.2\"/>\n",
       "<circle clip-path=\"url(#clip802)\" cx=\"1499.63\" cy=\"727.005\" r=\"14\" fill=\"#009af9\" fill-rule=\"evenodd\" fill-opacity=\"1\" stroke=\"#000000\" stroke-opacity=\"1\" stroke-width=\"3.2\"/>\n",
       "<circle clip-path=\"url(#clip802)\" cx=\"1541.24\" cy=\"830.551\" r=\"14\" fill=\"#009af9\" fill-rule=\"evenodd\" fill-opacity=\"1\" stroke=\"#000000\" stroke-opacity=\"1\" stroke-width=\"3.2\"/>\n",
       "<circle clip-path=\"url(#clip802)\" cx=\"1582.86\" cy=\"669.378\" r=\"14\" fill=\"#009af9\" fill-rule=\"evenodd\" fill-opacity=\"1\" stroke=\"#000000\" stroke-opacity=\"1\" stroke-width=\"3.2\"/>\n",
       "<circle clip-path=\"url(#clip802)\" cx=\"1624.48\" cy=\"701.168\" r=\"14\" fill=\"#009af9\" fill-rule=\"evenodd\" fill-opacity=\"1\" stroke=\"#000000\" stroke-opacity=\"1\" stroke-width=\"3.2\"/>\n",
       "<circle clip-path=\"url(#clip802)\" cx=\"1666.09\" cy=\"786.726\" r=\"14\" fill=\"#009af9\" fill-rule=\"evenodd\" fill-opacity=\"1\" stroke=\"#000000\" stroke-opacity=\"1\" stroke-width=\"3.2\"/>\n",
       "<circle clip-path=\"url(#clip802)\" cx=\"1707.71\" cy=\"671.127\" r=\"14\" fill=\"#009af9\" fill-rule=\"evenodd\" fill-opacity=\"1\" stroke=\"#000000\" stroke-opacity=\"1\" stroke-width=\"3.2\"/>\n",
       "<circle clip-path=\"url(#clip802)\" cx=\"1749.32\" cy=\"680.133\" r=\"14\" fill=\"#009af9\" fill-rule=\"evenodd\" fill-opacity=\"1\" stroke=\"#000000\" stroke-opacity=\"1\" stroke-width=\"3.2\"/>\n",
       "<circle clip-path=\"url(#clip802)\" cx=\"1790.94\" cy=\"887.38\" r=\"14\" fill=\"#009af9\" fill-rule=\"evenodd\" fill-opacity=\"1\" stroke=\"#000000\" stroke-opacity=\"1\" stroke-width=\"3.2\"/>\n",
       "<circle clip-path=\"url(#clip802)\" cx=\"1832.56\" cy=\"838.44\" r=\"14\" fill=\"#009af9\" fill-rule=\"evenodd\" fill-opacity=\"1\" stroke=\"#000000\" stroke-opacity=\"1\" stroke-width=\"3.2\"/>\n",
       "<circle clip-path=\"url(#clip802)\" cx=\"1874.17\" cy=\"799.132\" r=\"14\" fill=\"#009af9\" fill-rule=\"evenodd\" fill-opacity=\"1\" stroke=\"#000000\" stroke-opacity=\"1\" stroke-width=\"3.2\"/>\n",
       "<circle clip-path=\"url(#clip802)\" cx=\"1915.79\" cy=\"655.013\" r=\"14\" fill=\"#009af9\" fill-rule=\"evenodd\" fill-opacity=\"1\" stroke=\"#000000\" stroke-opacity=\"1\" stroke-width=\"3.2\"/>\n",
       "<circle clip-path=\"url(#clip802)\" cx=\"1957.4\" cy=\"770.172\" r=\"14\" fill=\"#009af9\" fill-rule=\"evenodd\" fill-opacity=\"1\" stroke=\"#000000\" stroke-opacity=\"1\" stroke-width=\"3.2\"/>\n",
       "<circle clip-path=\"url(#clip802)\" cx=\"1999.02\" cy=\"793.411\" r=\"14\" fill=\"#009af9\" fill-rule=\"evenodd\" fill-opacity=\"1\" stroke=\"#000000\" stroke-opacity=\"1\" stroke-width=\"3.2\"/>\n",
       "<circle clip-path=\"url(#clip802)\" cx=\"2040.64\" cy=\"788.03\" r=\"14\" fill=\"#009af9\" fill-rule=\"evenodd\" fill-opacity=\"1\" stroke=\"#000000\" stroke-opacity=\"1\" stroke-width=\"3.2\"/>\n",
       "<circle clip-path=\"url(#clip802)\" cx=\"2082.25\" cy=\"773.928\" r=\"14\" fill=\"#009af9\" fill-rule=\"evenodd\" fill-opacity=\"1\" stroke=\"#000000\" stroke-opacity=\"1\" stroke-width=\"3.2\"/>\n",
       "<circle clip-path=\"url(#clip802)\" cx=\"2123.87\" cy=\"530.299\" r=\"14\" fill=\"#009af9\" fill-rule=\"evenodd\" fill-opacity=\"1\" stroke=\"#000000\" stroke-opacity=\"1\" stroke-width=\"3.2\"/>\n",
       "<circle clip-path=\"url(#clip802)\" cx=\"2165.48\" cy=\"543.125\" r=\"14\" fill=\"#009af9\" fill-rule=\"evenodd\" fill-opacity=\"1\" stroke=\"#000000\" stroke-opacity=\"1\" stroke-width=\"3.2\"/>\n",
       "<circle clip-path=\"url(#clip802)\" cx=\"2207.1\" cy=\"521.3\" r=\"14\" fill=\"#009af9\" fill-rule=\"evenodd\" fill-opacity=\"1\" stroke=\"#000000\" stroke-opacity=\"1\" stroke-width=\"3.2\"/>\n",
       "<circle clip-path=\"url(#clip802)\" cx=\"2248.72\" cy=\"261.922\" r=\"14\" fill=\"#009af9\" fill-rule=\"evenodd\" fill-opacity=\"1\" stroke=\"#000000\" stroke-opacity=\"1\" stroke-width=\"3.2\"/>\n",
       "<circle clip-path=\"url(#clip802)\" cx=\"2290.33\" cy=\"87.9763\" r=\"14\" fill=\"#009af9\" fill-rule=\"evenodd\" fill-opacity=\"1\" stroke=\"#000000\" stroke-opacity=\"1\" stroke-width=\"3.2\"/>\n",
       "<path clip-path=\"url(#clip800)\" d=\"\n",
       "M1986.8 198.898 L2279.23 198.898 L2279.23 95.2176 L1986.8 95.2176  Z\n",
       "  \" fill=\"#ffffff\" fill-rule=\"evenodd\" fill-opacity=\"1\"/>\n",
       "<polyline clip-path=\"url(#clip800)\" style=\"stroke:#000000; stroke-linecap:butt; stroke-linejoin:round; stroke-width:4; stroke-opacity:1; fill:none\" points=\"\n",
       "  1986.8,198.898 2279.23,198.898 2279.23,95.2176 1986.8,95.2176 1986.8,198.898 \n",
       "  \"/>\n",
       "<circle clip-path=\"url(#clip800)\" cx=\"2082.8\" cy=\"147.058\" r=\"23\" fill=\"#009af9\" fill-rule=\"evenodd\" fill-opacity=\"1\" stroke=\"#000000\" stroke-opacity=\"1\" stroke-width=\"5.12\"/>\n",
       "<path clip-path=\"url(#clip800)\" d=\"M2192.65 166.745 Q2190.84 171.375 2189.13 172.787 Q2187.42 174.199 2184.54 174.199 L2181.14 174.199 L2181.14 170.634 L2183.64 170.634 Q2185.4 170.634 2186.37 169.8 Q2187.35 168.967 2188.53 165.865 L2189.29 163.921 L2178.8 138.412 L2183.32 138.412 L2191.42 158.689 L2199.52 138.412 L2204.04 138.412 L2192.65 166.745 Z\" fill=\"#000000\" fill-rule=\"evenodd\" fill-opacity=\"1\" /><path clip-path=\"url(#clip800)\" d=\"M2211.33 160.402 L2218.97 160.402 L2218.97 134.037 L2210.66 135.703 L2210.66 131.444 L2218.92 129.778 L2223.6 129.778 L2223.6 160.402 L2231.23 160.402 L2231.23 164.338 L2211.33 164.338 L2211.33 160.402 Z\" fill=\"#000000\" fill-rule=\"evenodd\" fill-opacity=\"1\" /></svg>\n"
      ]
     },
     "metadata": {},
     "output_type": "display_data"
    }
   ],
   "source": [
    "xs = -2:0.1:3\n",
    "\n",
    "f(x) = 0.3x^4 - 0.8x^3 - 0.6x^2 + 2.4x + 1 + 0.4 * randn(1)[1]\n",
    "\n",
    "ys = f.(xs)\n",
    "\n",
    "gr() # 描画用に GR backend(https://gr-framework.org/) をロードする\n",
    "scatter!(xs, ys)"
   ]
  },
  {
   "cell_type": "markdown",
   "id": "722a20d1",
   "metadata": {
    "slideshow": {
     "slide_type": "subslide"
    }
   },
   "source": [
    "#### 誤差関数\n",
    "\n",
    "$\\bf{w}$ を係数のパラメータ$[w_0, w_1, w_2, w_3, w_4]^\\text{T}$, $\\bf{\\textit{x}}$ を $[1.0, x, x^2, x^3, x^4]^\\text{T}$ として誤差関数を次のように定義する\n",
    "\n",
    "$$\n",
    "    E(\\bf{w}) = \\frac{1}{2N^2}\\sum_n^N {(\\it{y}_n-\\bf{w}\\bf{\\textit{x}}_n)^2}\n",
    "$$"
   ]
  },
  {
   "cell_type": "code",
   "execution_count": 4,
   "id": "080a0412",
   "metadata": {},
   "outputs": [
    {
     "data": {
      "text/plain": [
       "E (generic function with 1 method)"
      ]
     },
     "metadata": {},
     "output_type": "display_data"
    }
   ],
   "source": [
    "𝒙(x) = [1.0, x, x^2, x^3, x^4]\n",
    "𝐰₀= [1.3, 2.2, -0.3, -0.5, 0.1]\n",
    "\n",
    "E(𝐰) = sum([(ys[n] - 𝐰'*𝒙(xs[n]))^2.0 for n in 1:length(xs)])  / (2*length(xs)^2)"
   ]
  },
  {
   "cell_type": "markdown",
   "id": "fad8e8bb",
   "metadata": {
    "slideshow": {
     "slide_type": "subslide"
    }
   },
   "source": [
    "#### 勾配降下法\n",
    "\n",
    "勾配降下法によればパラメータは次の計算で更新される\n",
    "\n",
    "$$\n",
    "\\bf{w}^{(\\tau+1)} = \\bf{w}^{(\\tau)} - \\eta\\nabla E(\\bf{w})\n",
    "$$"
   ]
  },
  {
   "cell_type": "code",
   "execution_count": 5,
   "id": "5a67a21b",
   "metadata": {},
   "outputs": [
    {
     "data": {
      "text/plain": [
       "gradient_method (generic function with 1 method)"
      ]
     },
     "metadata": {},
     "output_type": "display_data"
    }
   ],
   "source": [
    "using ForwardDiff\n",
    "\n",
    "function gradient_method(E, 𝐰ᵢ, η, maxiter)\n",
    "    # 勾配\n",
    "    ∇E(𝐰) = ForwardDiff.gradient(E, 𝐰)\n",
    "    for _ in 2:maxiter\n",
    "        𝐰ᵢ = 𝐰ᵢ - η*∇E(𝐰ᵢ)\n",
    "    end\n",
    "    𝐰ᵢ\n",
    "end     "
   ]
  },
  {
   "cell_type": "markdown",
   "id": "d01d9866",
   "metadata": {
    "slideshow": {
     "slide_type": "subslide"
    }
   },
   "source": [
    "#### 学習結果\n",
    "\n",
    "パラメータを更新した結果と、その結果を使ったグラフをみてみる"
   ]
  },
  {
   "cell_type": "code",
   "execution_count": 6,
   "id": "262b1a0b",
   "metadata": {},
   "outputs": [
    {
     "data": {
      "text/plain": [
       "5-element Vector{Float64}:\n",
       "  1.0022227417703529\n",
       "  2.414540842683503\n",
       " -0.6140220621844716\n",
       " -0.7999226655103442\n",
       "  0.3006316082204862"
      ]
     },
     "metadata": {},
     "output_type": "display_data"
    }
   ],
   "source": [
    "𝐰_out = gradient_method(E, 𝐰₀, 0.1, 10000)"
   ]
  },
  {
   "cell_type": "code",
   "execution_count": 7,
   "id": "95b7c43e",
   "metadata": {},
   "outputs": [
    {
     "data": {
      "image/png": "[encoded data removed]",
      "image/svg+xml": "<?xml version=\"1.0\" encoding=\"utf-8\"?>\n<svg xmlns=\"http://www.w3.org/2000/svg\" xmlns:xlink=\"http://www.w3.org/1999/xlink\" width=\"600\" height=\"400\" viewBox=\"0 0 2400 1600\">\n<defs>\n  <clipPath id=\"clip840\">\n    <rect x=\"0\" y=\"0\" width=\"2400\" height=\"1600\"/>\n  </clipPath>\n</defs>\n<path clip-path=\"url(#clip840)\" d=\"\nM0 1600 L2400 1600 L2400 0 L0 0  Z\n  \" fill=\"#ffffff\" fill-rule=\"evenodd\" fill-opacity=\"1\"/>\n<defs>\n  <clipPath id=\"clip841\">\n    <rect x=\"480\" y=\"0\" width=\"1681\" height=\"1600\"/>\n  </clipPath>\n</defs>\n<path clip-path=\"url(#clip840)\" d=\"\nM147.108 1486.45 L2352.76 1486.45 L2352.76 47.2441 L147.108 47.2441  Z\n  \" fill=\"#ffffff\" fill-rule=\"evenodd\" fill-opacity=\"1\"/>\n<defs>\n  <clipPath id=\"clip842\">\n    <rect x=\"147\" y=\"47\" width=\"2207\" height=\"1440\"/>\n  </clipPath>\n</defs>\n<polyline clip-path=\"url(#clip842)\" style=\"stroke:#000000; stroke-linecap:butt; stroke-linejoin:round; stroke-width:2; stroke-opacity:0.1; fill:none\" points=\"\n  209.532,1486.45 209.532,47.2441 \n  \"/>\n<polyline clip-path=\"url(#clip842)\" style=\"stroke:#000000; stroke-linecap:butt; stroke-linejoin:round; stroke-width:2; stroke-opacity:0.1; fill:none\" points=\"\n  625.692,1486.45 625.692,47.2441 \n  \"/>\n<polyline clip-path=\"url(#clip842)\" style=\"stroke:#000000; stroke-linecap:butt; stroke-linejoin:round; stroke-width:2; stroke-opacity:0.1; fill:none\" points=\"\n  1041.85,1486.45 1041.85,47.2441 \n  \"/>\n<polyline clip-path=\"url(#clip842)\" style=\"stroke:#000000; stroke-linecap:butt; stroke-linejoin:round; stroke-width:2; stroke-opacity:0.1; fill:none\" points=\"\n  1458.01,1486.45 1458.01,47.2441 \n  \"/>\n<polyline clip-path=\"url(#clip842)\" style=\"stroke:#000000; stroke-linecap:butt; stroke-linejoin:round; stroke-width:2; stroke-opacity:0.1; fill:none\" points=\"\n  1874.17,1486.45 1874.17,47.2441 \n  \"/>\n<polyline clip-path=\"url(#clip842)\" style=\"stroke:#000000; stroke-linecap:butt; stroke-linejoin:round; stroke-width:2; stroke-opacity:0.1; fill:none\" points=\"\n  2290.33,1486.45 2290.33,47.2441 \n  \"/>\n<polyline clip-path=\"url(#clip840)\" style=\"stroke:#000000; stroke-linecap:butt; stroke-linejoin:round; stroke-width:4; stroke-opacity:1; fill:none\" points=\"\n  147.108,1486.45 2352.76,1486.45 \n  \"/>\n<polyline clip-path=\"url(#clip840)\" style=\"stroke:#000000; stroke-linecap:butt; stroke-linejoin:round; stroke-width:4; stroke-opacity:1; fill:none\" points=\"\n  209.532,1486.45 209.532,1467.55 \n  \"/>\n<polyline clip-path=\"url(#clip840)\" style=\"stroke:#000000; stroke-linecap:butt; stroke-linejoin:round; stroke-width:4; stroke-opacity:1; fill:none\" points=\"\n  625.692,1486.45 625.692,1467.55 \n  \"/>\n<polyline clip-path=\"url(#clip840)\" style=\"stroke:#000000; stroke-linecap:butt; stroke-linejoin:round; stroke-width:4; stroke-opacity:1; fill:none\" points=\"\n  1041.85,1486.45 1041.85,1467.55 \n  \"/>\n<polyline clip-path=\"url(#clip840)\" style=\"stroke:#000000; stroke-linecap:butt; stroke-linejoin:round; stroke-width:4; stroke-opacity:1; fill:none\" points=\"\n  1458.01,1486.45 1458.01,1467.55 \n  \"/>\n<polyline clip-path=\"url(#clip840)\" style=\"stroke:#000000; stroke-linecap:butt; stroke-linejoin:round; stroke-width:4; stroke-opacity:1; fill:none\" points=\"\n  1874.17,1486.45 1874.17,1467.55 \n  \"/>\n<polyline clip-path=\"url(#clip840)\" style=\"stroke:#000000; stroke-linecap:butt; stroke-linejoin:round; stroke-width:4; stroke-opacity:1; fill:none\" points=\"\n  2290.33,1486.45 2290.33,1467.55 \n  \"/>\n<path clip-path=\"url(#clip840)\" d=\"M179.474 1532.02 L209.15 1532.02 L209.15 1535.95 L179.474 1535.95 L179.474 1532.02 Z\" fill=\"#000000\" fill-rule=\"evenodd\" fill-opacity=\"1\" /><path clip-path=\"url(#clip840)\" d=\"M223.27 1544.91 L239.589 1544.91 L239.589 1548.85 L217.645 1548.85 L217.645 1544.91 Q220.307 1542.16 224.89 1537.53 Q229.497 1532.88 230.677 1531.53 Q232.923 1529.01 233.802 1527.27 Q234.705 1525.51 234.705 1523.82 Q234.705 1521.07 232.761 1519.33 Q230.839 1517.6 227.737 1517.6 Q225.538 1517.6 223.085 1518.36 Q220.654 1519.13 217.876 1520.68 L217.876 1515.95 Q220.7 1514.82 223.154 1514.24 Q225.608 1513.66 227.645 1513.66 Q233.015 1513.66 236.21 1516.35 Q239.404 1519.03 239.404 1523.52 Q239.404 1525.65 238.594 1527.57 Q237.807 1529.47 235.7 1532.07 Q235.122 1532.74 232.02 1535.95 Q228.918 1539.15 223.27 1544.91 Z\" fill=\"#000000\" fill-rule=\"evenodd\" fill-opacity=\"1\" /><path clip-path=\"url(#clip840)\" d=\"M595.449 1532.02 L625.124 1532.02 L625.124 1535.95 L595.449 1535.95 L595.449 1532.02 Z\" fill=\"#000000\" fill-rule=\"evenodd\" fill-opacity=\"1\" /><path clip-path=\"url(#clip840)\" d=\"M636.027 1544.91 L643.666 1544.91 L643.666 1518.55 L635.356 1520.21 L635.356 1515.95 L643.62 1514.29 L648.296 1514.29 L648.296 1544.91 L655.935 1544.91 L655.935 1548.85 L636.027 1548.85 L636.027 1544.91 Z\" fill=\"#000000\" fill-rule=\"evenodd\" fill-opacity=\"1\" /><path clip-path=\"url(#clip840)\" d=\"M1041.85 1517.37 Q1038.24 1517.37 1036.41 1520.93 Q1034.61 1524.47 1034.61 1531.6 Q1034.61 1538.71 1036.41 1542.27 Q1038.24 1545.82 1041.85 1545.82 Q1045.49 1545.82 1047.29 1542.27 Q1049.12 1538.71 1049.12 1531.6 Q1049.12 1524.47 1047.29 1520.93 Q1045.49 1517.37 1041.85 1517.37 M1041.85 1513.66 Q1047.66 1513.66 1050.72 1518.27 Q1053.8 1522.85 1053.8 1531.6 Q1053.8 1540.33 1050.72 1544.94 Q1047.66 1549.52 1041.85 1549.52 Q1036.04 1549.52 1032.96 1544.94 Q1029.91 1540.33 1029.91 1531.6 Q1029.91 1522.85 1032.96 1518.27 Q1036.04 1513.66 1041.85 1513.66 Z\" fill=\"#000000\" fill-rule=\"evenodd\" fill-opacity=\"1\" /><path clip-path=\"url(#clip840)\" d=\"M1448.39 1544.91 L1456.03 1544.91 L1456.03 1518.55 L1447.72 1520.21 L1447.72 1515.95 L1455.99 1514.29 L1460.66 1514.29 L1460.66 1544.91 L1468.3 1544.91 L1468.3 1548.85 L1448.39 1548.85 L1448.39 1544.91 Z\" fill=\"#000000\" fill-rule=\"evenodd\" fill-opacity=\"1\" /><path clip-path=\"url(#clip840)\" d=\"M1868.82 1544.91 L1885.14 1544.91 L1885.14 1548.85 L1863.2 1548.85 L1863.2 1544.91 Q1865.86 1542.16 1870.44 1537.53 Q1875.05 1532.88 1876.23 1531.53 Q1878.48 1529.01 1879.36 1527.27 Q1880.26 1525.51 1880.26 1523.82 Q1880.26 1521.07 1878.32 1519.33 Q1876.39 1517.6 1873.29 1517.6 Q1871.09 1517.6 1868.64 1518.36 Q1866.21 1519.13 1863.43 1520.68 L1863.43 1515.95 Q1866.26 1514.82 1868.71 1514.24 Q1871.16 1513.66 1873.2 1513.66 Q1878.57 1513.66 1881.76 1516.35 Q1884.96 1519.03 1884.96 1523.52 Q1884.96 1525.65 1884.15 1527.57 Q1883.36 1529.47 1881.26 1532.07 Q1880.68 1532.74 1877.57 1535.95 Q1874.47 1539.15 1868.82 1544.91 Z\" fill=\"#000000\" fill-rule=\"evenodd\" fill-opacity=\"1\" /><path clip-path=\"url(#clip840)\" d=\"M2294.58 1530.21 Q2297.94 1530.93 2299.81 1533.2 Q2301.71 1535.47 2301.71 1538.8 Q2301.71 1543.92 2298.19 1546.72 Q2294.67 1549.52 2288.19 1549.52 Q2286.01 1549.52 2283.7 1549.08 Q2281.41 1548.66 2278.95 1547.81 L2278.95 1543.29 Q2280.9 1544.43 2283.21 1545.01 Q2285.53 1545.58 2288.05 1545.58 Q2292.45 1545.58 2294.74 1543.85 Q2297.06 1542.11 2297.06 1538.8 Q2297.06 1535.75 2294.9 1534.03 Q2292.77 1532.3 2288.95 1532.3 L2284.93 1532.3 L2284.93 1528.45 L2289.14 1528.45 Q2292.59 1528.45 2294.42 1527.09 Q2296.25 1525.7 2296.25 1523.11 Q2296.25 1520.45 2294.35 1519.03 Q2292.47 1517.6 2288.95 1517.6 Q2287.03 1517.6 2284.83 1518.01 Q2282.64 1518.43 2280 1519.31 L2280 1515.14 Q2282.66 1514.4 2284.97 1514.03 Q2287.31 1513.66 2289.37 1513.66 Q2294.7 1513.66 2297.8 1516.09 Q2300.9 1518.5 2300.9 1522.62 Q2300.9 1525.49 2299.26 1527.48 Q2297.61 1529.45 2294.58 1530.21 Z\" fill=\"#000000\" fill-rule=\"evenodd\" fill-opacity=\"1\" /><polyline clip-path=\"url(#clip842)\" style=\"stroke:#000000; stroke-linecap:butt; stroke-linejoin:round; stroke-width:2; stroke-opacity:0.1; fill:none\" points=\"\n  147.108,1461.99 2352.76,1461.99 \n  \"/>\n<polyline clip-path=\"url(#clip842)\" style=\"stroke:#000000; stroke-linecap:butt; stroke-linejoin:round; stroke-width:2; stroke-opacity:0.1; fill:none\" points=\"\n  147.108,1109.38 2352.76,1109.38 \n  \"/>\n<polyline clip-path=\"url(#clip842)\" style=\"stroke:#000000; stroke-linecap:butt; stroke-linejoin:round; stroke-width:2; stroke-opacity:0.1; fill:none\" points=\"\n  147.108,756.765 2352.76,756.765 \n  \"/>\n<polyline clip-path=\"url(#clip842)\" style=\"stroke:#000000; stroke-linecap:butt; stroke-linejoin:round; stroke-width:2; stroke-opacity:0.1; fill:none\" points=\"\n  147.108,404.15 2352.76,404.15 \n  \"/>\n<polyline clip-path=\"url(#clip842)\" style=\"stroke:#000000; stroke-linecap:butt; stroke-linejoin:round; stroke-width:2; stroke-opacity:0.1; fill:none\" points=\"\n  147.108,51.5352 2352.76,51.5352 \n  \"/>\n<polyline clip-path=\"url(#clip840)\" style=\"stroke:#000000; stroke-linecap:butt; stroke-linejoin:round; stroke-width:4; stroke-opacity:1; fill:none\" points=\"\n  147.108,1486.45 147.108,47.2441 \n  \"/>\n<polyline clip-path=\"url(#clip840)\" style=\"stroke:#000000; stroke-linecap:butt; stroke-linejoin:round; stroke-width:4; stroke-opacity:1; fill:none\" points=\"\n  147.108,1461.99 166.005,1461.99 \n  \"/>\n<polyline clip-path=\"url(#clip840)\" style=\"stroke:#000000; stroke-linecap:butt; stroke-linejoin:round; stroke-width:4; stroke-opacity:1; fill:none\" points=\"\n  147.108,1109.38 166.005,1109.38 \n  \"/>\n<polyline clip-path=\"url(#clip840)\" style=\"stroke:#000000; stroke-linecap:butt; stroke-linejoin:round; stroke-width:4; stroke-opacity:1; fill:none\" points=\"\n  147.108,756.765 166.005,756.765 \n  \"/>\n<polyline clip-path=\"url(#clip840)\" style=\"stroke:#000000; stroke-linecap:butt; stroke-linejoin:round; stroke-width:4; stroke-opacity:1; fill:none\" points=\"\n  147.108,404.15 166.005,404.15 \n  \"/>\n<polyline clip-path=\"url(#clip840)\" style=\"stroke:#000000; stroke-linecap:butt; stroke-linejoin:round; stroke-width:4; stroke-opacity:1; fill:none\" points=\"\n  147.108,51.5352 166.005,51.5352 \n  \"/>\n<path clip-path=\"url(#clip840)\" d=\"M50.9921 1462.45 L80.6679 1462.45 L80.6679 1466.38 L50.9921 1466.38 L50.9921 1462.45 Z\" fill=\"#000000\" fill-rule=\"evenodd\" fill-opacity=\"1\" /><path clip-path=\"url(#clip840)\" d=\"M94.7882 1475.34 L111.108 1475.34 L111.108 1479.27 L89.1632 1479.27 L89.1632 1475.34 Q91.8252 1472.59 96.4085 1467.96 Q101.015 1463.3 102.196 1461.96 Q104.441 1459.44 105.321 1457.7 Q106.223 1455.94 106.223 1454.25 Q106.223 1451.5 104.279 1449.76 Q102.358 1448.02 99.2558 1448.02 Q97.0567 1448.02 94.603 1448.79 Q92.1725 1449.55 89.3947 1451.1 L89.3947 1446.38 Q92.2188 1445.25 94.6724 1444.67 Q97.1261 1444.09 99.1632 1444.09 Q104.534 1444.09 107.728 1446.77 Q110.922 1449.46 110.922 1453.95 Q110.922 1456.08 110.112 1458 Q109.325 1459.9 107.219 1462.49 Q106.64 1463.16 103.538 1466.38 Q100.436 1469.58 94.7882 1475.34 Z\" fill=\"#000000\" fill-rule=\"evenodd\" fill-opacity=\"1\" /><path clip-path=\"url(#clip840)\" d=\"M99.1632 1095.18 Q95.5521 1095.18 93.7234 1098.74 Q91.9178 1102.29 91.9178 1109.41 Q91.9178 1116.52 93.7234 1120.09 Q95.5521 1123.63 99.1632 1123.63 Q102.797 1123.63 104.603 1120.09 Q106.432 1116.52 106.432 1109.41 Q106.432 1102.29 104.603 1098.74 Q102.797 1095.18 99.1632 1095.18 M99.1632 1091.47 Q104.973 1091.47 108.029 1096.08 Q111.108 1100.66 111.108 1109.41 Q111.108 1118.14 108.029 1122.75 Q104.973 1127.33 99.1632 1127.33 Q93.353 1127.33 90.2743 1122.75 Q87.2188 1118.14 87.2188 1109.41 Q87.2188 1100.66 90.2743 1096.08 Q93.353 1091.47 99.1632 1091.47 Z\" fill=\"#000000\" fill-rule=\"evenodd\" fill-opacity=\"1\" /><path clip-path=\"url(#clip840)\" d=\"M94.7882 770.11 L111.108 770.11 L111.108 774.045 L89.1632 774.045 L89.1632 770.11 Q91.8252 767.355 96.4085 762.726 Q101.015 758.073 102.196 756.73 Q104.441 754.207 105.321 752.471 Q106.223 750.712 106.223 749.022 Q106.223 746.267 104.279 744.531 Q102.358 742.795 99.2558 742.795 Q97.0567 742.795 94.603 743.559 Q92.1725 744.323 89.3947 745.874 L89.3947 741.152 Q92.2188 740.017 94.6724 739.439 Q97.1261 738.86 99.1632 738.86 Q104.534 738.86 107.728 741.545 Q110.922 744.23 110.922 748.721 Q110.922 750.851 110.112 752.772 Q109.325 754.67 107.219 757.263 Q106.64 757.934 103.538 761.152 Q100.436 764.346 94.7882 770.11 Z\" fill=\"#000000\" fill-rule=\"evenodd\" fill-opacity=\"1\" /><path clip-path=\"url(#clip840)\" d=\"M101.524 390.944 L89.7188 409.393 L101.524 409.393 L101.524 390.944 M100.297 386.87 L106.177 386.87 L106.177 409.393 L111.108 409.393 L111.108 413.282 L106.177 413.282 L106.177 421.43 L101.524 421.43 L101.524 413.282 L85.9225 413.282 L85.9225 408.768 L100.297 386.87 Z\" fill=\"#000000\" fill-rule=\"evenodd\" fill-opacity=\"1\" /><path clip-path=\"url(#clip840)\" d=\"M99.5798 49.6718 Q96.4317 49.6718 94.5799 51.8246 Q92.7512 53.9774 92.7512 57.7273 Q92.7512 61.4542 94.5799 63.6301 Q96.4317 65.7828 99.5798 65.7828 Q102.728 65.7828 104.557 63.6301 Q106.408 61.4542 106.408 57.7273 Q106.408 53.9774 104.557 51.8246 Q102.728 49.6718 99.5798 49.6718 M108.862 35.0191 L108.862 39.2784 Q107.103 38.445 105.297 38.0052 Q103.515 37.5654 101.756 37.5654 Q97.1261 37.5654 94.6724 40.6904 Q92.2419 43.8154 91.8947 50.1348 Q93.2604 48.1209 95.3206 47.0561 Q97.3808 45.9681 99.8576 45.9681 Q105.066 45.9681 108.075 49.1394 Q111.108 52.2875 111.108 57.7273 Q111.108 63.0514 107.959 66.269 Q104.811 69.4865 99.5798 69.4865 Q93.5845 69.4865 90.4132 64.9032 Q87.2419 60.2968 87.2419 51.57 Q87.2419 43.3756 91.1308 38.5145 Q95.0197 33.6302 101.571 33.6302 Q103.33 33.6302 105.112 33.9775 Q106.918 34.3247 108.862 35.0191 Z\" fill=\"#000000\" fill-rule=\"evenodd\" fill-opacity=\"1\" /><circle clip-path=\"url(#clip842)\" cx=\"209.532\" cy=\"285.251\" r=\"14\" fill=\"#009af9\" fill-rule=\"evenodd\" fill-opacity=\"1\" stroke=\"#000000\" stroke-opacity=\"1\" stroke-width=\"3.2\"/>\n<circle clip-path=\"url(#clip842)\" cx=\"251.148\" cy=\"450.193\" r=\"14\" fill=\"#009af9\" fill-rule=\"evenodd\" fill-opacity=\"1\" stroke=\"#000000\" stroke-opacity=\"1\" stroke-width=\"3.2\"/>\n<circle clip-path=\"url(#clip842)\" cx=\"292.764\" cy=\"726.689\" r=\"14\" fill=\"#009af9\" fill-rule=\"evenodd\" fill-opacity=\"1\" stroke=\"#000000\" stroke-opacity=\"1\" stroke-width=\"3.2\"/>\n<circle clip-path=\"url(#clip842)\" cx=\"334.38\" cy=\"888.16\" r=\"14\" fill=\"#009af9\" fill-rule=\"evenodd\" fill-opacity=\"1\" stroke=\"#000000\" stroke-opacity=\"1\" stroke-width=\"3.2\"/>\n<circle clip-path=\"url(#clip842)\" cx=\"375.996\" cy=\"870.977\" r=\"14\" fill=\"#009af9\" fill-rule=\"evenodd\" fill-opacity=\"1\" stroke=\"#000000\" stroke-opacity=\"1\" stroke-width=\"3.2\"/>\n<circle clip-path=\"url(#clip842)\" cx=\"417.612\" cy=\"943.797\" r=\"14\" fill=\"#009af9\" fill-rule=\"evenodd\" fill-opacity=\"1\" stroke=\"#000000\" stroke-opacity=\"1\" stroke-width=\"3.2\"/>\n<circle clip-path=\"url(#clip842)\" cx=\"459.228\" cy=\"1085.98\" r=\"14\" fill=\"#009af9\" fill-rule=\"evenodd\" fill-opacity=\"1\" stroke=\"#000000\" stroke-opacity=\"1\" stroke-width=\"3.2\"/>\n<circle clip-path=\"url(#clip842)\" cx=\"500.844\" cy=\"1163.02\" r=\"14\" fill=\"#009af9\" fill-rule=\"evenodd\" fill-opacity=\"1\" stroke=\"#000000\" stroke-opacity=\"1\" stroke-width=\"3.2\"/>\n<circle clip-path=\"url(#clip842)\" cx=\"542.46\" cy=\"1445.72\" r=\"14\" fill=\"#009af9\" fill-rule=\"evenodd\" fill-opacity=\"1\" stroke=\"#000000\" stroke-opacity=\"1\" stroke-width=\"3.2\"/>\n<circle clip-path=\"url(#clip842)\" cx=\"584.076\" cy=\"1302.2\" r=\"14\" fill=\"#009af9\" fill-rule=\"evenodd\" fill-opacity=\"1\" stroke=\"#000000\" stroke-opacity=\"1\" stroke-width=\"3.2\"/>\n<circle clip-path=\"url(#clip842)\" cx=\"625.692\" cy=\"1268.08\" r=\"14\" fill=\"#009af9\" fill-rule=\"evenodd\" fill-opacity=\"1\" stroke=\"#000000\" stroke-opacity=\"1\" stroke-width=\"3.2\"/>\n<circle clip-path=\"url(#clip842)\" cx=\"667.308\" cy=\"1166.17\" r=\"14\" fill=\"#009af9\" fill-rule=\"evenodd\" fill-opacity=\"1\" stroke=\"#000000\" stroke-opacity=\"1\" stroke-width=\"3.2\"/>\n<circle clip-path=\"url(#clip842)\" cx=\"708.924\" cy=\"1263.4\" r=\"14\" fill=\"#009af9\" fill-rule=\"evenodd\" fill-opacity=\"1\" stroke=\"#000000\" stroke-opacity=\"1\" stroke-width=\"3.2\"/>\n<circle clip-path=\"url(#clip842)\" cx=\"750.54\" cy=\"1249.8\" r=\"14\" fill=\"#009af9\" fill-rule=\"evenodd\" fill-opacity=\"1\" stroke=\"#000000\" stroke-opacity=\"1\" stroke-width=\"3.2\"/>\n<circle clip-path=\"url(#clip842)\" cx=\"792.156\" cy=\"1184.63\" r=\"14\" fill=\"#009af9\" fill-rule=\"evenodd\" fill-opacity=\"1\" stroke=\"#000000\" stroke-opacity=\"1\" stroke-width=\"3.2\"/>\n<circle clip-path=\"url(#clip842)\" cx=\"833.772\" cy=\"1174\" r=\"14\" fill=\"#009af9\" fill-rule=\"evenodd\" fill-opacity=\"1\" stroke=\"#000000\" stroke-opacity=\"1\" stroke-width=\"3.2\"/>\n<circle clip-path=\"url(#clip842)\" cx=\"875.388\" cy=\"1154.82\" r=\"14\" fill=\"#009af9\" fill-rule=\"evenodd\" fill-opacity=\"1\" stroke=\"#000000\" stroke-opacity=\"1\" stroke-width=\"3.2\"/>\n<circle clip-path=\"url(#clip842)\" cx=\"917.004\" cy=\"1084.53\" r=\"14\" fill=\"#009af9\" fill-rule=\"evenodd\" fill-opacity=\"1\" stroke=\"#000000\" stroke-opacity=\"1\" stroke-width=\"3.2\"/>\n<circle clip-path=\"url(#clip842)\" cx=\"958.62\" cy=\"1055.22\" r=\"14\" fill=\"#009af9\" fill-rule=\"evenodd\" fill-opacity=\"1\" stroke=\"#000000\" stroke-opacity=\"1\" stroke-width=\"3.2\"/>\n<circle clip-path=\"url(#clip842)\" cx=\"1000.24\" cy=\"1036.27\" r=\"14\" fill=\"#009af9\" fill-rule=\"evenodd\" fill-opacity=\"1\" stroke=\"#000000\" stroke-opacity=\"1\" stroke-width=\"3.2\"/>\n<circle clip-path=\"url(#clip842)\" cx=\"1041.85\" cy=\"860.556\" r=\"14\" fill=\"#009af9\" fill-rule=\"evenodd\" fill-opacity=\"1\" stroke=\"#000000\" stroke-opacity=\"1\" stroke-width=\"3.2\"/>\n<circle clip-path=\"url(#clip842)\" cx=\"1083.47\" cy=\"870.878\" r=\"14\" fill=\"#009af9\" fill-rule=\"evenodd\" fill-opacity=\"1\" stroke=\"#000000\" stroke-opacity=\"1\" stroke-width=\"3.2\"/>\n<circle clip-path=\"url(#clip842)\" cx=\"1125.08\" cy=\"865.298\" r=\"14\" fill=\"#009af9\" fill-rule=\"evenodd\" fill-opacity=\"1\" stroke=\"#000000\" stroke-opacity=\"1\" stroke-width=\"3.2\"/>\n<circle clip-path=\"url(#clip842)\" cx=\"1166.7\" cy=\"723.06\" r=\"14\" fill=\"#009af9\" fill-rule=\"evenodd\" fill-opacity=\"1\" stroke=\"#000000\" stroke-opacity=\"1\" stroke-width=\"3.2\"/>\n<circle clip-path=\"url(#clip842)\" cx=\"1208.32\" cy=\"736.41\" r=\"14\" fill=\"#009af9\" fill-rule=\"evenodd\" fill-opacity=\"1\" stroke=\"#000000\" stroke-opacity=\"1\" stroke-width=\"3.2\"/>\n<circle clip-path=\"url(#clip842)\" cx=\"1249.93\" cy=\"794.718\" r=\"14\" fill=\"#009af9\" fill-rule=\"evenodd\" fill-opacity=\"1\" stroke=\"#000000\" stroke-opacity=\"1\" stroke-width=\"3.2\"/>\n<circle clip-path=\"url(#clip842)\" cx=\"1291.55\" cy=\"831.984\" r=\"14\" fill=\"#009af9\" fill-rule=\"evenodd\" fill-opacity=\"1\" stroke=\"#000000\" stroke-opacity=\"1\" stroke-width=\"3.2\"/>\n<circle clip-path=\"url(#clip842)\" cx=\"1333.16\" cy=\"713.818\" r=\"14\" fill=\"#009af9\" fill-rule=\"evenodd\" fill-opacity=\"1\" stroke=\"#000000\" stroke-opacity=\"1\" stroke-width=\"3.2\"/>\n<circle clip-path=\"url(#clip842)\" cx=\"1374.78\" cy=\"761.832\" r=\"14\" fill=\"#009af9\" fill-rule=\"evenodd\" fill-opacity=\"1\" stroke=\"#000000\" stroke-opacity=\"1\" stroke-width=\"3.2\"/>\n<circle clip-path=\"url(#clip842)\" cx=\"1416.4\" cy=\"600.19\" r=\"14\" fill=\"#009af9\" fill-rule=\"evenodd\" fill-opacity=\"1\" stroke=\"#000000\" stroke-opacity=\"1\" stroke-width=\"3.2\"/>\n<circle clip-path=\"url(#clip842)\" cx=\"1458.01\" cy=\"665.117\" r=\"14\" fill=\"#009af9\" fill-rule=\"evenodd\" fill-opacity=\"1\" stroke=\"#000000\" stroke-opacity=\"1\" stroke-width=\"3.2\"/>\n<circle clip-path=\"url(#clip842)\" cx=\"1499.63\" cy=\"727.005\" r=\"14\" fill=\"#009af9\" fill-rule=\"evenodd\" fill-opacity=\"1\" stroke=\"#000000\" stroke-opacity=\"1\" stroke-width=\"3.2\"/>\n<circle clip-path=\"url(#clip842)\" cx=\"1541.24\" cy=\"830.551\" r=\"14\" fill=\"#009af9\" fill-rule=\"evenodd\" fill-opacity=\"1\" stroke=\"#000000\" stroke-opacity=\"1\" stroke-width=\"3.2\"/>\n<circle clip-path=\"url(#clip842)\" cx=\"1582.86\" cy=\"669.378\" r=\"14\" fill=\"#009af9\" fill-rule=\"evenodd\" fill-opacity=\"1\" stroke=\"#000000\" stroke-opacity=\"1\" stroke-width=\"3.2\"/>\n<circle clip-path=\"url(#clip842)\" cx=\"1624.48\" cy=\"701.168\" r=\"14\" fill=\"#009af9\" fill-rule=\"evenodd\" fill-opacity=\"1\" stroke=\"#000000\" stroke-opacity=\"1\" stroke-width=\"3.2\"/>\n<circle clip-path=\"url(#clip842)\" cx=\"1666.09\" cy=\"786.726\" r=\"14\" fill=\"#009af9\" fill-rule=\"evenodd\" fill-opacity=\"1\" stroke=\"#000000\" stroke-opacity=\"1\" stroke-width=\"3.2\"/>\n<circle clip-path=\"url(#clip842)\" cx=\"1707.71\" cy=\"671.127\" r=\"14\" fill=\"#009af9\" fill-rule=\"evenodd\" fill-opacity=\"1\" stroke=\"#000000\" stroke-opacity=\"1\" stroke-width=\"3.2\"/>\n<circle clip-path=\"url(#clip842)\" cx=\"1749.32\" cy=\"680.133\" r=\"14\" fill=\"#009af9\" fill-rule=\"evenodd\" fill-opacity=\"1\" stroke=\"#000000\" stroke-opacity=\"1\" stroke-width=\"3.2\"/>\n<circle clip-path=\"url(#clip842)\" cx=\"1790.94\" cy=\"887.38\" r=\"14\" fill=\"#009af9\" fill-rule=\"evenodd\" fill-opacity=\"1\" stroke=\"#000000\" stroke-opacity=\"1\" stroke-width=\"3.2\"/>\n<circle clip-path=\"url(#clip842)\" cx=\"1832.56\" cy=\"838.44\" r=\"14\" fill=\"#009af9\" fill-rule=\"evenodd\" fill-opacity=\"1\" stroke=\"#000000\" stroke-opacity=\"1\" stroke-width=\"3.2\"/>\n<circle clip-path=\"url(#clip842)\" cx=\"1874.17\" cy=\"799.132\" r=\"14\" fill=\"#009af9\" fill-rule=\"evenodd\" fill-opacity=\"1\" stroke=\"#000000\" stroke-opacity=\"1\" stroke-width=\"3.2\"/>\n<circle clip-path=\"url(#clip842)\" cx=\"1915.79\" cy=\"655.013\" r=\"14\" fill=\"#009af9\" fill-rule=\"evenodd\" fill-opacity=\"1\" stroke=\"#000000\" stroke-opacity=\"1\" stroke-width=\"3.2\"/>\n<circle clip-path=\"url(#clip842)\" cx=\"1957.4\" cy=\"770.172\" r=\"14\" fill=\"#009af9\" fill-rule=\"evenodd\" fill-opacity=\"1\" stroke=\"#000000\" stroke-opacity=\"1\" stroke-width=\"3.2\"/>\n<circle clip-path=\"url(#clip842)\" cx=\"1999.02\" cy=\"793.411\" r=\"14\" fill=\"#009af9\" fill-rule=\"evenodd\" fill-opacity=\"1\" stroke=\"#000000\" stroke-opacity=\"1\" stroke-width=\"3.2\"/>\n<circle clip-path=\"url(#clip842)\" cx=\"2040.64\" cy=\"788.03\" r=\"14\" fill=\"#009af9\" fill-rule=\"evenodd\" fill-opacity=\"1\" stroke=\"#000000\" stroke-opacity=\"1\" stroke-width=\"3.2\"/>\n<circle clip-path=\"url(#clip842)\" cx=\"2082.25\" cy=\"773.928\" r=\"14\" fill=\"#009af9\" fill-rule=\"evenodd\" fill-opacity=\"1\" stroke=\"#000000\" stroke-opacity=\"1\" stroke-width=\"3.2\"/>\n<circle clip-path=\"url(#clip842)\" cx=\"2123.87\" cy=\"530.299\" r=\"14\" fill=\"#009af9\" fill-rule=\"evenodd\" fill-opacity=\"1\" stroke=\"#000000\" stroke-opacity=\"1\" stroke-width=\"3.2\"/>\n<circle clip-path=\"url(#clip842)\" cx=\"2165.48\" cy=\"543.125\" r=\"14\" fill=\"#009af9\" fill-rule=\"evenodd\" fill-opacity=\"1\" stroke=\"#000000\" stroke-opacity=\"1\" stroke-width=\"3.2\"/>\n<circle clip-path=\"url(#clip842)\" cx=\"2207.1\" cy=\"521.3\" r=\"14\" fill=\"#009af9\" fill-rule=\"evenodd\" fill-opacity=\"1\" stroke=\"#000000\" stroke-opacity=\"1\" stroke-width=\"3.2\"/>\n<circle clip-path=\"url(#clip842)\" cx=\"2248.72\" cy=\"261.922\" r=\"14\" fill=\"#009af9\" fill-rule=\"evenodd\" fill-opacity=\"1\" stroke=\"#000000\" stroke-opacity=\"1\" stroke-width=\"3.2\"/>\n<circle clip-path=\"url(#clip842)\" cx=\"2290.33\" cy=\"87.9763\" r=\"14\" fill=\"#009af9\" fill-rule=\"evenodd\" fill-opacity=\"1\" stroke=\"#000000\" stroke-opacity=\"1\" stroke-width=\"3.2\"/>\n<polyline clip-path=\"url(#clip842)\" style=\"stroke:#e26f46; stroke-linecap:butt; stroke-linejoin:round; stroke-width:4; stroke-opacity:1; fill:none\" points=\"\n  209.532,240.794 251.148,474.231 292.764,670.784 334.38,833.652 375.996,965.907 417.612,1070.5 459.228,1150.23 500.844,1207.81 542.46,1245.8 584.076,1266.63 \n  625.692,1272.6 667.308,1265.91 708.924,1248.61 750.54,1222.62 792.156,1189.74 833.772,1151.65 875.388,1109.9 917.004,1065.9 958.62,1020.94 1000.24,976.187 \n  1041.85,932.681 1083.47,891.329 1125.08,852.914 1166.7,818.092 1208.32,787.39 1249.93,761.21 1291.55,739.826 1333.16,723.383 1374.78,711.902 1416.4,705.274 \n  1458.01,703.264 1499.63,705.511 1541.24,711.524 1582.86,720.687 1624.48,732.256 1666.09,745.359 1707.71,758.999 1749.32,772.05 1790.94,783.259 1832.56,791.247 \n  1874.17,794.505 1915.79,791.4 1957.4,780.171 1999.02,758.927 2040.64,725.654 2082.25,678.208 2123.87,614.319 2165.48,531.589 2207.1,427.493 2248.72,299.379 \n  2290.33,144.468 \n  \"/>\n<path clip-path=\"url(#clip840)\" d=\"\nM1986.8 250.738 L2279.23 250.738 L2279.23 95.2176 L1986.8 95.2176  Z\n  \" fill=\"#ffffff\" fill-rule=\"evenodd\" fill-opacity=\"1\"/>\n<polyline clip-path=\"url(#clip840)\" style=\"stroke:#000000; stroke-linecap:butt; stroke-linejoin:round; stroke-width:4; stroke-opacity:1; fill:none\" points=\"\n  1986.8,250.738 2279.23,250.738 2279.23,95.2176 1986.8,95.2176 1986.8,250.738 \n  \"/>\n<circle clip-path=\"url(#clip840)\" cx=\"2082.8\" cy=\"147.058\" r=\"23\" fill=\"#009af9\" fill-rule=\"evenodd\" fill-opacity=\"1\" stroke=\"#000000\" stroke-opacity=\"1\" stroke-width=\"5.12\"/>\n<path clip-path=\"url(#clip840)\" d=\"M2192.65 166.745 Q2190.84 171.375 2189.13 172.787 Q2187.42 174.199 2184.54 174.199 L2181.14 174.199 L2181.14 170.634 L2183.64 170.634 Q2185.4 170.634 2186.37 169.8 Q2187.35 168.967 2188.53 165.865 L2189.29 163.921 L2178.8 138.412 L2183.32 138.412 L2191.42 158.689 L2199.52 138.412 L2204.04 138.412 L2192.65 166.745 Z\" fill=\"#000000\" fill-rule=\"evenodd\" fill-opacity=\"1\" /><path clip-path=\"url(#clip840)\" d=\"M2211.33 160.402 L2218.97 160.402 L2218.97 134.037 L2210.66 135.703 L2210.66 131.444 L2218.92 129.778 L2223.6 129.778 L2223.6 160.402 L2231.23 160.402 L2231.23 164.338 L2211.33 164.338 L2211.33 160.402 Z\" fill=\"#000000\" fill-rule=\"evenodd\" fill-opacity=\"1\" /><polyline clip-path=\"url(#clip840)\" style=\"stroke:#e26f46; stroke-linecap:butt; stroke-linejoin:round; stroke-width:4; stroke-opacity:1; fill:none\" points=\"\n  2010.8,198.898 2154.8,198.898 \n  \"/>\n<path clip-path=\"url(#clip840)\" d=\"M2192.65 218.585 Q2190.84 223.215 2189.13 224.627 Q2187.42 226.039 2184.54 226.039 L2181.14 226.039 L2181.14 222.474 L2183.64 222.474 Q2185.4 222.474 2186.37 221.64 Q2187.35 220.807 2188.53 217.705 L2189.29 215.761 L2178.8 190.252 L2183.32 190.252 L2191.42 210.529 L2199.52 190.252 L2204.04 190.252 L2192.65 218.585 Z\" fill=\"#000000\" fill-rule=\"evenodd\" fill-opacity=\"1\" /><path clip-path=\"url(#clip840)\" d=\"M2214.54 212.242 L2230.86 212.242 L2230.86 216.178 L2208.92 216.178 L2208.92 212.242 Q2211.58 209.488 2216.16 204.858 Q2220.77 200.205 2221.95 198.863 Q2224.2 196.34 2225.08 194.604 Q2225.98 192.844 2225.98 191.155 Q2225.98 188.4 2224.04 186.664 Q2222.11 184.928 2219.01 184.928 Q2216.81 184.928 2214.36 185.692 Q2211.93 186.455 2209.15 188.006 L2209.15 183.284 Q2211.98 182.15 2214.43 181.571 Q2216.88 180.993 2218.92 180.993 Q2224.29 180.993 2227.48 183.678 Q2230.68 186.363 2230.68 190.854 Q2230.68 192.983 2229.87 194.905 Q2229.08 196.803 2226.98 199.395 Q2226.4 200.067 2223.29 203.284 Q2220.19 206.479 2214.54 212.242 Z\" fill=\"#000000\" fill-rule=\"evenodd\" fill-opacity=\"1\" /></svg>\n",
      "text/html": [
       "<?xml version=\"1.0\" encoding=\"utf-8\"?>\n",
       "<svg xmlns=\"http://www.w3.org/2000/svg\" xmlns:xlink=\"http://www.w3.org/1999/xlink\" width=\"600\" height=\"400\" viewBox=\"0 0 2400 1600\">\n",
       "<defs>\n",
       "  <clipPath id=\"clip890\">\n",
       "    <rect x=\"0\" y=\"0\" width=\"2400\" height=\"1600\"/>\n",
       "  </clipPath>\n",
       "</defs>\n",
       "<path clip-path=\"url(#clip890)\" d=\"\n",
       "M0 1600 L2400 1600 L2400 0 L0 0  Z\n",
       "  \" fill=\"#ffffff\" fill-rule=\"evenodd\" fill-opacity=\"1\"/>\n",
       "<defs>\n",
       "  <clipPath id=\"clip891\">\n",
       "    <rect x=\"480\" y=\"0\" width=\"1681\" height=\"1600\"/>\n",
       "  </clipPath>\n",
       "</defs>\n",
       "<path clip-path=\"url(#clip890)\" d=\"\n",
       "M147.108 1486.45 L2352.76 1486.45 L2352.76 47.2441 L147.108 47.2441  Z\n",
       "  \" fill=\"#ffffff\" fill-rule=\"evenodd\" fill-opacity=\"1\"/>\n",
       "<defs>\n",
       "  <clipPath id=\"clip892\">\n",
       "    <rect x=\"147\" y=\"47\" width=\"2207\" height=\"1440\"/>\n",
       "  </clipPath>\n",
       "</defs>\n",
       "<polyline clip-path=\"url(#clip892)\" style=\"stroke:#000000; stroke-linecap:butt; stroke-linejoin:round; stroke-width:2; stroke-opacity:0.1; fill:none\" points=\"\n",
       "  209.532,1486.45 209.532,47.2441 \n",
       "  \"/>\n",
       "<polyline clip-path=\"url(#clip892)\" style=\"stroke:#000000; stroke-linecap:butt; stroke-linejoin:round; stroke-width:2; stroke-opacity:0.1; fill:none\" points=\"\n",
       "  625.692,1486.45 625.692,47.2441 \n",
       "  \"/>\n",
       "<polyline clip-path=\"url(#clip892)\" style=\"stroke:#000000; stroke-linecap:butt; stroke-linejoin:round; stroke-width:2; stroke-opacity:0.1; fill:none\" points=\"\n",
       "  1041.85,1486.45 1041.85,47.2441 \n",
       "  \"/>\n",
       "<polyline clip-path=\"url(#clip892)\" style=\"stroke:#000000; stroke-linecap:butt; stroke-linejoin:round; stroke-width:2; stroke-opacity:0.1; fill:none\" points=\"\n",
       "  1458.01,1486.45 1458.01,47.2441 \n",
       "  \"/>\n",
       "<polyline clip-path=\"url(#clip892)\" style=\"stroke:#000000; stroke-linecap:butt; stroke-linejoin:round; stroke-width:2; stroke-opacity:0.1; fill:none\" points=\"\n",
       "  1874.17,1486.45 1874.17,47.2441 \n",
       "  \"/>\n",
       "<polyline clip-path=\"url(#clip892)\" style=\"stroke:#000000; stroke-linecap:butt; stroke-linejoin:round; stroke-width:2; stroke-opacity:0.1; fill:none\" points=\"\n",
       "  2290.33,1486.45 2290.33,47.2441 \n",
       "  \"/>\n",
       "<polyline clip-path=\"url(#clip890)\" style=\"stroke:#000000; stroke-linecap:butt; stroke-linejoin:round; stroke-width:4; stroke-opacity:1; fill:none\" points=\"\n",
       "  147.108,1486.45 2352.76,1486.45 \n",
       "  \"/>\n",
       "<polyline clip-path=\"url(#clip890)\" style=\"stroke:#000000; stroke-linecap:butt; stroke-linejoin:round; stroke-width:4; stroke-opacity:1; fill:none\" points=\"\n",
       "  209.532,1486.45 209.532,1467.55 \n",
       "  \"/>\n",
       "<polyline clip-path=\"url(#clip890)\" style=\"stroke:#000000; stroke-linecap:butt; stroke-linejoin:round; stroke-width:4; stroke-opacity:1; fill:none\" points=\"\n",
       "  625.692,1486.45 625.692,1467.55 \n",
       "  \"/>\n",
       "<polyline clip-path=\"url(#clip890)\" style=\"stroke:#000000; stroke-linecap:butt; stroke-linejoin:round; stroke-width:4; stroke-opacity:1; fill:none\" points=\"\n",
       "  1041.85,1486.45 1041.85,1467.55 \n",
       "  \"/>\n",
       "<polyline clip-path=\"url(#clip890)\" style=\"stroke:#000000; stroke-linecap:butt; stroke-linejoin:round; stroke-width:4; stroke-opacity:1; fill:none\" points=\"\n",
       "  1458.01,1486.45 1458.01,1467.55 \n",
       "  \"/>\n",
       "<polyline clip-path=\"url(#clip890)\" style=\"stroke:#000000; stroke-linecap:butt; stroke-linejoin:round; stroke-width:4; stroke-opacity:1; fill:none\" points=\"\n",
       "  1874.17,1486.45 1874.17,1467.55 \n",
       "  \"/>\n",
       "<polyline clip-path=\"url(#clip890)\" style=\"stroke:#000000; stroke-linecap:butt; stroke-linejoin:round; stroke-width:4; stroke-opacity:1; fill:none\" points=\"\n",
       "  2290.33,1486.45 2290.33,1467.55 \n",
       "  \"/>\n",
       "<path clip-path=\"url(#clip890)\" d=\"M179.474 1532.02 L209.15 1532.02 L209.15 1535.95 L179.474 1535.95 L179.474 1532.02 Z\" fill=\"#000000\" fill-rule=\"evenodd\" fill-opacity=\"1\" /><path clip-path=\"url(#clip890)\" d=\"M223.27 1544.91 L239.589 1544.91 L239.589 1548.85 L217.645 1548.85 L217.645 1544.91 Q220.307 1542.16 224.89 1537.53 Q229.497 1532.88 230.677 1531.53 Q232.923 1529.01 233.802 1527.27 Q234.705 1525.51 234.705 1523.82 Q234.705 1521.07 232.761 1519.33 Q230.839 1517.6 227.737 1517.6 Q225.538 1517.6 223.085 1518.36 Q220.654 1519.13 217.876 1520.68 L217.876 1515.95 Q220.7 1514.82 223.154 1514.24 Q225.608 1513.66 227.645 1513.66 Q233.015 1513.66 236.21 1516.35 Q239.404 1519.03 239.404 1523.52 Q239.404 1525.65 238.594 1527.57 Q237.807 1529.47 235.7 1532.07 Q235.122 1532.74 232.02 1535.95 Q228.918 1539.15 223.27 1544.91 Z\" fill=\"#000000\" fill-rule=\"evenodd\" fill-opacity=\"1\" /><path clip-path=\"url(#clip890)\" d=\"M595.449 1532.02 L625.124 1532.02 L625.124 1535.95 L595.449 1535.95 L595.449 1532.02 Z\" fill=\"#000000\" fill-rule=\"evenodd\" fill-opacity=\"1\" /><path clip-path=\"url(#clip890)\" d=\"M636.027 1544.91 L643.666 1544.91 L643.666 1518.55 L635.356 1520.21 L635.356 1515.95 L643.62 1514.29 L648.296 1514.29 L648.296 1544.91 L655.935 1544.91 L655.935 1548.85 L636.027 1548.85 L636.027 1544.91 Z\" fill=\"#000000\" fill-rule=\"evenodd\" fill-opacity=\"1\" /><path clip-path=\"url(#clip890)\" d=\"M1041.85 1517.37 Q1038.24 1517.37 1036.41 1520.93 Q1034.61 1524.47 1034.61 1531.6 Q1034.61 1538.71 1036.41 1542.27 Q1038.24 1545.82 1041.85 1545.82 Q1045.49 1545.82 1047.29 1542.27 Q1049.12 1538.71 1049.12 1531.6 Q1049.12 1524.47 1047.29 1520.93 Q1045.49 1517.37 1041.85 1517.37 M1041.85 1513.66 Q1047.66 1513.66 1050.72 1518.27 Q1053.8 1522.85 1053.8 1531.6 Q1053.8 1540.33 1050.72 1544.94 Q1047.66 1549.52 1041.85 1549.52 Q1036.04 1549.52 1032.96 1544.94 Q1029.91 1540.33 1029.91 1531.6 Q1029.91 1522.85 1032.96 1518.27 Q1036.04 1513.66 1041.85 1513.66 Z\" fill=\"#000000\" fill-rule=\"evenodd\" fill-opacity=\"1\" /><path clip-path=\"url(#clip890)\" d=\"M1448.39 1544.91 L1456.03 1544.91 L1456.03 1518.55 L1447.72 1520.21 L1447.72 1515.95 L1455.99 1514.29 L1460.66 1514.29 L1460.66 1544.91 L1468.3 1544.91 L1468.3 1548.85 L1448.39 1548.85 L1448.39 1544.91 Z\" fill=\"#000000\" fill-rule=\"evenodd\" fill-opacity=\"1\" /><path clip-path=\"url(#clip890)\" d=\"M1868.82 1544.91 L1885.14 1544.91 L1885.14 1548.85 L1863.2 1548.85 L1863.2 1544.91 Q1865.86 1542.16 1870.44 1537.53 Q1875.05 1532.88 1876.23 1531.53 Q1878.48 1529.01 1879.36 1527.27 Q1880.26 1525.51 1880.26 1523.82 Q1880.26 1521.07 1878.32 1519.33 Q1876.39 1517.6 1873.29 1517.6 Q1871.09 1517.6 1868.64 1518.36 Q1866.21 1519.13 1863.43 1520.68 L1863.43 1515.95 Q1866.26 1514.82 1868.71 1514.24 Q1871.16 1513.66 1873.2 1513.66 Q1878.57 1513.66 1881.76 1516.35 Q1884.96 1519.03 1884.96 1523.52 Q1884.96 1525.65 1884.15 1527.57 Q1883.36 1529.47 1881.26 1532.07 Q1880.68 1532.74 1877.57 1535.95 Q1874.47 1539.15 1868.82 1544.91 Z\" fill=\"#000000\" fill-rule=\"evenodd\" fill-opacity=\"1\" /><path clip-path=\"url(#clip890)\" d=\"M2294.58 1530.21 Q2297.94 1530.93 2299.81 1533.2 Q2301.71 1535.47 2301.71 1538.8 Q2301.71 1543.92 2298.19 1546.72 Q2294.67 1549.52 2288.19 1549.52 Q2286.01 1549.52 2283.7 1549.08 Q2281.41 1548.66 2278.95 1547.81 L2278.95 1543.29 Q2280.9 1544.43 2283.21 1545.01 Q2285.53 1545.58 2288.05 1545.58 Q2292.45 1545.58 2294.74 1543.85 Q2297.06 1542.11 2297.06 1538.8 Q2297.06 1535.75 2294.9 1534.03 Q2292.77 1532.3 2288.95 1532.3 L2284.93 1532.3 L2284.93 1528.45 L2289.14 1528.45 Q2292.59 1528.45 2294.42 1527.09 Q2296.25 1525.7 2296.25 1523.11 Q2296.25 1520.45 2294.35 1519.03 Q2292.47 1517.6 2288.95 1517.6 Q2287.03 1517.6 2284.83 1518.01 Q2282.64 1518.43 2280 1519.31 L2280 1515.14 Q2282.66 1514.4 2284.97 1514.03 Q2287.31 1513.66 2289.37 1513.66 Q2294.7 1513.66 2297.8 1516.09 Q2300.9 1518.5 2300.9 1522.62 Q2300.9 1525.49 2299.26 1527.48 Q2297.61 1529.45 2294.58 1530.21 Z\" fill=\"#000000\" fill-rule=\"evenodd\" fill-opacity=\"1\" /><polyline clip-path=\"url(#clip892)\" style=\"stroke:#000000; stroke-linecap:butt; stroke-linejoin:round; stroke-width:2; stroke-opacity:0.1; fill:none\" points=\"\n",
       "  147.108,1461.99 2352.76,1461.99 \n",
       "  \"/>\n",
       "<polyline clip-path=\"url(#clip892)\" style=\"stroke:#000000; stroke-linecap:butt; stroke-linejoin:round; stroke-width:2; stroke-opacity:0.1; fill:none\" points=\"\n",
       "  147.108,1109.38 2352.76,1109.38 \n",
       "  \"/>\n",
       "<polyline clip-path=\"url(#clip892)\" style=\"stroke:#000000; stroke-linecap:butt; stroke-linejoin:round; stroke-width:2; stroke-opacity:0.1; fill:none\" points=\"\n",
       "  147.108,756.765 2352.76,756.765 \n",
       "  \"/>\n",
       "<polyline clip-path=\"url(#clip892)\" style=\"stroke:#000000; stroke-linecap:butt; stroke-linejoin:round; stroke-width:2; stroke-opacity:0.1; fill:none\" points=\"\n",
       "  147.108,404.15 2352.76,404.15 \n",
       "  \"/>\n",
       "<polyline clip-path=\"url(#clip892)\" style=\"stroke:#000000; stroke-linecap:butt; stroke-linejoin:round; stroke-width:2; stroke-opacity:0.1; fill:none\" points=\"\n",
       "  147.108,51.5352 2352.76,51.5352 \n",
       "  \"/>\n",
       "<polyline clip-path=\"url(#clip890)\" style=\"stroke:#000000; stroke-linecap:butt; stroke-linejoin:round; stroke-width:4; stroke-opacity:1; fill:none\" points=\"\n",
       "  147.108,1486.45 147.108,47.2441 \n",
       "  \"/>\n",
       "<polyline clip-path=\"url(#clip890)\" style=\"stroke:#000000; stroke-linecap:butt; stroke-linejoin:round; stroke-width:4; stroke-opacity:1; fill:none\" points=\"\n",
       "  147.108,1461.99 166.005,1461.99 \n",
       "  \"/>\n",
       "<polyline clip-path=\"url(#clip890)\" style=\"stroke:#000000; stroke-linecap:butt; stroke-linejoin:round; stroke-width:4; stroke-opacity:1; fill:none\" points=\"\n",
       "  147.108,1109.38 166.005,1109.38 \n",
       "  \"/>\n",
       "<polyline clip-path=\"url(#clip890)\" style=\"stroke:#000000; stroke-linecap:butt; stroke-linejoin:round; stroke-width:4; stroke-opacity:1; fill:none\" points=\"\n",
       "  147.108,756.765 166.005,756.765 \n",
       "  \"/>\n",
       "<polyline clip-path=\"url(#clip890)\" style=\"stroke:#000000; stroke-linecap:butt; stroke-linejoin:round; stroke-width:4; stroke-opacity:1; fill:none\" points=\"\n",
       "  147.108,404.15 166.005,404.15 \n",
       "  \"/>\n",
       "<polyline clip-path=\"url(#clip890)\" style=\"stroke:#000000; stroke-linecap:butt; stroke-linejoin:round; stroke-width:4; stroke-opacity:1; fill:none\" points=\"\n",
       "  147.108,51.5352 166.005,51.5352 \n",
       "  \"/>\n",
       "<path clip-path=\"url(#clip890)\" d=\"M50.9921 1462.45 L80.6679 1462.45 L80.6679 1466.38 L50.9921 1466.38 L50.9921 1462.45 Z\" fill=\"#000000\" fill-rule=\"evenodd\" fill-opacity=\"1\" /><path clip-path=\"url(#clip890)\" d=\"M94.7882 1475.34 L111.108 1475.34 L111.108 1479.27 L89.1632 1479.27 L89.1632 1475.34 Q91.8252 1472.59 96.4085 1467.96 Q101.015 1463.3 102.196 1461.96 Q104.441 1459.44 105.321 1457.7 Q106.223 1455.94 106.223 1454.25 Q106.223 1451.5 104.279 1449.76 Q102.358 1448.02 99.2558 1448.02 Q97.0567 1448.02 94.603 1448.79 Q92.1725 1449.55 89.3947 1451.1 L89.3947 1446.38 Q92.2188 1445.25 94.6724 1444.67 Q97.1261 1444.09 99.1632 1444.09 Q104.534 1444.09 107.728 1446.77 Q110.922 1449.46 110.922 1453.95 Q110.922 1456.08 110.112 1458 Q109.325 1459.9 107.219 1462.49 Q106.64 1463.16 103.538 1466.38 Q100.436 1469.58 94.7882 1475.34 Z\" fill=\"#000000\" fill-rule=\"evenodd\" fill-opacity=\"1\" /><path clip-path=\"url(#clip890)\" d=\"M99.1632 1095.18 Q95.5521 1095.18 93.7234 1098.74 Q91.9178 1102.29 91.9178 1109.41 Q91.9178 1116.52 93.7234 1120.09 Q95.5521 1123.63 99.1632 1123.63 Q102.797 1123.63 104.603 1120.09 Q106.432 1116.52 106.432 1109.41 Q106.432 1102.29 104.603 1098.74 Q102.797 1095.18 99.1632 1095.18 M99.1632 1091.47 Q104.973 1091.47 108.029 1096.08 Q111.108 1100.66 111.108 1109.41 Q111.108 1118.14 108.029 1122.75 Q104.973 1127.33 99.1632 1127.33 Q93.353 1127.33 90.2743 1122.75 Q87.2188 1118.14 87.2188 1109.41 Q87.2188 1100.66 90.2743 1096.08 Q93.353 1091.47 99.1632 1091.47 Z\" fill=\"#000000\" fill-rule=\"evenodd\" fill-opacity=\"1\" /><path clip-path=\"url(#clip890)\" d=\"M94.7882 770.11 L111.108 770.11 L111.108 774.045 L89.1632 774.045 L89.1632 770.11 Q91.8252 767.355 96.4085 762.726 Q101.015 758.073 102.196 756.73 Q104.441 754.207 105.321 752.471 Q106.223 750.712 106.223 749.022 Q106.223 746.267 104.279 744.531 Q102.358 742.795 99.2558 742.795 Q97.0567 742.795 94.603 743.559 Q92.1725 744.323 89.3947 745.874 L89.3947 741.152 Q92.2188 740.017 94.6724 739.439 Q97.1261 738.86 99.1632 738.86 Q104.534 738.86 107.728 741.545 Q110.922 744.23 110.922 748.721 Q110.922 750.851 110.112 752.772 Q109.325 754.67 107.219 757.263 Q106.64 757.934 103.538 761.152 Q100.436 764.346 94.7882 770.11 Z\" fill=\"#000000\" fill-rule=\"evenodd\" fill-opacity=\"1\" /><path clip-path=\"url(#clip890)\" d=\"M101.524 390.944 L89.7188 409.393 L101.524 409.393 L101.524 390.944 M100.297 386.87 L106.177 386.87 L106.177 409.393 L111.108 409.393 L111.108 413.282 L106.177 413.282 L106.177 421.43 L101.524 421.43 L101.524 413.282 L85.9225 413.282 L85.9225 408.768 L100.297 386.87 Z\" fill=\"#000000\" fill-rule=\"evenodd\" fill-opacity=\"1\" /><path clip-path=\"url(#clip890)\" d=\"M99.5798 49.6718 Q96.4317 49.6718 94.5799 51.8246 Q92.7512 53.9774 92.7512 57.7273 Q92.7512 61.4542 94.5799 63.6301 Q96.4317 65.7828 99.5798 65.7828 Q102.728 65.7828 104.557 63.6301 Q106.408 61.4542 106.408 57.7273 Q106.408 53.9774 104.557 51.8246 Q102.728 49.6718 99.5798 49.6718 M108.862 35.0191 L108.862 39.2784 Q107.103 38.445 105.297 38.0052 Q103.515 37.5654 101.756 37.5654 Q97.1261 37.5654 94.6724 40.6904 Q92.2419 43.8154 91.8947 50.1348 Q93.2604 48.1209 95.3206 47.0561 Q97.3808 45.9681 99.8576 45.9681 Q105.066 45.9681 108.075 49.1394 Q111.108 52.2875 111.108 57.7273 Q111.108 63.0514 107.959 66.269 Q104.811 69.4865 99.5798 69.4865 Q93.5845 69.4865 90.4132 64.9032 Q87.2419 60.2968 87.2419 51.57 Q87.2419 43.3756 91.1308 38.5145 Q95.0197 33.6302 101.571 33.6302 Q103.33 33.6302 105.112 33.9775 Q106.918 34.3247 108.862 35.0191 Z\" fill=\"#000000\" fill-rule=\"evenodd\" fill-opacity=\"1\" /><circle clip-path=\"url(#clip892)\" cx=\"209.532\" cy=\"285.251\" r=\"14\" fill=\"#009af9\" fill-rule=\"evenodd\" fill-opacity=\"1\" stroke=\"#000000\" stroke-opacity=\"1\" stroke-width=\"3.2\"/>\n",
       "<circle clip-path=\"url(#clip892)\" cx=\"251.148\" cy=\"450.193\" r=\"14\" fill=\"#009af9\" fill-rule=\"evenodd\" fill-opacity=\"1\" stroke=\"#000000\" stroke-opacity=\"1\" stroke-width=\"3.2\"/>\n",
       "<circle clip-path=\"url(#clip892)\" cx=\"292.764\" cy=\"726.689\" r=\"14\" fill=\"#009af9\" fill-rule=\"evenodd\" fill-opacity=\"1\" stroke=\"#000000\" stroke-opacity=\"1\" stroke-width=\"3.2\"/>\n",
       "<circle clip-path=\"url(#clip892)\" cx=\"334.38\" cy=\"888.16\" r=\"14\" fill=\"#009af9\" fill-rule=\"evenodd\" fill-opacity=\"1\" stroke=\"#000000\" stroke-opacity=\"1\" stroke-width=\"3.2\"/>\n",
       "<circle clip-path=\"url(#clip892)\" cx=\"375.996\" cy=\"870.977\" r=\"14\" fill=\"#009af9\" fill-rule=\"evenodd\" fill-opacity=\"1\" stroke=\"#000000\" stroke-opacity=\"1\" stroke-width=\"3.2\"/>\n",
       "<circle clip-path=\"url(#clip892)\" cx=\"417.612\" cy=\"943.797\" r=\"14\" fill=\"#009af9\" fill-rule=\"evenodd\" fill-opacity=\"1\" stroke=\"#000000\" stroke-opacity=\"1\" stroke-width=\"3.2\"/>\n",
       "<circle clip-path=\"url(#clip892)\" cx=\"459.228\" cy=\"1085.98\" r=\"14\" fill=\"#009af9\" fill-rule=\"evenodd\" fill-opacity=\"1\" stroke=\"#000000\" stroke-opacity=\"1\" stroke-width=\"3.2\"/>\n",
       "<circle clip-path=\"url(#clip892)\" cx=\"500.844\" cy=\"1163.02\" r=\"14\" fill=\"#009af9\" fill-rule=\"evenodd\" fill-opacity=\"1\" stroke=\"#000000\" stroke-opacity=\"1\" stroke-width=\"3.2\"/>\n",
       "<circle clip-path=\"url(#clip892)\" cx=\"542.46\" cy=\"1445.72\" r=\"14\" fill=\"#009af9\" fill-rule=\"evenodd\" fill-opacity=\"1\" stroke=\"#000000\" stroke-opacity=\"1\" stroke-width=\"3.2\"/>\n",
       "<circle clip-path=\"url(#clip892)\" cx=\"584.076\" cy=\"1302.2\" r=\"14\" fill=\"#009af9\" fill-rule=\"evenodd\" fill-opacity=\"1\" stroke=\"#000000\" stroke-opacity=\"1\" stroke-width=\"3.2\"/>\n",
       "<circle clip-path=\"url(#clip892)\" cx=\"625.692\" cy=\"1268.08\" r=\"14\" fill=\"#009af9\" fill-rule=\"evenodd\" fill-opacity=\"1\" stroke=\"#000000\" stroke-opacity=\"1\" stroke-width=\"3.2\"/>\n",
       "<circle clip-path=\"url(#clip892)\" cx=\"667.308\" cy=\"1166.17\" r=\"14\" fill=\"#009af9\" fill-rule=\"evenodd\" fill-opacity=\"1\" stroke=\"#000000\" stroke-opacity=\"1\" stroke-width=\"3.2\"/>\n",
       "<circle clip-path=\"url(#clip892)\" cx=\"708.924\" cy=\"1263.4\" r=\"14\" fill=\"#009af9\" fill-rule=\"evenodd\" fill-opacity=\"1\" stroke=\"#000000\" stroke-opacity=\"1\" stroke-width=\"3.2\"/>\n",
       "<circle clip-path=\"url(#clip892)\" cx=\"750.54\" cy=\"1249.8\" r=\"14\" fill=\"#009af9\" fill-rule=\"evenodd\" fill-opacity=\"1\" stroke=\"#000000\" stroke-opacity=\"1\" stroke-width=\"3.2\"/>\n",
       "<circle clip-path=\"url(#clip892)\" cx=\"792.156\" cy=\"1184.63\" r=\"14\" fill=\"#009af9\" fill-rule=\"evenodd\" fill-opacity=\"1\" stroke=\"#000000\" stroke-opacity=\"1\" stroke-width=\"3.2\"/>\n",
       "<circle clip-path=\"url(#clip892)\" cx=\"833.772\" cy=\"1174\" r=\"14\" fill=\"#009af9\" fill-rule=\"evenodd\" fill-opacity=\"1\" stroke=\"#000000\" stroke-opacity=\"1\" stroke-width=\"3.2\"/>\n",
       "<circle clip-path=\"url(#clip892)\" cx=\"875.388\" cy=\"1154.82\" r=\"14\" fill=\"#009af9\" fill-rule=\"evenodd\" fill-opacity=\"1\" stroke=\"#000000\" stroke-opacity=\"1\" stroke-width=\"3.2\"/>\n",
       "<circle clip-path=\"url(#clip892)\" cx=\"917.004\" cy=\"1084.53\" r=\"14\" fill=\"#009af9\" fill-rule=\"evenodd\" fill-opacity=\"1\" stroke=\"#000000\" stroke-opacity=\"1\" stroke-width=\"3.2\"/>\n",
       "<circle clip-path=\"url(#clip892)\" cx=\"958.62\" cy=\"1055.22\" r=\"14\" fill=\"#009af9\" fill-rule=\"evenodd\" fill-opacity=\"1\" stroke=\"#000000\" stroke-opacity=\"1\" stroke-width=\"3.2\"/>\n",
       "<circle clip-path=\"url(#clip892)\" cx=\"1000.24\" cy=\"1036.27\" r=\"14\" fill=\"#009af9\" fill-rule=\"evenodd\" fill-opacity=\"1\" stroke=\"#000000\" stroke-opacity=\"1\" stroke-width=\"3.2\"/>\n",
       "<circle clip-path=\"url(#clip892)\" cx=\"1041.85\" cy=\"860.556\" r=\"14\" fill=\"#009af9\" fill-rule=\"evenodd\" fill-opacity=\"1\" stroke=\"#000000\" stroke-opacity=\"1\" stroke-width=\"3.2\"/>\n",
       "<circle clip-path=\"url(#clip892)\" cx=\"1083.47\" cy=\"870.878\" r=\"14\" fill=\"#009af9\" fill-rule=\"evenodd\" fill-opacity=\"1\" stroke=\"#000000\" stroke-opacity=\"1\" stroke-width=\"3.2\"/>\n",
       "<circle clip-path=\"url(#clip892)\" cx=\"1125.08\" cy=\"865.298\" r=\"14\" fill=\"#009af9\" fill-rule=\"evenodd\" fill-opacity=\"1\" stroke=\"#000000\" stroke-opacity=\"1\" stroke-width=\"3.2\"/>\n",
       "<circle clip-path=\"url(#clip892)\" cx=\"1166.7\" cy=\"723.06\" r=\"14\" fill=\"#009af9\" fill-rule=\"evenodd\" fill-opacity=\"1\" stroke=\"#000000\" stroke-opacity=\"1\" stroke-width=\"3.2\"/>\n",
       "<circle clip-path=\"url(#clip892)\" cx=\"1208.32\" cy=\"736.41\" r=\"14\" fill=\"#009af9\" fill-rule=\"evenodd\" fill-opacity=\"1\" stroke=\"#000000\" stroke-opacity=\"1\" stroke-width=\"3.2\"/>\n",
       "<circle clip-path=\"url(#clip892)\" cx=\"1249.93\" cy=\"794.718\" r=\"14\" fill=\"#009af9\" fill-rule=\"evenodd\" fill-opacity=\"1\" stroke=\"#000000\" stroke-opacity=\"1\" stroke-width=\"3.2\"/>\n",
       "<circle clip-path=\"url(#clip892)\" cx=\"1291.55\" cy=\"831.984\" r=\"14\" fill=\"#009af9\" fill-rule=\"evenodd\" fill-opacity=\"1\" stroke=\"#000000\" stroke-opacity=\"1\" stroke-width=\"3.2\"/>\n",
       "<circle clip-path=\"url(#clip892)\" cx=\"1333.16\" cy=\"713.818\" r=\"14\" fill=\"#009af9\" fill-rule=\"evenodd\" fill-opacity=\"1\" stroke=\"#000000\" stroke-opacity=\"1\" stroke-width=\"3.2\"/>\n",
       "<circle clip-path=\"url(#clip892)\" cx=\"1374.78\" cy=\"761.832\" r=\"14\" fill=\"#009af9\" fill-rule=\"evenodd\" fill-opacity=\"1\" stroke=\"#000000\" stroke-opacity=\"1\" stroke-width=\"3.2\"/>\n",
       "<circle clip-path=\"url(#clip892)\" cx=\"1416.4\" cy=\"600.19\" r=\"14\" fill=\"#009af9\" fill-rule=\"evenodd\" fill-opacity=\"1\" stroke=\"#000000\" stroke-opacity=\"1\" stroke-width=\"3.2\"/>\n",
       "<circle clip-path=\"url(#clip892)\" cx=\"1458.01\" cy=\"665.117\" r=\"14\" fill=\"#009af9\" fill-rule=\"evenodd\" fill-opacity=\"1\" stroke=\"#000000\" stroke-opacity=\"1\" stroke-width=\"3.2\"/>\n",
       "<circle clip-path=\"url(#clip892)\" cx=\"1499.63\" cy=\"727.005\" r=\"14\" fill=\"#009af9\" fill-rule=\"evenodd\" fill-opacity=\"1\" stroke=\"#000000\" stroke-opacity=\"1\" stroke-width=\"3.2\"/>\n",
       "<circle clip-path=\"url(#clip892)\" cx=\"1541.24\" cy=\"830.551\" r=\"14\" fill=\"#009af9\" fill-rule=\"evenodd\" fill-opacity=\"1\" stroke=\"#000000\" stroke-opacity=\"1\" stroke-width=\"3.2\"/>\n",
       "<circle clip-path=\"url(#clip892)\" cx=\"1582.86\" cy=\"669.378\" r=\"14\" fill=\"#009af9\" fill-rule=\"evenodd\" fill-opacity=\"1\" stroke=\"#000000\" stroke-opacity=\"1\" stroke-width=\"3.2\"/>\n",
       "<circle clip-path=\"url(#clip892)\" cx=\"1624.48\" cy=\"701.168\" r=\"14\" fill=\"#009af9\" fill-rule=\"evenodd\" fill-opacity=\"1\" stroke=\"#000000\" stroke-opacity=\"1\" stroke-width=\"3.2\"/>\n",
       "<circle clip-path=\"url(#clip892)\" cx=\"1666.09\" cy=\"786.726\" r=\"14\" fill=\"#009af9\" fill-rule=\"evenodd\" fill-opacity=\"1\" stroke=\"#000000\" stroke-opacity=\"1\" stroke-width=\"3.2\"/>\n",
       "<circle clip-path=\"url(#clip892)\" cx=\"1707.71\" cy=\"671.127\" r=\"14\" fill=\"#009af9\" fill-rule=\"evenodd\" fill-opacity=\"1\" stroke=\"#000000\" stroke-opacity=\"1\" stroke-width=\"3.2\"/>\n",
       "<circle clip-path=\"url(#clip892)\" cx=\"1749.32\" cy=\"680.133\" r=\"14\" fill=\"#009af9\" fill-rule=\"evenodd\" fill-opacity=\"1\" stroke=\"#000000\" stroke-opacity=\"1\" stroke-width=\"3.2\"/>\n",
       "<circle clip-path=\"url(#clip892)\" cx=\"1790.94\" cy=\"887.38\" r=\"14\" fill=\"#009af9\" fill-rule=\"evenodd\" fill-opacity=\"1\" stroke=\"#000000\" stroke-opacity=\"1\" stroke-width=\"3.2\"/>\n",
       "<circle clip-path=\"url(#clip892)\" cx=\"1832.56\" cy=\"838.44\" r=\"14\" fill=\"#009af9\" fill-rule=\"evenodd\" fill-opacity=\"1\" stroke=\"#000000\" stroke-opacity=\"1\" stroke-width=\"3.2\"/>\n",
       "<circle clip-path=\"url(#clip892)\" cx=\"1874.17\" cy=\"799.132\" r=\"14\" fill=\"#009af9\" fill-rule=\"evenodd\" fill-opacity=\"1\" stroke=\"#000000\" stroke-opacity=\"1\" stroke-width=\"3.2\"/>\n",
       "<circle clip-path=\"url(#clip892)\" cx=\"1915.79\" cy=\"655.013\" r=\"14\" fill=\"#009af9\" fill-rule=\"evenodd\" fill-opacity=\"1\" stroke=\"#000000\" stroke-opacity=\"1\" stroke-width=\"3.2\"/>\n",
       "<circle clip-path=\"url(#clip892)\" cx=\"1957.4\" cy=\"770.172\" r=\"14\" fill=\"#009af9\" fill-rule=\"evenodd\" fill-opacity=\"1\" stroke=\"#000000\" stroke-opacity=\"1\" stroke-width=\"3.2\"/>\n",
       "<circle clip-path=\"url(#clip892)\" cx=\"1999.02\" cy=\"793.411\" r=\"14\" fill=\"#009af9\" fill-rule=\"evenodd\" fill-opacity=\"1\" stroke=\"#000000\" stroke-opacity=\"1\" stroke-width=\"3.2\"/>\n",
       "<circle clip-path=\"url(#clip892)\" cx=\"2040.64\" cy=\"788.03\" r=\"14\" fill=\"#009af9\" fill-rule=\"evenodd\" fill-opacity=\"1\" stroke=\"#000000\" stroke-opacity=\"1\" stroke-width=\"3.2\"/>\n",
       "<circle clip-path=\"url(#clip892)\" cx=\"2082.25\" cy=\"773.928\" r=\"14\" fill=\"#009af9\" fill-rule=\"evenodd\" fill-opacity=\"1\" stroke=\"#000000\" stroke-opacity=\"1\" stroke-width=\"3.2\"/>\n",
       "<circle clip-path=\"url(#clip892)\" cx=\"2123.87\" cy=\"530.299\" r=\"14\" fill=\"#009af9\" fill-rule=\"evenodd\" fill-opacity=\"1\" stroke=\"#000000\" stroke-opacity=\"1\" stroke-width=\"3.2\"/>\n",
       "<circle clip-path=\"url(#clip892)\" cx=\"2165.48\" cy=\"543.125\" r=\"14\" fill=\"#009af9\" fill-rule=\"evenodd\" fill-opacity=\"1\" stroke=\"#000000\" stroke-opacity=\"1\" stroke-width=\"3.2\"/>\n",
       "<circle clip-path=\"url(#clip892)\" cx=\"2207.1\" cy=\"521.3\" r=\"14\" fill=\"#009af9\" fill-rule=\"evenodd\" fill-opacity=\"1\" stroke=\"#000000\" stroke-opacity=\"1\" stroke-width=\"3.2\"/>\n",
       "<circle clip-path=\"url(#clip892)\" cx=\"2248.72\" cy=\"261.922\" r=\"14\" fill=\"#009af9\" fill-rule=\"evenodd\" fill-opacity=\"1\" stroke=\"#000000\" stroke-opacity=\"1\" stroke-width=\"3.2\"/>\n",
       "<circle clip-path=\"url(#clip892)\" cx=\"2290.33\" cy=\"87.9763\" r=\"14\" fill=\"#009af9\" fill-rule=\"evenodd\" fill-opacity=\"1\" stroke=\"#000000\" stroke-opacity=\"1\" stroke-width=\"3.2\"/>\n",
       "<polyline clip-path=\"url(#clip892)\" style=\"stroke:#e26f46; stroke-linecap:butt; stroke-linejoin:round; stroke-width:4; stroke-opacity:1; fill:none\" points=\"\n",
       "  209.532,240.794 251.148,474.231 292.764,670.784 334.38,833.652 375.996,965.907 417.612,1070.5 459.228,1150.23 500.844,1207.81 542.46,1245.8 584.076,1266.63 \n",
       "  625.692,1272.6 667.308,1265.91 708.924,1248.61 750.54,1222.62 792.156,1189.74 833.772,1151.65 875.388,1109.9 917.004,1065.9 958.62,1020.94 1000.24,976.187 \n",
       "  1041.85,932.681 1083.47,891.329 1125.08,852.914 1166.7,818.092 1208.32,787.39 1249.93,761.21 1291.55,739.826 1333.16,723.383 1374.78,711.902 1416.4,705.274 \n",
       "  1458.01,703.264 1499.63,705.511 1541.24,711.524 1582.86,720.687 1624.48,732.256 1666.09,745.359 1707.71,758.999 1749.32,772.05 1790.94,783.259 1832.56,791.247 \n",
       "  1874.17,794.505 1915.79,791.4 1957.4,780.171 1999.02,758.927 2040.64,725.654 2082.25,678.208 2123.87,614.319 2165.48,531.589 2207.1,427.493 2248.72,299.379 \n",
       "  2290.33,144.468 \n",
       "  \"/>\n",
       "<path clip-path=\"url(#clip890)\" d=\"\n",
       "M1986.8 250.738 L2279.23 250.738 L2279.23 95.2176 L1986.8 95.2176  Z\n",
       "  \" fill=\"#ffffff\" fill-rule=\"evenodd\" fill-opacity=\"1\"/>\n",
       "<polyline clip-path=\"url(#clip890)\" style=\"stroke:#000000; stroke-linecap:butt; stroke-linejoin:round; stroke-width:4; stroke-opacity:1; fill:none\" points=\"\n",
       "  1986.8,250.738 2279.23,250.738 2279.23,95.2176 1986.8,95.2176 1986.8,250.738 \n",
       "  \"/>\n",
       "<circle clip-path=\"url(#clip890)\" cx=\"2082.8\" cy=\"147.058\" r=\"23\" fill=\"#009af9\" fill-rule=\"evenodd\" fill-opacity=\"1\" stroke=\"#000000\" stroke-opacity=\"1\" stroke-width=\"5.12\"/>\n",
       "<path clip-path=\"url(#clip890)\" d=\"M2192.65 166.745 Q2190.84 171.375 2189.13 172.787 Q2187.42 174.199 2184.54 174.199 L2181.14 174.199 L2181.14 170.634 L2183.64 170.634 Q2185.4 170.634 2186.37 169.8 Q2187.35 168.967 2188.53 165.865 L2189.29 163.921 L2178.8 138.412 L2183.32 138.412 L2191.42 158.689 L2199.52 138.412 L2204.04 138.412 L2192.65 166.745 Z\" fill=\"#000000\" fill-rule=\"evenodd\" fill-opacity=\"1\" /><path clip-path=\"url(#clip890)\" d=\"M2211.33 160.402 L2218.97 160.402 L2218.97 134.037 L2210.66 135.703 L2210.66 131.444 L2218.92 129.778 L2223.6 129.778 L2223.6 160.402 L2231.23 160.402 L2231.23 164.338 L2211.33 164.338 L2211.33 160.402 Z\" fill=\"#000000\" fill-rule=\"evenodd\" fill-opacity=\"1\" /><polyline clip-path=\"url(#clip890)\" style=\"stroke:#e26f46; stroke-linecap:butt; stroke-linejoin:round; stroke-width:4; stroke-opacity:1; fill:none\" points=\"\n",
       "  2010.8,198.898 2154.8,198.898 \n",
       "  \"/>\n",
       "<path clip-path=\"url(#clip890)\" d=\"M2192.65 218.585 Q2190.84 223.215 2189.13 224.627 Q2187.42 226.039 2184.54 226.039 L2181.14 226.039 L2181.14 222.474 L2183.64 222.474 Q2185.4 222.474 2186.37 221.64 Q2187.35 220.807 2188.53 217.705 L2189.29 215.761 L2178.8 190.252 L2183.32 190.252 L2191.42 210.529 L2199.52 190.252 L2204.04 190.252 L2192.65 218.585 Z\" fill=\"#000000\" fill-rule=\"evenodd\" fill-opacity=\"1\" /><path clip-path=\"url(#clip890)\" d=\"M2214.54 212.242 L2230.86 212.242 L2230.86 216.178 L2208.92 216.178 L2208.92 212.242 Q2211.58 209.488 2216.16 204.858 Q2220.77 200.205 2221.95 198.863 Q2224.2 196.34 2225.08 194.604 Q2225.98 192.844 2225.98 191.155 Q2225.98 188.4 2224.04 186.664 Q2222.11 184.928 2219.01 184.928 Q2216.81 184.928 2214.36 185.692 Q2211.93 186.455 2209.15 188.006 L2209.15 183.284 Q2211.98 182.15 2214.43 181.571 Q2216.88 180.993 2218.92 180.993 Q2224.29 180.993 2227.48 183.678 Q2230.68 186.363 2230.68 190.854 Q2230.68 192.983 2229.87 194.905 Q2229.08 196.803 2226.98 199.395 Q2226.4 200.067 2223.29 203.284 Q2220.19 206.479 2214.54 212.242 Z\" fill=\"#000000\" fill-rule=\"evenodd\" fill-opacity=\"1\" /></svg>\n"
      ]
     },
     "metadata": {},
     "output_type": "display_data"
    }
   ],
   "source": [
    "g(x) = 𝐰_out'*𝒙(x)\n",
    "\n",
    "plot!(xs, g.(xs))"
   ]
  },
  {
   "cell_type": "markdown",
   "id": "7ba306a0",
   "metadata": {
    "slideshow": {
     "slide_type": "slide"
    }
   },
   "source": [
    "# 復習\n",
    "\n",
    "- [JuliaAcademy](https://juliaacademy.com/) みると良い"
   ]
  },
  {
   "cell_type": "markdown",
   "id": "fe6768cf",
   "metadata": {
    "slideshow": {
     "slide_type": "slide"
    }
   },
   "source": [
    "# 参考文献\n",
    "\n",
    "- [Why we created Julia. ](https://julialang.org/blog/2012/02/why-we-created-julia/)\n",
    "- [Why We Use Julia, 10 Years Later](https://julialang.org/blog/2022/02/10years/)\n",
    "- Juliaで作って学ぶベイズ統計学\n",
    "- [JuliaAcademy](https://juliaacademy.com/)\n",
    "- バターン認識と機械学習(上)"
   ]
  }
 ],
 "metadata": {
  "celltoolbar": "スライドショー",
  "kernelspec": {
   "display_name": "Julia 1.7.1",
   "language": "julia",
   "name": "julia-1.7"
  },
  "language_info": {
   "file_extension": ".jl",
   "mimetype": "application/julia",
   "name": "julia",
   "version": "1.7.1"
  },
  "rise": {
   "enable_chalkboard": true,
   "height": 768,
   "scroll": true,
   "transition": "slide",
   "width": 1024
  }
 },
 "nbformat": 4,
 "nbformat_minor": 5
}
