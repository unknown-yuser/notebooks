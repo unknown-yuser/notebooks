{
 "cells": [
  {
   "cell_type": "markdown",
   "id": "62860fb4",
   "metadata": {
    "slideshow": {
     "slide_type": "slide"
    }
   },
   "source": [
    "# Julia 入門\n",
    "\n",
    "- 2022/02/18 \n",
    "- Y Kanai\n",
    "\n",
    "\n",
    "このスライドは社内勉強会用に作成しています。"
   ]
  },
  {
   "cell_type": "markdown",
   "id": "72052e11",
   "metadata": {
    "slideshow": {
     "slide_type": "slide"
    }
   },
   "source": [
    "# Julia\n",
    "\n",
    "- ライセンスを気にすることなく使えるオーブンソースな言語\n",
    "- Cのように高速に計算でき、Rubyのように書きやすい言語\n",
    "- Lispのように同図像性のある言語\n",
    "- Matlabのような数式表現を使える\n",
    "- Pythonのように使い勝手が良く、Rのように統計処理しやすい\n",
    "\n",
    "そんな言語を目指して作られた言語\n",
    "\n"
   ]
  },
  {
   "cell_type": "markdown",
   "id": "2c5526e1",
   "metadata": {
    "slideshow": {
     "slide_type": "subslide"
    }
   },
   "source": [
    "# Juliaを何故使うのか?\n",
    "\n",
    "- 数式表現がそのまま使える\n",
    "- ギリシャ文字などが使える\n",
    "- 高速な計算処理"
   ]
  },
  {
   "cell_type": "markdown",
   "id": "2e9b81a2",
   "metadata": {
    "slideshow": {
     "slide_type": "slide"
    }
   },
   "source": [
    "# Hello world\n",
    "\n",
    "実行環境はJupyter Notebookを前提としています。"
   ]
  },
  {
   "cell_type": "markdown",
   "id": "4699b477",
   "metadata": {
    "slideshow": {
     "slide_type": "subslide"
    }
   },
   "source": [
    "## 基本文法"
   ]
  },
  {
   "cell_type": "markdown",
   "id": "7be47704",
   "metadata": {
    "slideshow": {
     "slide_type": "subslide"
    }
   },
   "source": [
    "### コメント"
   ]
  },
  {
   "cell_type": "code",
   "execution_count": 1,
   "id": "51568645",
   "metadata": {
    "slideshow": {
     "slide_type": "-"
    }
   },
   "outputs": [],
   "source": [
    "# コメント <= \"#\" を先頭に記述するとコメントになる\n",
    "\n",
    "#=\n",
    "\n",
    "multi-line コメントにする場合は\n",
    "\"#=\" と \"=#\" で囲む\n",
    "\n",
    "=#"
   ]
  },
  {
   "cell_type": "markdown",
   "id": "af5c0747",
   "metadata": {
    "slideshow": {
     "slide_type": "subslide"
    }
   },
   "source": [
    "### 変数"
   ]
  },
  {
   "cell_type": "code",
   "execution_count": 2,
   "id": "efd3336b",
   "metadata": {},
   "outputs": [
    {
     "data": {
      "text/plain": [
       "Int64"
      ]
     },
     "execution_count": 2,
     "metadata": {},
     "output_type": "execute_result"
    }
   ],
   "source": [
    "x=1\n",
    "typeof(x)"
   ]
  },
  {
   "cell_type": "code",
   "execution_count": 3,
   "id": "4bba8d22",
   "metadata": {},
   "outputs": [
    {
     "data": {
      "text/plain": [
       "String"
      ]
     },
     "execution_count": 3,
     "metadata": {},
     "output_type": "execute_result"
    }
   ],
   "source": [
    "head=\"age\"\n",
    "typeof(head)"
   ]
  },
  {
   "cell_type": "code",
   "execution_count": 4,
   "id": "67fa8f1c",
   "metadata": {},
   "outputs": [
    {
     "name": "stdout",
     "output_type": "stream",
     "text": [
      "2\n",
      "age ; 25\n"
     ]
    }
   ],
   "source": [
    "y = x+1\n",
    "println(y)\n",
    "println(\"$head ; 25\")"
   ]
  },
  {
   "cell_type": "markdown",
   "id": "21540c1b",
   "metadata": {
    "slideshow": {
     "slide_type": "subslide"
    }
   },
   "source": [
    "### Unicode文字の入力\n",
    "\n",
    "科学計算や統計で扱う数式を実装するとき次のようにしたい場合がでてくる\n",
    "\n",
    "- パラメタとして出てくるギリシャ文字を扱いたり\n",
    "- indexとして下付き文字を使いたい\n",
    "- ∫や ∇ を使いたい\n",
    "\n",
    "これらは バックスラッシュ の後にキーワードを入力してタブキーをタイプすることで、Unicode文字を入力することができる。\n",
    "キーワードは latex の数式入力の方法が参考になる。"
   ]
  },
  {
   "cell_type": "code",
   "execution_count": 5,
   "id": "1f86dbfc",
   "metadata": {},
   "outputs": [
    {
     "data": {
      "text/plain": [
       "385"
      ]
     },
     "execution_count": 5,
     "metadata": {},
     "output_type": "execute_result"
    }
   ],
   "source": [
    "# \\_1 を入力してタブキーをタイプする\n",
    "X₁ = [0 0]\n",
    "\n",
    "# \\prime を入力してタブキーをタイプする\n",
    "f′(x) = 2*x+1\n",
    "\n",
    "# \\Sigmaを入力してタブキーをタイプする\n",
    "Σ(f, s, e) = sum([f(n) for n = s:e])\n",
    "\n",
    "out = Σ(x->x^2, 1, 10)"
   ]
  },
  {
   "cell_type": "markdown",
   "id": "68c14668",
   "metadata": {
    "slideshow": {
     "slide_type": "subslide"
    }
   },
   "source": [
    "### 基本演算\n",
    "\n",
    "ドキュメント [Mathmatics](https://docs.julialang.org/en/v1/base/math/) に載っているものが全てだけど、その中で最も基本的なものを取り出して紹介する。"
   ]
  },
  {
   "cell_type": "code",
   "execution_count": 6,
   "id": "e534d4aa",
   "metadata": {
    "slideshow": {
     "slide_type": "-"
    }
   },
   "outputs": [
    {
     "data": {
      "text/plain": [
       "1"
      ]
     },
     "execution_count": 6,
     "metadata": {},
     "output_type": "execute_result"
    }
   ],
   "source": [
    "# 加算\n",
    "1+1\n",
    "# 減算\n",
    "10 - 3\n",
    "# 乗算\n",
    "3 * 4\n",
    "# (右)除算\n",
    "6 / 2\n",
    "# べき乗\n",
    "2^5\n",
    "# 剰余\n",
    "101 % 2"
   ]
  },
  {
   "cell_type": "markdown",
   "id": "dd904bb5",
   "metadata": {
    "slideshow": {
     "slide_type": "slide"
    }
   },
   "source": [
    "### データ構造"
   ]
  },
  {
   "cell_type": "markdown",
   "id": "a99a8bc1",
   "metadata": {
    "slideshow": {
     "slide_type": "subslide"
    }
   },
   "source": [
    "#### 辞書型"
   ]
  },
  {
   "cell_type": "code",
   "execution_count": 7,
   "id": "1c0664bc",
   "metadata": {},
   "outputs": [
    {
     "data": {
      "text/plain": [
       "Dict{String, String} with 3 entries:\n",
       "  \"NZ\" => \"64\"\n",
       "  \"HK\" => \"852\"\n",
       "  \"JP\" => \"81\""
      ]
     },
     "metadata": {},
     "output_type": "display_data"
    },
    {
     "data": {
      "text/plain": [
       "\"81\""
      ]
     },
     "metadata": {},
     "output_type": "display_data"
    }
   ],
   "source": [
    "country_codes = Dict(\"JP\"=>\"81\", \"NZ\"=>\"64\", \"HK\"=>\"852\")\n",
    "display(country_codes)\n",
    "display(country_codes[\"JP\"])"
   ]
  },
  {
   "cell_type": "markdown",
   "id": "4c859982",
   "metadata": {
    "slideshow": {
     "slide_type": "subslide"
    }
   },
   "source": [
    "#### タプル"
   ]
  },
  {
   "cell_type": "code",
   "execution_count": 8,
   "id": "2567dd42",
   "metadata": {},
   "outputs": [
    {
     "data": {
      "text/plain": [
       "(\"Aoki\", \"Kato\", \"Konishi\", \"Sometani\")"
      ]
     },
     "metadata": {},
     "output_type": "display_data"
    },
    {
     "data": {
      "text/plain": [
       "\"Aoki\""
      ]
     },
     "metadata": {},
     "output_type": "display_data"
    }
   ],
   "source": [
    "class_member = (\"Aoki\", \"Kato\", \"Konishi\", \"Sometani\")\n",
    "display(class_member)\n",
    "display(class_member[1])"
   ]
  },
  {
   "cell_type": "markdown",
   "id": "25420d3c",
   "metadata": {},
   "source": [
    "#### 配列"
   ]
  },
  {
   "cell_type": "code",
   "execution_count": 9,
   "id": "cc57e7e2",
   "metadata": {},
   "outputs": [
    {
     "data": {
      "text/plain": [
       "4-element Vector{Int64}:\n",
       " 5\n",
       " 1\n",
       " 3\n",
       " 4"
      ]
     },
     "metadata": {},
     "output_type": "display_data"
    },
    {
     "data": {
      "text/plain": [
       "5"
      ]
     },
     "metadata": {},
     "output_type": "display_data"
    },
    {
     "data": {
      "text/plain": [
       "4-element Vector{Int64}:\n",
       " 7\n",
       " 1\n",
       " 3\n",
       " 4"
      ]
     },
     "metadata": {},
     "output_type": "display_data"
    }
   ],
   "source": [
    "bow = [5, 1, 3, 4]\n",
    "display(bow)\n",
    "display(bow[1])\n",
    "bow[1] = 7\n",
    "display(bow)"
   ]
  },
  {
   "cell_type": "markdown",
   "id": "7eac56dd",
   "metadata": {
    "slideshow": {
     "slide_type": "subslide"
    }
   },
   "source": [
    "#### 配列 (関数を使用)"
   ]
  },
  {
   "cell_type": "code",
   "execution_count": 10,
   "id": "dc5e37a9",
   "metadata": {},
   "outputs": [
    {
     "data": {
      "text/plain": [
       "3-element Vector{Float64}:\n",
       " 0.0\n",
       " 0.0\n",
       " 0.0"
      ]
     },
     "metadata": {},
     "output_type": "display_data"
    },
    {
     "data": {
      "text/plain": [
       "5×1 Matrix{Float64}:\n",
       " 1.0\n",
       " 1.0\n",
       " 1.0\n",
       " 1.0\n",
       " 1.0"
      ]
     },
     "metadata": {},
     "output_type": "display_data"
    },
    {
     "data": {
      "text/plain": [
       "1×2 Matrix{Float64}:\n",
       " 0.420692  0.901926"
      ]
     },
     "metadata": {},
     "output_type": "display_data"
    },
    {
     "data": {
      "text/plain": [
       "2×1 Matrix{Float64}:\n",
       "  1.0799297114239366\n",
       " -0.6459438702237017"
      ]
     },
     "metadata": {},
     "output_type": "display_data"
    }
   ],
   "source": [
    "display(zeros(3))\n",
    "display(ones(5,1))\n",
    "display(rand(1,2))\n",
    "display(randn(2,1))"
   ]
  },
  {
   "cell_type": "markdown",
   "id": "511c938a",
   "metadata": {
    "slideshow": {
     "slide_type": "subslide"
    }
   },
   "source": [
    "#### 多次元配列"
   ]
  },
  {
   "cell_type": "code",
   "execution_count": 11,
   "id": "784e205a",
   "metadata": {},
   "outputs": [
    {
     "data": {
      "text/plain": [
       "(2, 3)"
      ]
     },
     "metadata": {},
     "output_type": "display_data"
    },
    {
     "data": {
      "text/plain": [
       "6"
      ]
     },
     "metadata": {},
     "output_type": "display_data"
    },
    {
     "data": {
      "text/plain": [
       "4"
      ]
     },
     "metadata": {},
     "output_type": "display_data"
    },
    {
     "data": {
      "text/plain": [
       "3-element Vector{Int64}:\n",
       " 4\n",
       " 5\n",
       " 6"
      ]
     },
     "metadata": {},
     "output_type": "display_data"
    },
    {
     "data": {
      "text/plain": [
       "2×2 Matrix{Int64}:\n",
       " 2  3\n",
       " 5  6"
      ]
     },
     "metadata": {},
     "output_type": "display_data"
    }
   ],
   "source": [
    "A = [1 2 3;\n",
    "     4 5 6]\n",
    "display(size(A))\n",
    "display(length(A))\n",
    "display(A[2, 1]) # index が 0 で始めていないことに注意!\n",
    "display(A[2, :])\n",
    "display(A[:, 2:3])"
   ]
  },
  {
   "cell_type": "markdown",
   "id": "6c0cfe70",
   "metadata": {
    "slideshow": {
     "slide_type": "slide"
    }
   },
   "source": [
    "### 制御構文"
   ]
  },
  {
   "cell_type": "markdown",
   "id": "dd4b2cdc",
   "metadata": {
    "slideshow": {
     "slide_type": "subslide"
    }
   },
   "source": [
    "#### while ループ"
   ]
  },
  {
   "cell_type": "code",
   "execution_count": 12,
   "id": "46fa9abf",
   "metadata": {},
   "outputs": [
    {
     "data": {
      "text/plain": [
       "\"do action\""
      ]
     },
     "metadata": {},
     "output_type": "display_data"
    }
   ],
   "source": [
    "done = false\n",
    "\n",
    "action = ()-> begin\n",
    "    display(\"do action\")\n",
    "    (\"next state\", \"reward\", true, \"info\")\n",
    "end\n",
    "\n",
    "while !done\n",
    "    _, _, done, _  = action()\n",
    "end"
   ]
  },
  {
   "cell_type": "markdown",
   "id": "c721ccc8",
   "metadata": {
    "slideshow": {
     "slide_type": "subslide"
    }
   },
   "source": [
    "#### for ループ"
   ]
  },
  {
   "cell_type": "code",
   "execution_count": 13,
   "id": "b521e611",
   "metadata": {},
   "outputs": [
    {
     "data": {
      "text/plain": [
       "1"
      ]
     },
     "metadata": {},
     "output_type": "display_data"
    },
    {
     "data": {
      "text/plain": [
       "4"
      ]
     },
     "metadata": {},
     "output_type": "display_data"
    },
    {
     "data": {
      "text/plain": [
       "9"
      ]
     },
     "metadata": {},
     "output_type": "display_data"
    },
    {
     "name": "stdout",
     "output_type": "stream",
     "text": [
      "...................................................................................................."
     ]
    }
   ],
   "source": [
    "for _ in 1:100 # in の代わりに = でも良い\n",
    "    print(\".\")\n",
    "end\n",
    "\n",
    "X = [1, 2, 3]\n",
    "f(𝑥) = 𝑥^2\n",
    "for x ∈ X     # また ∈ を使っても良い\n",
    "    display(f(x))\n",
    "end"
   ]
  },
  {
   "cell_type": "markdown",
   "id": "eb41f8be",
   "metadata": {
    "slideshow": {
     "slide_type": "subslide"
    }
   },
   "source": [
    "#### 内包表現"
   ]
  },
  {
   "cell_type": "code",
   "execution_count": 14,
   "id": "c22d3620",
   "metadata": {},
   "outputs": [
    {
     "data": {
      "text/plain": [
       "9×9 Matrix{Float64}:\n",
       " 1.1  1.2  1.3  1.4  1.5  1.6  1.7  1.8  1.9\n",
       " 2.1  2.2  2.3  2.4  2.5  2.6  2.7  2.8  2.9\n",
       " 3.1  3.2  3.3  3.4  3.5  3.6  3.7  3.8  3.9\n",
       " 4.1  4.2  4.3  4.4  4.5  4.6  4.7  4.8  4.9\n",
       " 5.1  5.2  5.3  5.4  5.5  5.6  5.7  5.8  5.9\n",
       " 6.1  6.2  6.3  6.4  6.5  6.6  6.7  6.8  6.9\n",
       " 7.1  7.2  7.3  7.4  7.5  7.6  7.7  7.8  7.9\n",
       " 8.1  8.2  8.3  8.4  8.5  8.6  8.7  8.8  8.9\n",
       " 9.1  9.2  9.3  9.4  9.5  9.6  9.7  9.8  9.9"
      ]
     },
     "execution_count": 14,
     "metadata": {},
     "output_type": "execute_result"
    }
   ],
   "source": [
    "A = [i+0.1*j for i in 1:9, j in 1:9]"
   ]
  },
  {
   "cell_type": "markdown",
   "id": "8ee141e8",
   "metadata": {
    "slideshow": {
     "slide_type": "subslide"
    }
   },
   "source": [
    "#### 条件分岐"
   ]
  },
  {
   "cell_type": "code",
   "execution_count": 15,
   "id": "bfa86e3a",
   "metadata": {},
   "outputs": [
    {
     "data": {
      "text/plain": [
       "\"更新完了!\""
      ]
     },
     "metadata": {},
     "output_type": "display_data"
    }
   ],
   "source": [
    "state = \"success\"\n",
    "\n",
    "if state == \"loading\"\n",
    "    display(\"更新中...\")\n",
    "elseif state == \"success\"\n",
    "    display(\"更新完了!\")\n",
    "elseif state == \"failed\"\n",
    "    display(\"更新失敗\")\n",
    "else\n",
    "    display(\"\")\n",
    "end"
   ]
  },
  {
   "cell_type": "code",
   "execution_count": 1,
   "id": "2d0d682e",
   "metadata": {},
   "outputs": [
    {
     "data": {
      "text/plain": [
       "\"4駆\""
      ]
     },
     "metadata": {},
     "output_type": "display_data"
    }
   ],
   "source": [
    "has_4tire = true\n",
    "category = has_4tire ? \"4駆\" : \"2駆\""
   ]
  },
  {
   "cell_type": "markdown",
   "id": "5282d0e9",
   "metadata": {
    "slideshow": {
     "slide_type": "subslide"
    }
   },
   "source": [
    "#### 短絡評価"
   ]
  },
  {
   "cell_type": "code",
   "execution_count": 17,
   "id": "c29a3bed",
   "metadata": {},
   "outputs": [
    {
     "data": {
      "text/plain": [
       "\"right\""
      ]
     },
     "metadata": {},
     "output_type": "display_data"
    }
   ],
   "source": [
    "∠c = 90\n",
    "triangle_type = \"acute\"\n",
    "∠c == 90 && (triangle_type = \"right\")\n",
    "∠c > 90 && (triangle_type = \"obtuse\")\n",
    "\n",
    "display(triangle_type)"
   ]
  },
  {
   "cell_type": "markdown",
   "id": "225c7639",
   "metadata": {
    "slideshow": {
     "slide_type": "slide"
    }
   },
   "source": [
    "### 関数"
   ]
  },
  {
   "cell_type": "code",
   "execution_count": 18,
   "id": "3626d084",
   "metadata": {},
   "outputs": [
    {
     "data": {
      "text/plain": [
       "squared (generic function with 1 method)"
      ]
     },
     "execution_count": 18,
     "metadata": {},
     "output_type": "execute_result"
    }
   ],
   "source": [
    "function squared(x)\n",
    "    return x^2\n",
    "end"
   ]
  },
  {
   "cell_type": "code",
   "execution_count": 19,
   "id": "8fef8f35",
   "metadata": {},
   "outputs": [
    {
     "data": {
      "text/plain": [
       "9"
      ]
     },
     "execution_count": 19,
     "metadata": {},
     "output_type": "execute_result"
    }
   ],
   "source": [
    "squared(3)"
   ]
  },
  {
   "cell_type": "code",
   "execution_count": 20,
   "id": "8ec08804",
   "metadata": {},
   "outputs": [
    {
     "ename": "LoadError",
     "evalue": "cannot define function y; it already has a value",
     "output_type": "error",
     "traceback": [
      "cannot define function y; it already has a value",
      "",
      "Stacktrace:",
      " [1] top-level scope",
      "   @ none:0",
      " [2] top-level scope",
      "   @ In[20]:1",
      " [3] eval",
      "   @ .\\boot.jl:373 [inlined]",
      " [4] include_string(mapexpr::typeof(REPL.softscope), mod::Module, code::String, filename::String)",
      "   @ Base .\\loading.jl:1196"
     ]
    }
   ],
   "source": [
    "y(x) = 2*x^2\n",
    "display(y)\n",
    "display(y(3))\n",
    "A = rand(2,2)\n",
    "display(A)\n",
    "display(y(A))"
   ]
  },
  {
   "cell_type": "code",
   "execution_count": 21,
   "id": "85ac4730",
   "metadata": {
    "slideshow": {
     "slide_type": "subslide"
    }
   },
   "outputs": [
    {
     "data": {
      "text/plain": [
       "#11 (generic function with 1 method)"
      ]
     },
     "execution_count": 21,
     "metadata": {},
     "output_type": "execute_result"
    }
   ],
   "source": [
    "# 無名関数\n",
    "\n",
    "normal_gaussian = x->ℯ^(-x^2)/√(2π)\n",
    "trigonometric_ratio = θ -> begin\n",
    "    s = sin(θ)\n",
    "    c = cos(θ)\n",
    "    s, c\n",
    "end"
   ]
  },
  {
   "cell_type": "markdown",
   "id": "3615d314",
   "metadata": {
    "slideshow": {
     "slide_type": "slide"
    }
   },
   "source": [
    "#### ブロードキャスト\n",
    "\n",
    "ある演算を複数の要素に対して一括に処理するときに便利な機能。\n",
    "演算に $.$ を付けるだけ！"
   ]
  },
  {
   "cell_type": "code",
   "execution_count": 22,
   "id": "aff90d51",
   "metadata": {},
   "outputs": [
    {
     "data": {
      "text/plain": [
       "7"
      ]
     },
     "execution_count": 22,
     "metadata": {},
     "output_type": "execute_result"
    }
   ],
   "source": [
    "regression_line(x) = fma(3,x,1) # fma(a, b, c) = a*b+c\n",
    "regression_line(2)"
   ]
  },
  {
   "cell_type": "code",
   "execution_count": 23,
   "id": "67e92f43",
   "metadata": {},
   "outputs": [
    {
     "data": {
      "text/plain": [
       "3-element Vector{Int64}:\n",
       "  7\n",
       " 10\n",
       " 13"
      ]
     },
     "execution_count": 23,
     "metadata": {},
     "output_type": "execute_result"
    }
   ],
   "source": [
    "# regression_line([2, 3, 4]) // error\n",
    "regression_line.([2, 3, 4])"
   ]
  },
  {
   "cell_type": "code",
   "execution_count": 24,
   "id": "36eeece1",
   "metadata": {},
   "outputs": [
    {
     "data": {
      "text/plain": [
       "3-element Vector{Int64}:\n",
       "  4\n",
       "  9\n",
       " 16"
      ]
     },
     "execution_count": 24,
     "metadata": {},
     "output_type": "execute_result"
    }
   ],
   "source": [
    "squared.([2, 3, 4])"
   ]
  },
  {
   "cell_type": "code",
   "execution_count": 25,
   "id": "a5ce3931",
   "metadata": {},
   "outputs": [
    {
     "data": {
      "text/plain": [
       "3-element Vector{Int64}:\n",
       "  4\n",
       "  9\n",
       " 16"
      ]
     },
     "execution_count": 25,
     "metadata": {},
     "output_type": "execute_result"
    }
   ],
   "source": [
    "map(squared, [2, 3, 4])"
   ]
  },
  {
   "cell_type": "markdown",
   "id": "cb1c02b4",
   "metadata": {
    "slideshow": {
     "slide_type": "slide"
    }
   },
   "source": [
    "### パッケージ\n",
    "\n",
    "https://julialang.org/packages/ からどんなパッケージがあるのかを閲覧することができる。"
   ]
  },
  {
   "cell_type": "code",
   "execution_count": 26,
   "id": "eec2d21b",
   "metadata": {
    "slideshow": {
     "slide_type": "subslide"
    }
   },
   "outputs": [
    {
     "name": "stdout",
     "output_type": "stream",
     "text": [
      "Collecting package metadata (current_repodata.json): ...working... done\r\n",
      "Solving environment: ...working... done\r\n",
      "\r\n",
      "# All requested packages already installed.\r\n",
      "\r\n"
     ]
    },
    {
     "name": "stderr",
     "output_type": "stream",
     "text": [
      "\u001b[32m\u001b[1m    Updating\u001b[22m\u001b[39m registry at `C:\\Users\\yusuke.kanai\\.julia\\registries\\General.toml`\n",
      "\u001b[32m\u001b[1m   Resolving\u001b[22m\u001b[39m package versions...\n",
      "\u001b[32m\u001b[1m  No Changes\u001b[22m\u001b[39m to `C:\\Users\\yusuke.kanai\\.julia\\environments\\v1.7\\Project.toml`\n",
      "\u001b[32m\u001b[1m  No Changes\u001b[22m\u001b[39m to `C:\\Users\\yusuke.kanai\\.julia\\environments\\v1.7\\Manifest.toml`\n",
      "\u001b[32m\u001b[1m   Resolving\u001b[22m\u001b[39m package versions...\n",
      "\u001b[32m\u001b[1m  No Changes\u001b[22m\u001b[39m to `C:\\Users\\yusuke.kanai\\.julia\\environments\\v1.7\\Project.toml`\n",
      "\u001b[32m\u001b[1m  No Changes\u001b[22m\u001b[39m to `C:\\Users\\yusuke.kanai\\.julia\\environments\\v1.7\\Manifest.toml`\n",
      "\u001b[32m\u001b[1m   Resolving\u001b[22m\u001b[39m package versions...\n",
      "\u001b[32m\u001b[1m  No Changes\u001b[22m\u001b[39m to `C:\\Users\\yusuke.kanai\\.julia\\environments\\v1.7\\Project.toml`\n",
      "\u001b[32m\u001b[1m  No Changes\u001b[22m\u001b[39m to `C:\\Users\\yusuke.kanai\\.julia\\environments\\v1.7\\Manifest.toml`\n",
      "\u001b[32m\u001b[1m   Resolving\u001b[22m\u001b[39m package versions...\n",
      "\u001b[32m\u001b[1m  No Changes\u001b[22m\u001b[39m to `C:\\Users\\yusuke.kanai\\.julia\\environments\\v1.7\\Project.toml`\n",
      "\u001b[32m\u001b[1m  No Changes\u001b[22m\u001b[39m to `C:\\Users\\yusuke.kanai\\.julia\\environments\\v1.7\\Manifest.toml`\n",
      "\u001b[32m\u001b[1m   Resolving\u001b[22m\u001b[39m package versions...\n",
      "\u001b[32m\u001b[1m  No Changes\u001b[22m\u001b[39m to `C:\\Users\\yusuke.kanai\\.julia\\environments\\v1.7\\Project.toml`\n",
      "\u001b[32m\u001b[1m  No Changes\u001b[22m\u001b[39m to `C:\\Users\\yusuke.kanai\\.julia\\environments\\v1.7\\Manifest.toml`\n",
      "\u001b[32m\u001b[1m   Resolving\u001b[22m\u001b[39m package versions...\n",
      "\u001b[32m\u001b[1m  No Changes\u001b[22m\u001b[39m to `C:\\Users\\yusuke.kanai\\.julia\\environments\\v1.7\\Project.toml`\n",
      "\u001b[32m\u001b[1m  No Changes\u001b[22m\u001b[39m to `C:\\Users\\yusuke.kanai\\.julia\\environments\\v1.7\\Manifest.toml`\n",
      "┌ Info: Running `conda config --add channels conda-forge --file 'C:\\Users\\yusuke.kanai\\.julia\\conda\\3\\condarc-julia.yml' --force` in root environment\n",
      "└ @ Conda C:\\Users\\yusuke.kanai\\.julia\\packages\\Conda\\1403Y\\src\\Conda.jl:129\n",
      "Warning: 'conda-forge' already in 'channels' list, moving to the top\r\n",
      "┌ Info: Running `conda install -y rise` in root environment\n",
      "└ @ Conda C:\\Users\\yusuke.kanai\\.julia\\packages\\Conda\\1403Y\\src\\Conda.jl:129\n"
     ]
    }
   ],
   "source": [
    "# 追加\n",
    "\n",
    "using Pkg\n",
    "Pkg.add(\"Statistics\") # 統計処理\n",
    "Pkg.add(\"IJulia\") # Jupyter Notebook を使用できるようにする (Julia REPL で入れることになる)\n",
    "Pkg.add(\"PyPlot\") # Python のグラフ描画のライブラリ Matplotlib を Julia から利用する\n",
    "Pkg.add(\"Plots\") # Julia用のグラフ描画パッケージ\n",
    "Pkg.add(\"Distributions\") # 様々な確率分布を提供してくれる\n",
    "Pkg.add(\"Conda\")\n",
    "\n",
    "# 利用\n",
    "\n",
    "using Statistics\n",
    "using Plots\n",
    "\n",
    "# rise: Jupyter Notebookで作成したものをスライドにできる\n",
    "using Conda\n",
    "Conda.add_channel(\"conda-forge\")\n",
    "Conda.add(\"rise\")"
   ]
  },
  {
   "cell_type": "code",
   "execution_count": 27,
   "id": "b4689a59",
   "metadata": {
    "slideshow": {
     "slide_type": "subslide"
    }
   },
   "outputs": [
    {
     "name": "stdout",
     "output_type": "stream",
     "text": [
      "search: \u001b[0m\u001b[1mm\u001b[22m\u001b[0m\u001b[1me\u001b[22m\u001b[0m\u001b[1ma\u001b[22m\u001b[0m\u001b[1mn\u001b[22m \u001b[0m\u001b[1mm\u001b[22m\u001b[0m\u001b[1me\u001b[22m\u001b[0m\u001b[1ma\u001b[22m\u001b[0m\u001b[1mn\u001b[22m! \u001b[0m\u001b[1mm\u001b[22m\u001b[0m\u001b[1me\u001b[22mdi\u001b[0m\u001b[1ma\u001b[22m\u001b[0m\u001b[1mn\u001b[22m \u001b[0m\u001b[1mm\u001b[22m\u001b[0m\u001b[1me\u001b[22mdi\u001b[0m\u001b[1ma\u001b[22m\u001b[0m\u001b[1mn\u001b[22m! weighted_color_\u001b[0m\u001b[1mm\u001b[22m\u001b[0m\u001b[1me\u001b[22m\u001b[0m\u001b[1ma\u001b[22m\u001b[0m\u001b[1mn\u001b[22m PKG\u001b[0m\u001b[1mM\u001b[22mOD\u001b[0m\u001b[1mE\u001b[22m_M\u001b[0m\u001b[1mA\u001b[22m\u001b[0m\u001b[1mN\u001b[22mIFEST\n",
      "\n"
     ]
    },
    {
     "data": {
      "text/latex": [
       "\\begin{verbatim}\n",
       "mean(itr)\n",
       "\\end{verbatim}\n",
       "Compute the mean of all elements in a collection.\n",
       "\n",
       "\\begin{quote}\n",
       "\\textbf{note}\n",
       "\n",
       "Note\n",
       "\n",
       "If \\texttt{itr} contains \\texttt{NaN} or \\href{@ref}{\\texttt{missing}} values, the result is also \\texttt{NaN} or \\texttt{missing} (\\texttt{missing} takes precedence if array contains both). Use the \\href{@ref}{\\texttt{skipmissing}} function to omit \\texttt{missing} entries and compute the mean of non-missing values.\n",
       "\n",
       "\\end{quote}\n",
       "\\section{Examples}\n",
       "\\begin{verbatim}\n",
       "julia> using Statistics\n",
       "\n",
       "julia> mean(1:20)\n",
       "10.5\n",
       "\n",
       "julia> mean([1, missing, 3])\n",
       "missing\n",
       "\n",
       "julia> mean(skipmissing([1, missing, 3]))\n",
       "2.0\n",
       "\\end{verbatim}\n",
       "\\rule{\\textwidth}{1pt}\n",
       "\\begin{verbatim}\n",
       "mean(f::Function, itr)\n",
       "\\end{verbatim}\n",
       "Apply the function \\texttt{f} to each element of collection \\texttt{itr} and take the mean.\n",
       "\n",
       "\\begin{verbatim}\n",
       "julia> using Statistics\n",
       "\n",
       "julia> mean(√, [1, 2, 3])\n",
       "1.3820881233139908\n",
       "\n",
       "julia> mean([√1, √2, √3])\n",
       "1.3820881233139908\n",
       "\\end{verbatim}\n",
       "\\rule{\\textwidth}{1pt}\n",
       "\\begin{verbatim}\n",
       "mean(f::Function, A::AbstractArray; dims)\n",
       "\\end{verbatim}\n",
       "Apply the function \\texttt{f} to each element of array \\texttt{A} and take the mean over dimensions \\texttt{dims}.\n",
       "\n",
       "\\begin{quote}\n",
       "\\textbf{compat}\n",
       "\n",
       "Julia 1.3\n",
       "\n",
       "This method requires at least Julia 1.3.\n",
       "\n",
       "\\end{quote}\n",
       "\\begin{verbatim}\n",
       "julia> using Statistics\n",
       "\n",
       "julia> mean(√, [1, 2, 3])\n",
       "1.3820881233139908\n",
       "\n",
       "julia> mean([√1, √2, √3])\n",
       "1.3820881233139908\n",
       "\n",
       "julia> mean(√, [1 2 3; 4 5 6], dims=2)\n",
       "2×1 Matrix{Float64}:\n",
       " 1.3820881233139908\n",
       " 2.2285192400943226\n",
       "\\end{verbatim}\n",
       "\\rule{\\textwidth}{1pt}\n",
       "\\begin{verbatim}\n",
       "mean(A::AbstractArray; dims)\n",
       "\\end{verbatim}\n",
       "Compute the mean of an array over the given dimensions.\n",
       "\n",
       "\\begin{quote}\n",
       "\\textbf{compat}\n",
       "\n",
       "Julia 1.1\n",
       "\n",
       "\\texttt{mean} for empty arrays requires at least Julia 1.1.\n",
       "\n",
       "\\end{quote}\n",
       "\\section{Examples}\n",
       "\\begin{verbatim}\n",
       "julia> using Statistics\n",
       "\n",
       "julia> A = [1 2; 3 4]\n",
       "2×2 Matrix{Int64}:\n",
       " 1  2\n",
       " 3  4\n",
       "\n",
       "julia> mean(A, dims=1)\n",
       "1×2 Matrix{Float64}:\n",
       " 2.0  3.0\n",
       "\n",
       "julia> mean(A, dims=2)\n",
       "2×1 Matrix{Float64}:\n",
       " 1.5\n",
       " 3.5\n",
       "\\end{verbatim}\n",
       "\\rule{\\textwidth}{1pt}\n",
       "\\begin{verbatim}\n",
       "mean(A::AbstractArray, w::AbstractWeights[, dims::Int])\n",
       "\\end{verbatim}\n",
       "Compute the weighted mean of array \\texttt{A} with weight vector \\texttt{w} (of type \\texttt{AbstractWeights}). If \\texttt{dim} is provided, compute the weighted mean along dimension \\texttt{dims}.\n",
       "\n",
       "\\section{Examples}\n",
       "\\begin{verbatim}\n",
       "n = 20\n",
       "x = rand(n)\n",
       "w = rand(n)\n",
       "mean(x, weights(w))\n",
       "\\end{verbatim}\n"
      ],
      "text/markdown": [
       "```\n",
       "mean(itr)\n",
       "```\n",
       "\n",
       "Compute the mean of all elements in a collection.\n",
       "\n",
       "!!! note\n",
       "    If `itr` contains `NaN` or [`missing`](@ref) values, the result is also `NaN` or `missing` (`missing` takes precedence if array contains both). Use the [`skipmissing`](@ref) function to omit `missing` entries and compute the mean of non-missing values.\n",
       "\n",
       "\n",
       "# Examples\n",
       "\n",
       "```jldoctest\n",
       "julia> using Statistics\n",
       "\n",
       "julia> mean(1:20)\n",
       "10.5\n",
       "\n",
       "julia> mean([1, missing, 3])\n",
       "missing\n",
       "\n",
       "julia> mean(skipmissing([1, missing, 3]))\n",
       "2.0\n",
       "```\n",
       "\n",
       "---\n",
       "\n",
       "```\n",
       "mean(f::Function, itr)\n",
       "```\n",
       "\n",
       "Apply the function `f` to each element of collection `itr` and take the mean.\n",
       "\n",
       "```jldoctest\n",
       "julia> using Statistics\n",
       "\n",
       "julia> mean(√, [1, 2, 3])\n",
       "1.3820881233139908\n",
       "\n",
       "julia> mean([√1, √2, √3])\n",
       "1.3820881233139908\n",
       "```\n",
       "\n",
       "---\n",
       "\n",
       "```\n",
       "mean(f::Function, A::AbstractArray; dims)\n",
       "```\n",
       "\n",
       "Apply the function `f` to each element of array `A` and take the mean over dimensions `dims`.\n",
       "\n",
       "!!! compat \"Julia 1.3\"\n",
       "    This method requires at least Julia 1.3.\n",
       "\n",
       "\n",
       "```jldoctest\n",
       "julia> using Statistics\n",
       "\n",
       "julia> mean(√, [1, 2, 3])\n",
       "1.3820881233139908\n",
       "\n",
       "julia> mean([√1, √2, √3])\n",
       "1.3820881233139908\n",
       "\n",
       "julia> mean(√, [1 2 3; 4 5 6], dims=2)\n",
       "2×1 Matrix{Float64}:\n",
       " 1.3820881233139908\n",
       " 2.2285192400943226\n",
       "```\n",
       "\n",
       "---\n",
       "\n",
       "```\n",
       "mean(A::AbstractArray; dims)\n",
       "```\n",
       "\n",
       "Compute the mean of an array over the given dimensions.\n",
       "\n",
       "!!! compat \"Julia 1.1\"\n",
       "    `mean` for empty arrays requires at least Julia 1.1.\n",
       "\n",
       "\n",
       "# Examples\n",
       "\n",
       "```jldoctest\n",
       "julia> using Statistics\n",
       "\n",
       "julia> A = [1 2; 3 4]\n",
       "2×2 Matrix{Int64}:\n",
       " 1  2\n",
       " 3  4\n",
       "\n",
       "julia> mean(A, dims=1)\n",
       "1×2 Matrix{Float64}:\n",
       " 2.0  3.0\n",
       "\n",
       "julia> mean(A, dims=2)\n",
       "2×1 Matrix{Float64}:\n",
       " 1.5\n",
       " 3.5\n",
       "```\n",
       "\n",
       "---\n",
       "\n",
       "```\n",
       "mean(A::AbstractArray, w::AbstractWeights[, dims::Int])\n",
       "```\n",
       "\n",
       "Compute the weighted mean of array `A` with weight vector `w` (of type `AbstractWeights`). If `dim` is provided, compute the weighted mean along dimension `dims`.\n",
       "\n",
       "# Examples\n",
       "\n",
       "```julia\n",
       "n = 20\n",
       "x = rand(n)\n",
       "w = rand(n)\n",
       "mean(x, weights(w))\n",
       "```\n"
      ],
      "text/plain": [
       "\u001b[36m  mean(itr)\u001b[39m\n",
       "\n",
       "  Compute the mean of all elements in a collection.\n",
       "\n",
       "\u001b[36m\u001b[1m  │ \u001b[22m\u001b[39m\u001b[36m\u001b[1mNote\u001b[22m\u001b[39m\n",
       "\u001b[36m\u001b[1m  │\u001b[22m\u001b[39m\n",
       "\u001b[36m\u001b[1m  │\u001b[22m\u001b[39m  If \u001b[36mitr\u001b[39m contains \u001b[36mNaN\u001b[39m or \u001b[36mmissing\u001b[39m values, the result is also \u001b[36mNaN\u001b[39m or\n",
       "\u001b[36m\u001b[1m  │\u001b[22m\u001b[39m  \u001b[36mmissing\u001b[39m (\u001b[36mmissing\u001b[39m takes precedence if array contains both). Use the\n",
       "\u001b[36m\u001b[1m  │\u001b[22m\u001b[39m  \u001b[36mskipmissing\u001b[39m function to omit \u001b[36mmissing\u001b[39m entries and compute the mean\n",
       "\u001b[36m\u001b[1m  │\u001b[22m\u001b[39m  of non-missing values.\n",
       "\n",
       "\u001b[1m  Examples\u001b[22m\n",
       "\u001b[1m  ≡≡≡≡≡≡≡≡≡≡\u001b[22m\n",
       "\n",
       "\u001b[36m  julia> using Statistics\u001b[39m\n",
       "\u001b[36m  \u001b[39m\n",
       "\u001b[36m  julia> mean(1:20)\u001b[39m\n",
       "\u001b[36m  10.5\u001b[39m\n",
       "\u001b[36m  \u001b[39m\n",
       "\u001b[36m  julia> mean([1, missing, 3])\u001b[39m\n",
       "\u001b[36m  missing\u001b[39m\n",
       "\u001b[36m  \u001b[39m\n",
       "\u001b[36m  julia> mean(skipmissing([1, missing, 3]))\u001b[39m\n",
       "\u001b[36m  2.0\u001b[39m\n",
       "\n",
       "  ────────────────────────────────────────────────────────────────────────────\n",
       "\n",
       "\u001b[36m  mean(f::Function, itr)\u001b[39m\n",
       "\n",
       "  Apply the function \u001b[36mf\u001b[39m to each element of collection \u001b[36mitr\u001b[39m and take the mean.\n",
       "\n",
       "\u001b[36m  julia> using Statistics\u001b[39m\n",
       "\u001b[36m  \u001b[39m\n",
       "\u001b[36m  julia> mean(√, [1, 2, 3])\u001b[39m\n",
       "\u001b[36m  1.3820881233139908\u001b[39m\n",
       "\u001b[36m  \u001b[39m\n",
       "\u001b[36m  julia> mean([√1, √2, √3])\u001b[39m\n",
       "\u001b[36m  1.3820881233139908\u001b[39m\n",
       "\n",
       "  ────────────────────────────────────────────────────────────────────────────\n",
       "\n",
       "\u001b[36m  mean(f::Function, A::AbstractArray; dims)\u001b[39m\n",
       "\n",
       "  Apply the function \u001b[36mf\u001b[39m to each element of array \u001b[36mA\u001b[39m and take the mean over\n",
       "  dimensions \u001b[36mdims\u001b[39m.\n",
       "\n",
       "\u001b[39m\u001b[1m  │ \u001b[22m\u001b[39m\u001b[1mJulia 1.3\u001b[22m\n",
       "\u001b[39m\u001b[1m  │\u001b[22m\n",
       "\u001b[39m\u001b[1m  │\u001b[22m  This method requires at least Julia 1.3.\n",
       "\n",
       "\u001b[36m  julia> using Statistics\u001b[39m\n",
       "\u001b[36m  \u001b[39m\n",
       "\u001b[36m  julia> mean(√, [1, 2, 3])\u001b[39m\n",
       "\u001b[36m  1.3820881233139908\u001b[39m\n",
       "\u001b[36m  \u001b[39m\n",
       "\u001b[36m  julia> mean([√1, √2, √3])\u001b[39m\n",
       "\u001b[36m  1.3820881233139908\u001b[39m\n",
       "\u001b[36m  \u001b[39m\n",
       "\u001b[36m  julia> mean(√, [1 2 3; 4 5 6], dims=2)\u001b[39m\n",
       "\u001b[36m  2×1 Matrix{Float64}:\u001b[39m\n",
       "\u001b[36m   1.3820881233139908\u001b[39m\n",
       "\u001b[36m   2.2285192400943226\u001b[39m\n",
       "\n",
       "  ────────────────────────────────────────────────────────────────────────────\n",
       "\n",
       "\u001b[36m  mean(A::AbstractArray; dims)\u001b[39m\n",
       "\n",
       "  Compute the mean of an array over the given dimensions.\n",
       "\n",
       "\u001b[39m\u001b[1m  │ \u001b[22m\u001b[39m\u001b[1mJulia 1.1\u001b[22m\n",
       "\u001b[39m\u001b[1m  │\u001b[22m\n",
       "\u001b[39m\u001b[1m  │\u001b[22m  \u001b[36mmean\u001b[39m for empty arrays requires at least Julia 1.1.\n",
       "\n",
       "\u001b[1m  Examples\u001b[22m\n",
       "\u001b[1m  ≡≡≡≡≡≡≡≡≡≡\u001b[22m\n",
       "\n",
       "\u001b[36m  julia> using Statistics\u001b[39m\n",
       "\u001b[36m  \u001b[39m\n",
       "\u001b[36m  julia> A = [1 2; 3 4]\u001b[39m\n",
       "\u001b[36m  2×2 Matrix{Int64}:\u001b[39m\n",
       "\u001b[36m   1  2\u001b[39m\n",
       "\u001b[36m   3  4\u001b[39m\n",
       "\u001b[36m  \u001b[39m\n",
       "\u001b[36m  julia> mean(A, dims=1)\u001b[39m\n",
       "\u001b[36m  1×2 Matrix{Float64}:\u001b[39m\n",
       "\u001b[36m   2.0  3.0\u001b[39m\n",
       "\u001b[36m  \u001b[39m\n",
       "\u001b[36m  julia> mean(A, dims=2)\u001b[39m\n",
       "\u001b[36m  2×1 Matrix{Float64}:\u001b[39m\n",
       "\u001b[36m   1.5\u001b[39m\n",
       "\u001b[36m   3.5\u001b[39m\n",
       "\n",
       "  ────────────────────────────────────────────────────────────────────────────\n",
       "\n",
       "\u001b[36m  mean(A::AbstractArray, w::AbstractWeights[, dims::Int])\u001b[39m\n",
       "\n",
       "  Compute the weighted mean of array \u001b[36mA\u001b[39m with weight vector \u001b[36mw\u001b[39m (of type\n",
       "  \u001b[36mAbstractWeights\u001b[39m). If \u001b[36mdim\u001b[39m is provided, compute the weighted mean along\n",
       "  dimension \u001b[36mdims\u001b[39m.\n",
       "\n",
       "\u001b[1m  Examples\u001b[22m\n",
       "\u001b[1m  ≡≡≡≡≡≡≡≡≡≡\u001b[22m\n",
       "\n",
       "\u001b[36m  n = 20\u001b[39m\n",
       "\u001b[36m  x = rand(n)\u001b[39m\n",
       "\u001b[36m  w = rand(n)\u001b[39m\n",
       "\u001b[36m  mean(x, weights(w))\u001b[39m"
      ]
     },
     "execution_count": 27,
     "metadata": {},
     "output_type": "execute_result"
    }
   ],
   "source": [
    "?mean"
   ]
  },
  {
   "cell_type": "markdown",
   "id": "a2b53f2c",
   "metadata": {
    "slideshow": {
     "slide_type": "slide"
    }
   },
   "source": [
    "## 実演"
   ]
  },
  {
   "cell_type": "markdown",
   "id": "4062ca51",
   "metadata": {
    "slideshow": {
     "slide_type": "slide"
    }
   },
   "source": [
    "### 多項式近似\n",
    "\n",
    "4次関数の多項式近似を例に紹介する。"
   ]
  },
  {
   "cell_type": "markdown",
   "id": "5f81f71f",
   "metadata": {
    "slideshow": {
     "slide_type": "subslide"
    }
   },
   "source": [
    "#### データ\n",
    "\n",
    "データは -2 ～ 3 の間で $f(x) = 0.3x^4 - 0.8x^3 - 0.6x^2 + 2.4x + 1 + \\epsilon$ から生成されたとする "
   ]
  },
  {
   "cell_type": "code",
   "execution_count": 28,
   "id": "1b6a59a1",
   "metadata": {
    "slideshow": {
     "slide_type": "-"
    }
   },
   "outputs": [
    {
     "data": {
      "image/svg+xml": "<?xml version=\"1.0\" encoding=\"utf-8\"?>\n<svg xmlns=\"http://www.w3.org/2000/svg\" xmlns:xlink=\"http://www.w3.org/1999/xlink\" width=\"600\" height=\"400\" viewBox=\"0 0 2400 1600\">\n<defs>\n  <clipPath id=\"clip860\">\n    <rect x=\"0\" y=\"0\" width=\"2400\" height=\"1600\"/>\n  </clipPath>\n</defs>\n<path clip-path=\"url(#clip860)\" d=\"\nM0 1600 L2400 1600 L2400 0 L0 0  Z\n  \" fill=\"#ffffff\" fill-rule=\"evenodd\" fill-opacity=\"1\"/>\n<defs>\n  <clipPath id=\"clip861\">\n    <rect x=\"480\" y=\"0\" width=\"1681\" height=\"1600\"/>\n  </clipPath>\n</defs>\n<path clip-path=\"url(#clip860)\" d=\"\nM112.177 1486.45 L2352.76 1486.45 L2352.76 47.2441 L112.177 47.2441  Z\n  \" fill=\"#ffffff\" fill-rule=\"evenodd\" fill-opacity=\"1\"/>\n<defs>\n  <clipPath id=\"clip862\">\n    <rect x=\"112\" y=\"47\" width=\"2242\" height=\"1440\"/>\n  </clipPath>\n</defs>\n<polyline clip-path=\"url(#clip862)\" style=\"stroke:#000000; stroke-linecap:butt; stroke-linejoin:round; stroke-width:2; stroke-opacity:0.1; fill:none\" points=\"\n  175.59,1486.45 175.59,47.2441 \n  \"/>\n<polyline clip-path=\"url(#clip862)\" style=\"stroke:#000000; stroke-linecap:butt; stroke-linejoin:round; stroke-width:2; stroke-opacity:0.1; fill:none\" points=\"\n  598.34,1486.45 598.34,47.2441 \n  \"/>\n<polyline clip-path=\"url(#clip862)\" style=\"stroke:#000000; stroke-linecap:butt; stroke-linejoin:round; stroke-width:2; stroke-opacity:0.1; fill:none\" points=\"\n  1021.09,1486.45 1021.09,47.2441 \n  \"/>\n<polyline clip-path=\"url(#clip862)\" style=\"stroke:#000000; stroke-linecap:butt; stroke-linejoin:round; stroke-width:2; stroke-opacity:0.1; fill:none\" points=\"\n  1443.84,1486.45 1443.84,47.2441 \n  \"/>\n<polyline clip-path=\"url(#clip862)\" style=\"stroke:#000000; stroke-linecap:butt; stroke-linejoin:round; stroke-width:2; stroke-opacity:0.1; fill:none\" points=\"\n  1866.59,1486.45 1866.59,47.2441 \n  \"/>\n<polyline clip-path=\"url(#clip862)\" style=\"stroke:#000000; stroke-linecap:butt; stroke-linejoin:round; stroke-width:2; stroke-opacity:0.1; fill:none\" points=\"\n  2289.34,1486.45 2289.34,47.2441 \n  \"/>\n<polyline clip-path=\"url(#clip860)\" style=\"stroke:#000000; stroke-linecap:butt; stroke-linejoin:round; stroke-width:4; stroke-opacity:1; fill:none\" points=\"\n  112.177,1486.45 2352.76,1486.45 \n  \"/>\n<polyline clip-path=\"url(#clip860)\" style=\"stroke:#000000; stroke-linecap:butt; stroke-linejoin:round; stroke-width:4; stroke-opacity:1; fill:none\" points=\"\n  175.59,1486.45 175.59,1467.55 \n  \"/>\n<polyline clip-path=\"url(#clip860)\" style=\"stroke:#000000; stroke-linecap:butt; stroke-linejoin:round; stroke-width:4; stroke-opacity:1; fill:none\" points=\"\n  598.34,1486.45 598.34,1467.55 \n  \"/>\n<polyline clip-path=\"url(#clip860)\" style=\"stroke:#000000; stroke-linecap:butt; stroke-linejoin:round; stroke-width:4; stroke-opacity:1; fill:none\" points=\"\n  1021.09,1486.45 1021.09,1467.55 \n  \"/>\n<polyline clip-path=\"url(#clip860)\" style=\"stroke:#000000; stroke-linecap:butt; stroke-linejoin:round; stroke-width:4; stroke-opacity:1; fill:none\" points=\"\n  1443.84,1486.45 1443.84,1467.55 \n  \"/>\n<polyline clip-path=\"url(#clip860)\" style=\"stroke:#000000; stroke-linecap:butt; stroke-linejoin:round; stroke-width:4; stroke-opacity:1; fill:none\" points=\"\n  1866.59,1486.45 1866.59,1467.55 \n  \"/>\n<polyline clip-path=\"url(#clip860)\" style=\"stroke:#000000; stroke-linecap:butt; stroke-linejoin:round; stroke-width:4; stroke-opacity:1; fill:none\" points=\"\n  2289.34,1486.45 2289.34,1467.55 \n  \"/>\n<path clip-path=\"url(#clip860)\" d=\"M145.532 1532.02 L175.208 1532.02 L175.208 1535.95 L145.532 1535.95 L145.532 1532.02 Z\" fill=\"#000000\" fill-rule=\"evenodd\" fill-opacity=\"1\" /><path clip-path=\"url(#clip860)\" d=\"M189.328 1544.91 L205.647 1544.91 L205.647 1548.85 L183.703 1548.85 L183.703 1544.91 Q186.365 1542.16 190.948 1537.53 Q195.555 1532.88 196.736 1531.53 Q198.981 1529.01 199.86 1527.27 Q200.763 1525.51 200.763 1523.82 Q200.763 1521.07 198.819 1519.33 Q196.898 1517.6 193.796 1517.6 Q191.597 1517.6 189.143 1518.36 Q186.712 1519.13 183.935 1520.68 L183.935 1515.95 Q186.759 1514.82 189.212 1514.24 Q191.666 1513.66 193.703 1513.66 Q199.073 1513.66 202.268 1516.35 Q205.462 1519.03 205.462 1523.52 Q205.462 1525.65 204.652 1527.57 Q203.865 1529.47 201.759 1532.07 Q201.18 1532.74 198.078 1535.95 Q194.976 1539.15 189.328 1544.91 Z\" fill=\"#000000\" fill-rule=\"evenodd\" fill-opacity=\"1\" /><path clip-path=\"url(#clip860)\" d=\"M568.098 1532.02 L597.773 1532.02 L597.773 1535.95 L568.098 1535.95 L568.098 1532.02 Z\" fill=\"#000000\" fill-rule=\"evenodd\" fill-opacity=\"1\" /><path clip-path=\"url(#clip860)\" d=\"M608.676 1544.91 L616.315 1544.91 L616.315 1518.55 L608.005 1520.21 L608.005 1515.95 L616.269 1514.29 L620.945 1514.29 L620.945 1544.91 L628.583 1544.91 L628.583 1548.85 L608.676 1548.85 L608.676 1544.91 Z\" fill=\"#000000\" fill-rule=\"evenodd\" fill-opacity=\"1\" /><path clip-path=\"url(#clip860)\" d=\"M1021.09 1517.37 Q1017.48 1517.37 1015.65 1520.93 Q1013.85 1524.47 1013.85 1531.6 Q1013.85 1538.71 1015.65 1542.27 Q1017.48 1545.82 1021.09 1545.82 Q1024.73 1545.82 1026.53 1542.27 Q1028.36 1538.71 1028.36 1531.6 Q1028.36 1524.47 1026.53 1520.93 Q1024.73 1517.37 1021.09 1517.37 M1021.09 1513.66 Q1026.9 1513.66 1029.96 1518.27 Q1033.04 1522.85 1033.04 1531.6 Q1033.04 1540.33 1029.96 1544.94 Q1026.9 1549.52 1021.09 1549.52 Q1015.28 1549.52 1012.2 1544.94 Q1009.15 1540.33 1009.15 1531.6 Q1009.15 1522.85 1012.2 1518.27 Q1015.28 1513.66 1021.09 1513.66 Z\" fill=\"#000000\" fill-rule=\"evenodd\" fill-opacity=\"1\" /><path clip-path=\"url(#clip860)\" d=\"M1434.22 1544.91 L1441.86 1544.91 L1441.86 1518.55 L1433.55 1520.21 L1433.55 1515.95 L1441.82 1514.29 L1446.49 1514.29 L1446.49 1544.91 L1454.13 1544.91 L1454.13 1548.85 L1434.22 1548.85 L1434.22 1544.91 Z\" fill=\"#000000\" fill-rule=\"evenodd\" fill-opacity=\"1\" /><path clip-path=\"url(#clip860)\" d=\"M1861.25 1544.91 L1877.56 1544.91 L1877.56 1548.85 L1855.62 1548.85 L1855.62 1544.91 Q1858.28 1542.16 1862.87 1537.53 Q1867.47 1532.88 1868.65 1531.53 Q1870.9 1529.01 1871.78 1527.27 Q1872.68 1525.51 1872.68 1523.82 Q1872.68 1521.07 1870.74 1519.33 Q1868.81 1517.6 1865.71 1517.6 Q1863.51 1517.6 1861.06 1518.36 Q1858.63 1519.13 1855.85 1520.68 L1855.85 1515.95 Q1858.68 1514.82 1861.13 1514.24 Q1863.58 1513.66 1865.62 1513.66 Q1870.99 1513.66 1874.19 1516.35 Q1877.38 1519.03 1877.38 1523.52 Q1877.38 1525.65 1876.57 1527.57 Q1875.78 1529.47 1873.68 1532.07 Q1873.1 1532.74 1870 1535.95 Q1866.89 1539.15 1861.25 1544.91 Z\" fill=\"#000000\" fill-rule=\"evenodd\" fill-opacity=\"1\" /><path clip-path=\"url(#clip860)\" d=\"M2293.59 1530.21 Q2296.95 1530.93 2298.82 1533.2 Q2300.72 1535.47 2300.72 1538.8 Q2300.72 1543.92 2297.2 1546.72 Q2293.68 1549.52 2287.2 1549.52 Q2285.03 1549.52 2282.71 1549.08 Q2280.42 1548.66 2277.97 1547.81 L2277.97 1543.29 Q2279.91 1544.43 2282.23 1545.01 Q2284.54 1545.58 2287.06 1545.58 Q2291.46 1545.58 2293.75 1543.85 Q2296.07 1542.11 2296.07 1538.8 Q2296.07 1535.75 2293.92 1534.03 Q2291.79 1532.3 2287.97 1532.3 L2283.94 1532.3 L2283.94 1528.45 L2288.15 1528.45 Q2291.6 1528.45 2293.43 1527.09 Q2295.26 1525.7 2295.26 1523.11 Q2295.26 1520.45 2293.36 1519.03 Q2291.48 1517.6 2287.97 1517.6 Q2286.04 1517.6 2283.85 1518.01 Q2281.65 1518.43 2279.01 1519.31 L2279.01 1515.14 Q2281.67 1514.4 2283.98 1514.03 Q2286.32 1513.66 2288.38 1513.66 Q2293.71 1513.66 2296.81 1516.09 Q2299.91 1518.5 2299.91 1522.62 Q2299.91 1525.49 2298.27 1527.48 Q2296.62 1529.45 2293.59 1530.21 Z\" fill=\"#000000\" fill-rule=\"evenodd\" fill-opacity=\"1\" /><polyline clip-path=\"url(#clip862)\" style=\"stroke:#000000; stroke-linecap:butt; stroke-linejoin:round; stroke-width:2; stroke-opacity:0.1; fill:none\" points=\"\n  112.177,1286.31 2352.76,1286.31 \n  \"/>\n<polyline clip-path=\"url(#clip862)\" style=\"stroke:#000000; stroke-linecap:butt; stroke-linejoin:round; stroke-width:2; stroke-opacity:0.1; fill:none\" points=\"\n  112.177,1073.17 2352.76,1073.17 \n  \"/>\n<polyline clip-path=\"url(#clip862)\" style=\"stroke:#000000; stroke-linecap:butt; stroke-linejoin:round; stroke-width:2; stroke-opacity:0.1; fill:none\" points=\"\n  112.177,860.016 2352.76,860.016 \n  \"/>\n<polyline clip-path=\"url(#clip862)\" style=\"stroke:#000000; stroke-linecap:butt; stroke-linejoin:round; stroke-width:2; stroke-opacity:0.1; fill:none\" points=\"\n  112.177,646.867 2352.76,646.867 \n  \"/>\n<polyline clip-path=\"url(#clip862)\" style=\"stroke:#000000; stroke-linecap:butt; stroke-linejoin:round; stroke-width:2; stroke-opacity:0.1; fill:none\" points=\"\n  112.177,433.718 2352.76,433.718 \n  \"/>\n<polyline clip-path=\"url(#clip862)\" style=\"stroke:#000000; stroke-linecap:butt; stroke-linejoin:round; stroke-width:2; stroke-opacity:0.1; fill:none\" points=\"\n  112.177,220.569 2352.76,220.569 \n  \"/>\n<polyline clip-path=\"url(#clip860)\" style=\"stroke:#000000; stroke-linecap:butt; stroke-linejoin:round; stroke-width:4; stroke-opacity:1; fill:none\" points=\"\n  112.177,1486.45 112.177,47.2441 \n  \"/>\n<polyline clip-path=\"url(#clip860)\" style=\"stroke:#000000; stroke-linecap:butt; stroke-linejoin:round; stroke-width:4; stroke-opacity:1; fill:none\" points=\"\n  112.177,1286.31 131.075,1286.31 \n  \"/>\n<polyline clip-path=\"url(#clip860)\" style=\"stroke:#000000; stroke-linecap:butt; stroke-linejoin:round; stroke-width:4; stroke-opacity:1; fill:none\" points=\"\n  112.177,1073.17 131.075,1073.17 \n  \"/>\n<polyline clip-path=\"url(#clip860)\" style=\"stroke:#000000; stroke-linecap:butt; stroke-linejoin:round; stroke-width:4; stroke-opacity:1; fill:none\" points=\"\n  112.177,860.016 131.075,860.016 \n  \"/>\n<polyline clip-path=\"url(#clip860)\" style=\"stroke:#000000; stroke-linecap:butt; stroke-linejoin:round; stroke-width:4; stroke-opacity:1; fill:none\" points=\"\n  112.177,646.867 131.075,646.867 \n  \"/>\n<polyline clip-path=\"url(#clip860)\" style=\"stroke:#000000; stroke-linecap:butt; stroke-linejoin:round; stroke-width:4; stroke-opacity:1; fill:none\" points=\"\n  112.177,433.718 131.075,433.718 \n  \"/>\n<polyline clip-path=\"url(#clip860)\" style=\"stroke:#000000; stroke-linecap:butt; stroke-linejoin:round; stroke-width:4; stroke-opacity:1; fill:none\" points=\"\n  112.177,220.569 131.075,220.569 \n  \"/>\n<path clip-path=\"url(#clip860)\" d=\"M64.2328 1272.11 Q60.6217 1272.11 58.793 1275.68 Q56.9875 1279.22 56.9875 1286.35 Q56.9875 1293.46 58.793 1297.02 Q60.6217 1300.56 64.2328 1300.56 Q67.867 1300.56 69.6726 1297.02 Q71.5013 1293.46 71.5013 1286.35 Q71.5013 1279.22 69.6726 1275.68 Q67.867 1272.11 64.2328 1272.11 M64.2328 1268.41 Q70.0429 1268.41 73.0985 1273.02 Q76.1772 1277.6 76.1772 1286.35 Q76.1772 1295.08 73.0985 1299.68 Q70.0429 1304.27 64.2328 1304.27 Q58.4226 1304.27 55.344 1299.68 Q52.2884 1295.08 52.2884 1286.35 Q52.2884 1277.6 55.344 1273.02 Q58.4226 1268.41 64.2328 1268.41 Z\" fill=\"#000000\" fill-rule=\"evenodd\" fill-opacity=\"1\" /><path clip-path=\"url(#clip860)\" d=\"M56.2699 1086.51 L63.9087 1086.51 L63.9087 1060.14 L55.5986 1061.81 L55.5986 1057.55 L63.8624 1055.89 L68.5383 1055.89 L68.5383 1086.51 L76.1772 1086.51 L76.1772 1090.45 L56.2699 1090.45 L56.2699 1086.51 Z\" fill=\"#000000\" fill-rule=\"evenodd\" fill-opacity=\"1\" /><path clip-path=\"url(#clip860)\" d=\"M59.8578 873.361 L76.1772 873.361 L76.1772 877.296 L54.2328 877.296 L54.2328 873.361 Q56.8949 870.607 61.4782 865.977 Q66.0846 861.324 67.2652 859.982 Q69.5105 857.458 70.3902 855.722 Q71.2929 853.963 71.2929 852.273 Q71.2929 849.519 69.3485 847.783 Q67.4272 846.046 64.3254 846.046 Q62.1263 846.046 59.6726 846.81 Q57.2421 847.574 54.4643 849.125 L54.4643 844.403 Q57.2884 843.269 59.7421 842.69 Q62.1958 842.111 64.2328 842.111 Q69.6031 842.111 72.7976 844.796 Q75.992 847.482 75.992 851.972 Q75.992 854.102 75.1818 856.023 Q74.3948 857.921 72.2883 860.514 Q71.7096 861.185 68.6078 864.403 Q65.5059 867.597 59.8578 873.361 Z\" fill=\"#000000\" fill-rule=\"evenodd\" fill-opacity=\"1\" /><path clip-path=\"url(#clip860)\" d=\"M69.0476 645.513 Q72.404 646.231 74.279 648.499 Q76.1772 650.768 76.1772 654.101 Q76.1772 659.217 72.6587 662.018 Q69.1402 664.818 62.6587 664.818 Q60.4828 664.818 58.168 664.379 Q55.8764 663.962 53.4227 663.106 L53.4227 658.592 Q55.3671 659.726 57.6819 660.305 Q59.9967 660.883 62.5198 660.883 Q66.918 660.883 69.2096 659.147 Q71.5244 657.411 71.5244 654.101 Q71.5244 651.045 69.3717 649.332 Q67.242 647.596 63.4226 647.596 L59.3949 647.596 L59.3949 643.754 L63.6078 643.754 Q67.0569 643.754 68.8855 642.388 Q70.7142 640.999 70.7142 638.407 Q70.7142 635.745 68.8161 634.333 Q66.9411 632.897 63.4226 632.897 Q61.5013 632.897 59.3023 633.314 Q57.1032 633.731 54.4643 634.61 L54.4643 630.444 Q57.1264 629.703 59.4412 629.333 Q61.7791 628.962 63.8393 628.962 Q69.1633 628.962 72.2652 631.393 Q75.367 633.8 75.367 637.92 Q75.367 640.791 73.7235 642.782 Q72.08 644.749 69.0476 645.513 Z\" fill=\"#000000\" fill-rule=\"evenodd\" fill-opacity=\"1\" /><path clip-path=\"url(#clip860)\" d=\"M66.5939 420.512 L54.7884 438.961 L66.5939 438.961 L66.5939 420.512 M65.367 416.438 L71.2466 416.438 L71.2466 438.961 L76.1772 438.961 L76.1772 442.85 L71.2466 442.85 L71.2466 450.998 L66.5939 450.998 L66.5939 442.85 L50.9921 442.85 L50.9921 438.336 L65.367 416.438 Z\" fill=\"#000000\" fill-rule=\"evenodd\" fill-opacity=\"1\" /><path clip-path=\"url(#clip860)\" d=\"M55.2745 203.289 L73.6309 203.289 L73.6309 207.224 L59.5569 207.224 L59.5569 215.696 Q60.5754 215.349 61.5939 215.187 Q62.6124 215.002 63.6309 215.002 Q69.418 215.002 72.7976 218.173 Q76.1772 221.344 76.1772 226.761 Q76.1772 232.34 72.705 235.442 Q69.2328 238.52 62.9134 238.52 Q60.7374 238.52 58.4689 238.15 Q56.2236 237.78 53.8162 237.039 L53.8162 232.34 Q55.8995 233.474 58.1217 234.03 Q60.3439 234.585 62.8208 234.585 Q66.8254 234.585 69.1633 232.479 Q71.5013 230.372 71.5013 226.761 Q71.5013 223.15 69.1633 221.043 Q66.8254 218.937 62.8208 218.937 Q60.9458 218.937 59.0708 219.354 Q57.2189 219.77 55.2745 220.65 L55.2745 203.289 Z\" fill=\"#000000\" fill-rule=\"evenodd\" fill-opacity=\"1\" /><circle clip-path=\"url(#clip862)\" cx=\"175.59\" cy=\"87.9763\" r=\"14\" fill=\"#009af9\" fill-rule=\"evenodd\" fill-opacity=\"1\" stroke=\"#000000\" stroke-opacity=\"1\" stroke-width=\"3.2\"/>\n<circle clip-path=\"url(#clip862)\" cx=\"217.865\" cy=\"446.819\" r=\"14\" fill=\"#009af9\" fill-rule=\"evenodd\" fill-opacity=\"1\" stroke=\"#000000\" stroke-opacity=\"1\" stroke-width=\"3.2\"/>\n<circle clip-path=\"url(#clip862)\" cx=\"260.14\" cy=\"835.836\" r=\"14\" fill=\"#009af9\" fill-rule=\"evenodd\" fill-opacity=\"1\" stroke=\"#000000\" stroke-opacity=\"1\" stroke-width=\"3.2\"/>\n<circle clip-path=\"url(#clip862)\" cx=\"302.415\" cy=\"906.56\" r=\"14\" fill=\"#009af9\" fill-rule=\"evenodd\" fill-opacity=\"1\" stroke=\"#000000\" stroke-opacity=\"1\" stroke-width=\"3.2\"/>\n<circle clip-path=\"url(#clip862)\" cx=\"344.69\" cy=\"1139.17\" r=\"14\" fill=\"#009af9\" fill-rule=\"evenodd\" fill-opacity=\"1\" stroke=\"#000000\" stroke-opacity=\"1\" stroke-width=\"3.2\"/>\n<circle clip-path=\"url(#clip862)\" cx=\"386.965\" cy=\"1270.34\" r=\"14\" fill=\"#009af9\" fill-rule=\"evenodd\" fill-opacity=\"1\" stroke=\"#000000\" stroke-opacity=\"1\" stroke-width=\"3.2\"/>\n<circle clip-path=\"url(#clip862)\" cx=\"429.24\" cy=\"1331.71\" r=\"14\" fill=\"#009af9\" fill-rule=\"evenodd\" fill-opacity=\"1\" stroke=\"#000000\" stroke-opacity=\"1\" stroke-width=\"3.2\"/>\n<circle clip-path=\"url(#clip862)\" cx=\"471.515\" cy=\"1445.72\" r=\"14\" fill=\"#009af9\" fill-rule=\"evenodd\" fill-opacity=\"1\" stroke=\"#000000\" stroke-opacity=\"1\" stroke-width=\"3.2\"/>\n<circle clip-path=\"url(#clip862)\" cx=\"513.79\" cy=\"1299.99\" r=\"14\" fill=\"#009af9\" fill-rule=\"evenodd\" fill-opacity=\"1\" stroke=\"#000000\" stroke-opacity=\"1\" stroke-width=\"3.2\"/>\n<circle clip-path=\"url(#clip862)\" cx=\"556.065\" cy=\"1334.37\" r=\"14\" fill=\"#009af9\" fill-rule=\"evenodd\" fill-opacity=\"1\" stroke=\"#000000\" stroke-opacity=\"1\" stroke-width=\"3.2\"/>\n<circle clip-path=\"url(#clip862)\" cx=\"598.34\" cy=\"1435.65\" r=\"14\" fill=\"#009af9\" fill-rule=\"evenodd\" fill-opacity=\"1\" stroke=\"#000000\" stroke-opacity=\"1\" stroke-width=\"3.2\"/>\n<circle clip-path=\"url(#clip862)\" cx=\"640.616\" cy=\"1420.23\" r=\"14\" fill=\"#009af9\" fill-rule=\"evenodd\" fill-opacity=\"1\" stroke=\"#000000\" stroke-opacity=\"1\" stroke-width=\"3.2\"/>\n<circle clip-path=\"url(#clip862)\" cx=\"682.891\" cy=\"1396.88\" r=\"14\" fill=\"#009af9\" fill-rule=\"evenodd\" fill-opacity=\"1\" stroke=\"#000000\" stroke-opacity=\"1\" stroke-width=\"3.2\"/>\n<circle clip-path=\"url(#clip862)\" cx=\"725.166\" cy=\"1424.04\" r=\"14\" fill=\"#009af9\" fill-rule=\"evenodd\" fill-opacity=\"1\" stroke=\"#000000\" stroke-opacity=\"1\" stroke-width=\"3.2\"/>\n<circle clip-path=\"url(#clip862)\" cx=\"767.441\" cy=\"1409.09\" r=\"14\" fill=\"#009af9\" fill-rule=\"evenodd\" fill-opacity=\"1\" stroke=\"#000000\" stroke-opacity=\"1\" stroke-width=\"3.2\"/>\n<circle clip-path=\"url(#clip862)\" cx=\"809.716\" cy=\"1322.11\" r=\"14\" fill=\"#009af9\" fill-rule=\"evenodd\" fill-opacity=\"1\" stroke=\"#000000\" stroke-opacity=\"1\" stroke-width=\"3.2\"/>\n<circle clip-path=\"url(#clip862)\" cx=\"851.991\" cy=\"1102.62\" r=\"14\" fill=\"#009af9\" fill-rule=\"evenodd\" fill-opacity=\"1\" stroke=\"#000000\" stroke-opacity=\"1\" stroke-width=\"3.2\"/>\n<circle clip-path=\"url(#clip862)\" cx=\"894.266\" cy=\"1145.58\" r=\"14\" fill=\"#009af9\" fill-rule=\"evenodd\" fill-opacity=\"1\" stroke=\"#000000\" stroke-opacity=\"1\" stroke-width=\"3.2\"/>\n<circle clip-path=\"url(#clip862)\" cx=\"936.541\" cy=\"1295.99\" r=\"14\" fill=\"#009af9\" fill-rule=\"evenodd\" fill-opacity=\"1\" stroke=\"#000000\" stroke-opacity=\"1\" stroke-width=\"3.2\"/>\n<circle clip-path=\"url(#clip862)\" cx=\"978.816\" cy=\"1124.51\" r=\"14\" fill=\"#009af9\" fill-rule=\"evenodd\" fill-opacity=\"1\" stroke=\"#000000\" stroke-opacity=\"1\" stroke-width=\"3.2\"/>\n<circle clip-path=\"url(#clip862)\" cx=\"1021.09\" cy=\"952.106\" r=\"14\" fill=\"#009af9\" fill-rule=\"evenodd\" fill-opacity=\"1\" stroke=\"#000000\" stroke-opacity=\"1\" stroke-width=\"3.2\"/>\n<circle clip-path=\"url(#clip862)\" cx=\"1063.37\" cy=\"1041.13\" r=\"14\" fill=\"#009af9\" fill-rule=\"evenodd\" fill-opacity=\"1\" stroke=\"#000000\" stroke-opacity=\"1\" stroke-width=\"3.2\"/>\n<circle clip-path=\"url(#clip862)\" cx=\"1105.64\" cy=\"839.421\" r=\"14\" fill=\"#009af9\" fill-rule=\"evenodd\" fill-opacity=\"1\" stroke=\"#000000\" stroke-opacity=\"1\" stroke-width=\"3.2\"/>\n<circle clip-path=\"url(#clip862)\" cx=\"1147.92\" cy=\"1061.36\" r=\"14\" fill=\"#009af9\" fill-rule=\"evenodd\" fill-opacity=\"1\" stroke=\"#000000\" stroke-opacity=\"1\" stroke-width=\"3.2\"/>\n<circle clip-path=\"url(#clip862)\" cx=\"1190.19\" cy=\"759.556\" r=\"14\" fill=\"#009af9\" fill-rule=\"evenodd\" fill-opacity=\"1\" stroke=\"#000000\" stroke-opacity=\"1\" stroke-width=\"3.2\"/>\n<circle clip-path=\"url(#clip862)\" cx=\"1232.47\" cy=\"869.731\" r=\"14\" fill=\"#009af9\" fill-rule=\"evenodd\" fill-opacity=\"1\" stroke=\"#000000\" stroke-opacity=\"1\" stroke-width=\"3.2\"/>\n<circle clip-path=\"url(#clip862)\" cx=\"1274.74\" cy=\"920.526\" r=\"14\" fill=\"#009af9\" fill-rule=\"evenodd\" fill-opacity=\"1\" stroke=\"#000000\" stroke-opacity=\"1\" stroke-width=\"3.2\"/>\n<circle clip-path=\"url(#clip862)\" cx=\"1317.02\" cy=\"789.639\" r=\"14\" fill=\"#009af9\" fill-rule=\"evenodd\" fill-opacity=\"1\" stroke=\"#000000\" stroke-opacity=\"1\" stroke-width=\"3.2\"/>\n<circle clip-path=\"url(#clip862)\" cx=\"1359.29\" cy=\"888.199\" r=\"14\" fill=\"#009af9\" fill-rule=\"evenodd\" fill-opacity=\"1\" stroke=\"#000000\" stroke-opacity=\"1\" stroke-width=\"3.2\"/>\n<circle clip-path=\"url(#clip862)\" cx=\"1401.57\" cy=\"822.428\" r=\"14\" fill=\"#009af9\" fill-rule=\"evenodd\" fill-opacity=\"1\" stroke=\"#000000\" stroke-opacity=\"1\" stroke-width=\"3.2\"/>\n<circle clip-path=\"url(#clip862)\" cx=\"1443.84\" cy=\"856.847\" r=\"14\" fill=\"#009af9\" fill-rule=\"evenodd\" fill-opacity=\"1\" stroke=\"#000000\" stroke-opacity=\"1\" stroke-width=\"3.2\"/>\n<circle clip-path=\"url(#clip862)\" cx=\"1486.12\" cy=\"849.746\" r=\"14\" fill=\"#009af9\" fill-rule=\"evenodd\" fill-opacity=\"1\" stroke=\"#000000\" stroke-opacity=\"1\" stroke-width=\"3.2\"/>\n<circle clip-path=\"url(#clip862)\" cx=\"1528.39\" cy=\"810.475\" r=\"14\" fill=\"#009af9\" fill-rule=\"evenodd\" fill-opacity=\"1\" stroke=\"#000000\" stroke-opacity=\"1\" stroke-width=\"3.2\"/>\n<circle clip-path=\"url(#clip862)\" cx=\"1570.67\" cy=\"788.401\" r=\"14\" fill=\"#009af9\" fill-rule=\"evenodd\" fill-opacity=\"1\" stroke=\"#000000\" stroke-opacity=\"1\" stroke-width=\"3.2\"/>\n<circle clip-path=\"url(#clip862)\" cx=\"1612.94\" cy=\"874.705\" r=\"14\" fill=\"#009af9\" fill-rule=\"evenodd\" fill-opacity=\"1\" stroke=\"#000000\" stroke-opacity=\"1\" stroke-width=\"3.2\"/>\n<circle clip-path=\"url(#clip862)\" cx=\"1655.22\" cy=\"873.398\" r=\"14\" fill=\"#009af9\" fill-rule=\"evenodd\" fill-opacity=\"1\" stroke=\"#000000\" stroke-opacity=\"1\" stroke-width=\"3.2\"/>\n<circle clip-path=\"url(#clip862)\" cx=\"1697.49\" cy=\"922.482\" r=\"14\" fill=\"#009af9\" fill-rule=\"evenodd\" fill-opacity=\"1\" stroke=\"#000000\" stroke-opacity=\"1\" stroke-width=\"3.2\"/>\n<circle clip-path=\"url(#clip862)\" cx=\"1739.77\" cy=\"884.798\" r=\"14\" fill=\"#009af9\" fill-rule=\"evenodd\" fill-opacity=\"1\" stroke=\"#000000\" stroke-opacity=\"1\" stroke-width=\"3.2\"/>\n<circle clip-path=\"url(#clip862)\" cx=\"1782.04\" cy=\"888.185\" r=\"14\" fill=\"#009af9\" fill-rule=\"evenodd\" fill-opacity=\"1\" stroke=\"#000000\" stroke-opacity=\"1\" stroke-width=\"3.2\"/>\n<circle clip-path=\"url(#clip862)\" cx=\"1824.32\" cy=\"925.475\" r=\"14\" fill=\"#009af9\" fill-rule=\"evenodd\" fill-opacity=\"1\" stroke=\"#000000\" stroke-opacity=\"1\" stroke-width=\"3.2\"/>\n<circle clip-path=\"url(#clip862)\" cx=\"1866.59\" cy=\"1000.92\" r=\"14\" fill=\"#009af9\" fill-rule=\"evenodd\" fill-opacity=\"1\" stroke=\"#000000\" stroke-opacity=\"1\" stroke-width=\"3.2\"/>\n<circle clip-path=\"url(#clip862)\" cx=\"1908.87\" cy=\"973.994\" r=\"14\" fill=\"#009af9\" fill-rule=\"evenodd\" fill-opacity=\"1\" stroke=\"#000000\" stroke-opacity=\"1\" stroke-width=\"3.2\"/>\n<circle clip-path=\"url(#clip862)\" cx=\"1951.14\" cy=\"858.774\" r=\"14\" fill=\"#009af9\" fill-rule=\"evenodd\" fill-opacity=\"1\" stroke=\"#000000\" stroke-opacity=\"1\" stroke-width=\"3.2\"/>\n<circle clip-path=\"url(#clip862)\" cx=\"1993.42\" cy=\"773.758\" r=\"14\" fill=\"#009af9\" fill-rule=\"evenodd\" fill-opacity=\"1\" stroke=\"#000000\" stroke-opacity=\"1\" stroke-width=\"3.2\"/>\n<circle clip-path=\"url(#clip862)\" cx=\"2035.69\" cy=\"674.115\" r=\"14\" fill=\"#009af9\" fill-rule=\"evenodd\" fill-opacity=\"1\" stroke=\"#000000\" stroke-opacity=\"1\" stroke-width=\"3.2\"/>\n<circle clip-path=\"url(#clip862)\" cx=\"2077.97\" cy=\"640.814\" r=\"14\" fill=\"#009af9\" fill-rule=\"evenodd\" fill-opacity=\"1\" stroke=\"#000000\" stroke-opacity=\"1\" stroke-width=\"3.2\"/>\n<circle clip-path=\"url(#clip862)\" cx=\"2120.24\" cy=\"696.109\" r=\"14\" fill=\"#009af9\" fill-rule=\"evenodd\" fill-opacity=\"1\" stroke=\"#000000\" stroke-opacity=\"1\" stroke-width=\"3.2\"/>\n<circle clip-path=\"url(#clip862)\" cx=\"2162.52\" cy=\"581.578\" r=\"14\" fill=\"#009af9\" fill-rule=\"evenodd\" fill-opacity=\"1\" stroke=\"#000000\" stroke-opacity=\"1\" stroke-width=\"3.2\"/>\n<circle clip-path=\"url(#clip862)\" cx=\"2204.79\" cy=\"531.503\" r=\"14\" fill=\"#009af9\" fill-rule=\"evenodd\" fill-opacity=\"1\" stroke=\"#000000\" stroke-opacity=\"1\" stroke-width=\"3.2\"/>\n<circle clip-path=\"url(#clip862)\" cx=\"2247.07\" cy=\"369.335\" r=\"14\" fill=\"#009af9\" fill-rule=\"evenodd\" fill-opacity=\"1\" stroke=\"#000000\" stroke-opacity=\"1\" stroke-width=\"3.2\"/>\n<circle clip-path=\"url(#clip862)\" cx=\"2289.34\" cy=\"144.353\" r=\"14\" fill=\"#009af9\" fill-rule=\"evenodd\" fill-opacity=\"1\" stroke=\"#000000\" stroke-opacity=\"1\" stroke-width=\"3.2\"/>\n<path clip-path=\"url(#clip860)\" d=\"\nM1985.64 198.898 L2278.07 198.898 L2278.07 95.2176 L1985.64 95.2176  Z\n  \" fill=\"#ffffff\" fill-rule=\"evenodd\" fill-opacity=\"1\"/>\n<polyline clip-path=\"url(#clip860)\" style=\"stroke:#000000; stroke-linecap:butt; stroke-linejoin:round; stroke-width:4; stroke-opacity:1; fill:none\" points=\"\n  1985.64,198.898 2278.07,198.898 2278.07,95.2176 1985.64,95.2176 1985.64,198.898 \n  \"/>\n<circle clip-path=\"url(#clip860)\" cx=\"2081.64\" cy=\"147.058\" r=\"23\" fill=\"#009af9\" fill-rule=\"evenodd\" fill-opacity=\"1\" stroke=\"#000000\" stroke-opacity=\"1\" stroke-width=\"5.12\"/>\n<path clip-path=\"url(#clip860)\" d=\"M2191.48 166.745 Q2189.68 171.375 2187.96 172.787 Q2186.25 174.199 2183.38 174.199 L2179.98 174.199 L2179.98 170.634 L2182.48 170.634 Q2184.24 170.634 2185.21 169.8 Q2186.18 168.967 2187.36 165.865 L2188.13 163.921 L2177.64 138.412 L2182.15 138.412 L2190.26 158.689 L2198.36 138.412 L2202.87 138.412 L2191.48 166.745 Z\" fill=\"#000000\" fill-rule=\"evenodd\" fill-opacity=\"1\" /><path clip-path=\"url(#clip860)\" d=\"M2210.16 160.402 L2217.8 160.402 L2217.8 134.037 L2209.49 135.703 L2209.49 131.444 L2217.76 129.778 L2222.43 129.778 L2222.43 160.402 L2230.07 160.402 L2230.07 164.338 L2210.16 164.338 L2210.16 160.402 Z\" fill=\"#000000\" fill-rule=\"evenodd\" fill-opacity=\"1\" /></svg>\n"
     },
     "execution_count": 28,
     "metadata": {},
     "output_type": "execute_result"
    }
   ],
   "source": [
    "xs = -2:0.1:3\n",
    "\n",
    "f(x) = 0.3x^4 - 0.8x^3 - 0.6x^2 + 2.4x + 1 + 0.4 * randn(1)[1]\n",
    "\n",
    "ys = f.(xs)\n",
    "\n",
    "gr() # 描画用に GR backend(https://gr-framework.org/) をロードする\n",
    "scatter!(xs, ys)"
   ]
  },
  {
   "cell_type": "markdown",
   "id": "722a20d1",
   "metadata": {
    "slideshow": {
     "slide_type": "subslide"
    }
   },
   "source": [
    "#### 誤差関数\n",
    "\n",
    "$\\bf{w}$ を係数のパラメータ$[w_0, w_1, w_2, w_3, w_4]^\\text{T}$, $\\bf{\\textit{x}}$ を $[1.0, x, x^2, x^3, x^4]^\\text{T}$ として誤差関数を次のように定義する\n",
    "\n",
    "$$\n",
    "    E(\\bf{w}) = \\frac{1}{2N^2}\\sum_n^N {(\\it{y}_n-\\bf{w}\\bf{\\textit{x}}_n)^2}\n",
    "$$"
   ]
  },
  {
   "cell_type": "code",
   "execution_count": 29,
   "id": "080a0412",
   "metadata": {},
   "outputs": [
    {
     "data": {
      "text/plain": [
       "E (generic function with 1 method)"
      ]
     },
     "execution_count": 29,
     "metadata": {},
     "output_type": "execute_result"
    }
   ],
   "source": [
    "𝒙(x) = [1.0, x, x^2, x^3, x^4]\n",
    "𝐰₀= [1.3, 2.2, -0.3, -0.5, 0.1]\n",
    "\n",
    "E(𝐰) = sum([(ys[n] - 𝐰'*𝒙(xs[n]))^2.0 for n in 1:length(xs)])  / (2*length(xs)^2)"
   ]
  },
  {
   "cell_type": "markdown",
   "id": "fad8e8bb",
   "metadata": {
    "slideshow": {
     "slide_type": "subslide"
    }
   },
   "source": [
    "#### 勾配降下法\n",
    "\n",
    "勾配降下法によればパラメータは次の計算で更新される\n",
    "\n",
    "$$\n",
    "\\bf{w}^{(\\tau+1)} = \\bf{w}^{(\\tau)} - \\eta\\nabla E(\\bf{w})\n",
    "$$"
   ]
  },
  {
   "cell_type": "code",
   "execution_count": 30,
   "id": "5a67a21b",
   "metadata": {},
   "outputs": [
    {
     "data": {
      "text/plain": [
       "gradient_method (generic function with 1 method)"
      ]
     },
     "execution_count": 30,
     "metadata": {},
     "output_type": "execute_result"
    }
   ],
   "source": [
    "using ForwardDiff\n",
    "\n",
    "function gradient_method(E, 𝐰ᵢ, η, maxiter)\n",
    "    # 勾配\n",
    "    ∇E(𝐰) = ForwardDiff.gradient(E, 𝐰)\n",
    "    for _ in 2:maxiter\n",
    "        𝐰ᵢ = 𝐰ᵢ - η*∇E(𝐰ᵢ)\n",
    "    end\n",
    "    𝐰ᵢ\n",
    "end     "
   ]
  },
  {
   "cell_type": "markdown",
   "id": "d01d9866",
   "metadata": {
    "slideshow": {
     "slide_type": "subslide"
    }
   },
   "source": [
    "#### 学習結果\n",
    "\n",
    "パラメータを更新した結果と、その結果を使ったグラフをみてみる"
   ]
  },
  {
   "cell_type": "code",
   "execution_count": 31,
   "id": "262b1a0b",
   "metadata": {},
   "outputs": [
    {
     "data": {
      "text/plain": [
       "5-element Vector{Float64}:\n",
       "  1.050497415544456\n",
       "  2.228621631658515\n",
       " -0.5670261400977035\n",
       " -0.7596818928024994\n",
       "  0.2878676487829104"
      ]
     },
     "execution_count": 31,
     "metadata": {},
     "output_type": "execute_result"
    }
   ],
   "source": [
    "𝐰_out = gradient_method(E, 𝐰₀, 0.1, 10000)"
   ]
  },
  {
   "cell_type": "code",
   "execution_count": 32,
   "id": "95b7c43e",
   "metadata": {},
   "outputs": [
    {
     "data": {
      "image/svg+xml": "<?xml version=\"1.0\" encoding=\"utf-8\"?>\n<svg xmlns=\"http://www.w3.org/2000/svg\" xmlns:xlink=\"http://www.w3.org/1999/xlink\" width=\"600\" height=\"400\" viewBox=\"0 0 2400 1600\">\n<defs>\n  <clipPath id=\"clip900\">\n    <rect x=\"0\" y=\"0\" width=\"2400\" height=\"1600\"/>\n  </clipPath>\n</defs>\n<path clip-path=\"url(#clip900)\" d=\"\nM0 1600 L2400 1600 L2400 0 L0 0  Z\n  \" fill=\"#ffffff\" fill-rule=\"evenodd\" fill-opacity=\"1\"/>\n<defs>\n  <clipPath id=\"clip901\">\n    <rect x=\"480\" y=\"0\" width=\"1681\" height=\"1600\"/>\n  </clipPath>\n</defs>\n<path clip-path=\"url(#clip900)\" d=\"\nM112.177 1486.45 L2352.76 1486.45 L2352.76 47.2441 L112.177 47.2441  Z\n  \" fill=\"#ffffff\" fill-rule=\"evenodd\" fill-opacity=\"1\"/>\n<defs>\n  <clipPath id=\"clip902\">\n    <rect x=\"112\" y=\"47\" width=\"2242\" height=\"1440\"/>\n  </clipPath>\n</defs>\n<polyline clip-path=\"url(#clip902)\" style=\"stroke:#000000; stroke-linecap:butt; stroke-linejoin:round; stroke-width:2; stroke-opacity:0.1; fill:none\" points=\"\n  175.59,1486.45 175.59,47.2441 \n  \"/>\n<polyline clip-path=\"url(#clip902)\" style=\"stroke:#000000; stroke-linecap:butt; stroke-linejoin:round; stroke-width:2; stroke-opacity:0.1; fill:none\" points=\"\n  598.34,1486.45 598.34,47.2441 \n  \"/>\n<polyline clip-path=\"url(#clip902)\" style=\"stroke:#000000; stroke-linecap:butt; stroke-linejoin:round; stroke-width:2; stroke-opacity:0.1; fill:none\" points=\"\n  1021.09,1486.45 1021.09,47.2441 \n  \"/>\n<polyline clip-path=\"url(#clip902)\" style=\"stroke:#000000; stroke-linecap:butt; stroke-linejoin:round; stroke-width:2; stroke-opacity:0.1; fill:none\" points=\"\n  1443.84,1486.45 1443.84,47.2441 \n  \"/>\n<polyline clip-path=\"url(#clip902)\" style=\"stroke:#000000; stroke-linecap:butt; stroke-linejoin:round; stroke-width:2; stroke-opacity:0.1; fill:none\" points=\"\n  1866.59,1486.45 1866.59,47.2441 \n  \"/>\n<polyline clip-path=\"url(#clip902)\" style=\"stroke:#000000; stroke-linecap:butt; stroke-linejoin:round; stroke-width:2; stroke-opacity:0.1; fill:none\" points=\"\n  2289.34,1486.45 2289.34,47.2441 \n  \"/>\n<polyline clip-path=\"url(#clip900)\" style=\"stroke:#000000; stroke-linecap:butt; stroke-linejoin:round; stroke-width:4; stroke-opacity:1; fill:none\" points=\"\n  112.177,1486.45 2352.76,1486.45 \n  \"/>\n<polyline clip-path=\"url(#clip900)\" style=\"stroke:#000000; stroke-linecap:butt; stroke-linejoin:round; stroke-width:4; stroke-opacity:1; fill:none\" points=\"\n  175.59,1486.45 175.59,1467.55 \n  \"/>\n<polyline clip-path=\"url(#clip900)\" style=\"stroke:#000000; stroke-linecap:butt; stroke-linejoin:round; stroke-width:4; stroke-opacity:1; fill:none\" points=\"\n  598.34,1486.45 598.34,1467.55 \n  \"/>\n<polyline clip-path=\"url(#clip900)\" style=\"stroke:#000000; stroke-linecap:butt; stroke-linejoin:round; stroke-width:4; stroke-opacity:1; fill:none\" points=\"\n  1021.09,1486.45 1021.09,1467.55 \n  \"/>\n<polyline clip-path=\"url(#clip900)\" style=\"stroke:#000000; stroke-linecap:butt; stroke-linejoin:round; stroke-width:4; stroke-opacity:1; fill:none\" points=\"\n  1443.84,1486.45 1443.84,1467.55 \n  \"/>\n<polyline clip-path=\"url(#clip900)\" style=\"stroke:#000000; stroke-linecap:butt; stroke-linejoin:round; stroke-width:4; stroke-opacity:1; fill:none\" points=\"\n  1866.59,1486.45 1866.59,1467.55 \n  \"/>\n<polyline clip-path=\"url(#clip900)\" style=\"stroke:#000000; stroke-linecap:butt; stroke-linejoin:round; stroke-width:4; stroke-opacity:1; fill:none\" points=\"\n  2289.34,1486.45 2289.34,1467.55 \n  \"/>\n<path clip-path=\"url(#clip900)\" d=\"M145.532 1532.02 L175.208 1532.02 L175.208 1535.95 L145.532 1535.95 L145.532 1532.02 Z\" fill=\"#000000\" fill-rule=\"evenodd\" fill-opacity=\"1\" /><path clip-path=\"url(#clip900)\" d=\"M189.328 1544.91 L205.647 1544.91 L205.647 1548.85 L183.703 1548.85 L183.703 1544.91 Q186.365 1542.16 190.948 1537.53 Q195.555 1532.88 196.736 1531.53 Q198.981 1529.01 199.86 1527.27 Q200.763 1525.51 200.763 1523.82 Q200.763 1521.07 198.819 1519.33 Q196.898 1517.6 193.796 1517.6 Q191.597 1517.6 189.143 1518.36 Q186.712 1519.13 183.935 1520.68 L183.935 1515.95 Q186.759 1514.82 189.212 1514.24 Q191.666 1513.66 193.703 1513.66 Q199.073 1513.66 202.268 1516.35 Q205.462 1519.03 205.462 1523.52 Q205.462 1525.65 204.652 1527.57 Q203.865 1529.47 201.759 1532.07 Q201.18 1532.74 198.078 1535.95 Q194.976 1539.15 189.328 1544.91 Z\" fill=\"#000000\" fill-rule=\"evenodd\" fill-opacity=\"1\" /><path clip-path=\"url(#clip900)\" d=\"M568.098 1532.02 L597.773 1532.02 L597.773 1535.95 L568.098 1535.95 L568.098 1532.02 Z\" fill=\"#000000\" fill-rule=\"evenodd\" fill-opacity=\"1\" /><path clip-path=\"url(#clip900)\" d=\"M608.676 1544.91 L616.315 1544.91 L616.315 1518.55 L608.005 1520.21 L608.005 1515.95 L616.269 1514.29 L620.945 1514.29 L620.945 1544.91 L628.583 1544.91 L628.583 1548.85 L608.676 1548.85 L608.676 1544.91 Z\" fill=\"#000000\" fill-rule=\"evenodd\" fill-opacity=\"1\" /><path clip-path=\"url(#clip900)\" d=\"M1021.09 1517.37 Q1017.48 1517.37 1015.65 1520.93 Q1013.85 1524.47 1013.85 1531.6 Q1013.85 1538.71 1015.65 1542.27 Q1017.48 1545.82 1021.09 1545.82 Q1024.73 1545.82 1026.53 1542.27 Q1028.36 1538.71 1028.36 1531.6 Q1028.36 1524.47 1026.53 1520.93 Q1024.73 1517.37 1021.09 1517.37 M1021.09 1513.66 Q1026.9 1513.66 1029.96 1518.27 Q1033.04 1522.85 1033.04 1531.6 Q1033.04 1540.33 1029.96 1544.94 Q1026.9 1549.52 1021.09 1549.52 Q1015.28 1549.52 1012.2 1544.94 Q1009.15 1540.33 1009.15 1531.6 Q1009.15 1522.85 1012.2 1518.27 Q1015.28 1513.66 1021.09 1513.66 Z\" fill=\"#000000\" fill-rule=\"evenodd\" fill-opacity=\"1\" /><path clip-path=\"url(#clip900)\" d=\"M1434.22 1544.91 L1441.86 1544.91 L1441.86 1518.55 L1433.55 1520.21 L1433.55 1515.95 L1441.82 1514.29 L1446.49 1514.29 L1446.49 1544.91 L1454.13 1544.91 L1454.13 1548.85 L1434.22 1548.85 L1434.22 1544.91 Z\" fill=\"#000000\" fill-rule=\"evenodd\" fill-opacity=\"1\" /><path clip-path=\"url(#clip900)\" d=\"M1861.25 1544.91 L1877.56 1544.91 L1877.56 1548.85 L1855.62 1548.85 L1855.62 1544.91 Q1858.28 1542.16 1862.87 1537.53 Q1867.47 1532.88 1868.65 1531.53 Q1870.9 1529.01 1871.78 1527.27 Q1872.68 1525.51 1872.68 1523.82 Q1872.68 1521.07 1870.74 1519.33 Q1868.81 1517.6 1865.71 1517.6 Q1863.51 1517.6 1861.06 1518.36 Q1858.63 1519.13 1855.85 1520.68 L1855.85 1515.95 Q1858.68 1514.82 1861.13 1514.24 Q1863.58 1513.66 1865.62 1513.66 Q1870.99 1513.66 1874.19 1516.35 Q1877.38 1519.03 1877.38 1523.52 Q1877.38 1525.65 1876.57 1527.57 Q1875.78 1529.47 1873.68 1532.07 Q1873.1 1532.74 1870 1535.95 Q1866.89 1539.15 1861.25 1544.91 Z\" fill=\"#000000\" fill-rule=\"evenodd\" fill-opacity=\"1\" /><path clip-path=\"url(#clip900)\" d=\"M2293.59 1530.21 Q2296.95 1530.93 2298.82 1533.2 Q2300.72 1535.47 2300.72 1538.8 Q2300.72 1543.92 2297.2 1546.72 Q2293.68 1549.52 2287.2 1549.52 Q2285.03 1549.52 2282.71 1549.08 Q2280.42 1548.66 2277.97 1547.81 L2277.97 1543.29 Q2279.91 1544.43 2282.23 1545.01 Q2284.54 1545.58 2287.06 1545.58 Q2291.46 1545.58 2293.75 1543.85 Q2296.07 1542.11 2296.07 1538.8 Q2296.07 1535.75 2293.92 1534.03 Q2291.79 1532.3 2287.97 1532.3 L2283.94 1532.3 L2283.94 1528.45 L2288.15 1528.45 Q2291.6 1528.45 2293.43 1527.09 Q2295.26 1525.7 2295.26 1523.11 Q2295.26 1520.45 2293.36 1519.03 Q2291.48 1517.6 2287.97 1517.6 Q2286.04 1517.6 2283.85 1518.01 Q2281.65 1518.43 2279.01 1519.31 L2279.01 1515.14 Q2281.67 1514.4 2283.98 1514.03 Q2286.32 1513.66 2288.38 1513.66 Q2293.71 1513.66 2296.81 1516.09 Q2299.91 1518.5 2299.91 1522.62 Q2299.91 1525.49 2298.27 1527.48 Q2296.62 1529.45 2293.59 1530.21 Z\" fill=\"#000000\" fill-rule=\"evenodd\" fill-opacity=\"1\" /><polyline clip-path=\"url(#clip902)\" style=\"stroke:#000000; stroke-linecap:butt; stroke-linejoin:round; stroke-width:2; stroke-opacity:0.1; fill:none\" points=\"\n  112.177,1286.31 2352.76,1286.31 \n  \"/>\n<polyline clip-path=\"url(#clip902)\" style=\"stroke:#000000; stroke-linecap:butt; stroke-linejoin:round; stroke-width:2; stroke-opacity:0.1; fill:none\" points=\"\n  112.177,1073.17 2352.76,1073.17 \n  \"/>\n<polyline clip-path=\"url(#clip902)\" style=\"stroke:#000000; stroke-linecap:butt; stroke-linejoin:round; stroke-width:2; stroke-opacity:0.1; fill:none\" points=\"\n  112.177,860.016 2352.76,860.016 \n  \"/>\n<polyline clip-path=\"url(#clip902)\" style=\"stroke:#000000; stroke-linecap:butt; stroke-linejoin:round; stroke-width:2; stroke-opacity:0.1; fill:none\" points=\"\n  112.177,646.867 2352.76,646.867 \n  \"/>\n<polyline clip-path=\"url(#clip902)\" style=\"stroke:#000000; stroke-linecap:butt; stroke-linejoin:round; stroke-width:2; stroke-opacity:0.1; fill:none\" points=\"\n  112.177,433.718 2352.76,433.718 \n  \"/>\n<polyline clip-path=\"url(#clip902)\" style=\"stroke:#000000; stroke-linecap:butt; stroke-linejoin:round; stroke-width:2; stroke-opacity:0.1; fill:none\" points=\"\n  112.177,220.569 2352.76,220.569 \n  \"/>\n<polyline clip-path=\"url(#clip900)\" style=\"stroke:#000000; stroke-linecap:butt; stroke-linejoin:round; stroke-width:4; stroke-opacity:1; fill:none\" points=\"\n  112.177,1486.45 112.177,47.2441 \n  \"/>\n<polyline clip-path=\"url(#clip900)\" style=\"stroke:#000000; stroke-linecap:butt; stroke-linejoin:round; stroke-width:4; stroke-opacity:1; fill:none\" points=\"\n  112.177,1286.31 131.075,1286.31 \n  \"/>\n<polyline clip-path=\"url(#clip900)\" style=\"stroke:#000000; stroke-linecap:butt; stroke-linejoin:round; stroke-width:4; stroke-opacity:1; fill:none\" points=\"\n  112.177,1073.17 131.075,1073.17 \n  \"/>\n<polyline clip-path=\"url(#clip900)\" style=\"stroke:#000000; stroke-linecap:butt; stroke-linejoin:round; stroke-width:4; stroke-opacity:1; fill:none\" points=\"\n  112.177,860.016 131.075,860.016 \n  \"/>\n<polyline clip-path=\"url(#clip900)\" style=\"stroke:#000000; stroke-linecap:butt; stroke-linejoin:round; stroke-width:4; stroke-opacity:1; fill:none\" points=\"\n  112.177,646.867 131.075,646.867 \n  \"/>\n<polyline clip-path=\"url(#clip900)\" style=\"stroke:#000000; stroke-linecap:butt; stroke-linejoin:round; stroke-width:4; stroke-opacity:1; fill:none\" points=\"\n  112.177,433.718 131.075,433.718 \n  \"/>\n<polyline clip-path=\"url(#clip900)\" style=\"stroke:#000000; stroke-linecap:butt; stroke-linejoin:round; stroke-width:4; stroke-opacity:1; fill:none\" points=\"\n  112.177,220.569 131.075,220.569 \n  \"/>\n<path clip-path=\"url(#clip900)\" d=\"M64.2328 1272.11 Q60.6217 1272.11 58.793 1275.68 Q56.9875 1279.22 56.9875 1286.35 Q56.9875 1293.46 58.793 1297.02 Q60.6217 1300.56 64.2328 1300.56 Q67.867 1300.56 69.6726 1297.02 Q71.5013 1293.46 71.5013 1286.35 Q71.5013 1279.22 69.6726 1275.68 Q67.867 1272.11 64.2328 1272.11 M64.2328 1268.41 Q70.0429 1268.41 73.0985 1273.02 Q76.1772 1277.6 76.1772 1286.35 Q76.1772 1295.08 73.0985 1299.68 Q70.0429 1304.27 64.2328 1304.27 Q58.4226 1304.27 55.344 1299.68 Q52.2884 1295.08 52.2884 1286.35 Q52.2884 1277.6 55.344 1273.02 Q58.4226 1268.41 64.2328 1268.41 Z\" fill=\"#000000\" fill-rule=\"evenodd\" fill-opacity=\"1\" /><path clip-path=\"url(#clip900)\" d=\"M56.2699 1086.51 L63.9087 1086.51 L63.9087 1060.14 L55.5986 1061.81 L55.5986 1057.55 L63.8624 1055.89 L68.5383 1055.89 L68.5383 1086.51 L76.1772 1086.51 L76.1772 1090.45 L56.2699 1090.45 L56.2699 1086.51 Z\" fill=\"#000000\" fill-rule=\"evenodd\" fill-opacity=\"1\" /><path clip-path=\"url(#clip900)\" d=\"M59.8578 873.361 L76.1772 873.361 L76.1772 877.296 L54.2328 877.296 L54.2328 873.361 Q56.8949 870.607 61.4782 865.977 Q66.0846 861.324 67.2652 859.982 Q69.5105 857.458 70.3902 855.722 Q71.2929 853.963 71.2929 852.273 Q71.2929 849.519 69.3485 847.783 Q67.4272 846.046 64.3254 846.046 Q62.1263 846.046 59.6726 846.81 Q57.2421 847.574 54.4643 849.125 L54.4643 844.403 Q57.2884 843.269 59.7421 842.69 Q62.1958 842.111 64.2328 842.111 Q69.6031 842.111 72.7976 844.796 Q75.992 847.482 75.992 851.972 Q75.992 854.102 75.1818 856.023 Q74.3948 857.921 72.2883 860.514 Q71.7096 861.185 68.6078 864.403 Q65.5059 867.597 59.8578 873.361 Z\" fill=\"#000000\" fill-rule=\"evenodd\" fill-opacity=\"1\" /><path clip-path=\"url(#clip900)\" d=\"M69.0476 645.513 Q72.404 646.231 74.279 648.499 Q76.1772 650.768 76.1772 654.101 Q76.1772 659.217 72.6587 662.018 Q69.1402 664.818 62.6587 664.818 Q60.4828 664.818 58.168 664.379 Q55.8764 663.962 53.4227 663.106 L53.4227 658.592 Q55.3671 659.726 57.6819 660.305 Q59.9967 660.883 62.5198 660.883 Q66.918 660.883 69.2096 659.147 Q71.5244 657.411 71.5244 654.101 Q71.5244 651.045 69.3717 649.332 Q67.242 647.596 63.4226 647.596 L59.3949 647.596 L59.3949 643.754 L63.6078 643.754 Q67.0569 643.754 68.8855 642.388 Q70.7142 640.999 70.7142 638.407 Q70.7142 635.745 68.8161 634.333 Q66.9411 632.897 63.4226 632.897 Q61.5013 632.897 59.3023 633.314 Q57.1032 633.731 54.4643 634.61 L54.4643 630.444 Q57.1264 629.703 59.4412 629.333 Q61.7791 628.962 63.8393 628.962 Q69.1633 628.962 72.2652 631.393 Q75.367 633.8 75.367 637.92 Q75.367 640.791 73.7235 642.782 Q72.08 644.749 69.0476 645.513 Z\" fill=\"#000000\" fill-rule=\"evenodd\" fill-opacity=\"1\" /><path clip-path=\"url(#clip900)\" d=\"M66.5939 420.512 L54.7884 438.961 L66.5939 438.961 L66.5939 420.512 M65.367 416.438 L71.2466 416.438 L71.2466 438.961 L76.1772 438.961 L76.1772 442.85 L71.2466 442.85 L71.2466 450.998 L66.5939 450.998 L66.5939 442.85 L50.9921 442.85 L50.9921 438.336 L65.367 416.438 Z\" fill=\"#000000\" fill-rule=\"evenodd\" fill-opacity=\"1\" /><path clip-path=\"url(#clip900)\" d=\"M55.2745 203.289 L73.6309 203.289 L73.6309 207.224 L59.5569 207.224 L59.5569 215.696 Q60.5754 215.349 61.5939 215.187 Q62.6124 215.002 63.6309 215.002 Q69.418 215.002 72.7976 218.173 Q76.1772 221.344 76.1772 226.761 Q76.1772 232.34 72.705 235.442 Q69.2328 238.52 62.9134 238.52 Q60.7374 238.52 58.4689 238.15 Q56.2236 237.78 53.8162 237.039 L53.8162 232.34 Q55.8995 233.474 58.1217 234.03 Q60.3439 234.585 62.8208 234.585 Q66.8254 234.585 69.1633 232.479 Q71.5013 230.372 71.5013 226.761 Q71.5013 223.15 69.1633 221.043 Q66.8254 218.937 62.8208 218.937 Q60.9458 218.937 59.0708 219.354 Q57.2189 219.77 55.2745 220.65 L55.2745 203.289 Z\" fill=\"#000000\" fill-rule=\"evenodd\" fill-opacity=\"1\" /><circle clip-path=\"url(#clip902)\" cx=\"175.59\" cy=\"87.9763\" r=\"14\" fill=\"#009af9\" fill-rule=\"evenodd\" fill-opacity=\"1\" stroke=\"#000000\" stroke-opacity=\"1\" stroke-width=\"3.2\"/>\n<circle clip-path=\"url(#clip902)\" cx=\"217.865\" cy=\"446.819\" r=\"14\" fill=\"#009af9\" fill-rule=\"evenodd\" fill-opacity=\"1\" stroke=\"#000000\" stroke-opacity=\"1\" stroke-width=\"3.2\"/>\n<circle clip-path=\"url(#clip902)\" cx=\"260.14\" cy=\"835.836\" r=\"14\" fill=\"#009af9\" fill-rule=\"evenodd\" fill-opacity=\"1\" stroke=\"#000000\" stroke-opacity=\"1\" stroke-width=\"3.2\"/>\n<circle clip-path=\"url(#clip902)\" cx=\"302.415\" cy=\"906.56\" r=\"14\" fill=\"#009af9\" fill-rule=\"evenodd\" fill-opacity=\"1\" stroke=\"#000000\" stroke-opacity=\"1\" stroke-width=\"3.2\"/>\n<circle clip-path=\"url(#clip902)\" cx=\"344.69\" cy=\"1139.17\" r=\"14\" fill=\"#009af9\" fill-rule=\"evenodd\" fill-opacity=\"1\" stroke=\"#000000\" stroke-opacity=\"1\" stroke-width=\"3.2\"/>\n<circle clip-path=\"url(#clip902)\" cx=\"386.965\" cy=\"1270.34\" r=\"14\" fill=\"#009af9\" fill-rule=\"evenodd\" fill-opacity=\"1\" stroke=\"#000000\" stroke-opacity=\"1\" stroke-width=\"3.2\"/>\n<circle clip-path=\"url(#clip902)\" cx=\"429.24\" cy=\"1331.71\" r=\"14\" fill=\"#009af9\" fill-rule=\"evenodd\" fill-opacity=\"1\" stroke=\"#000000\" stroke-opacity=\"1\" stroke-width=\"3.2\"/>\n<circle clip-path=\"url(#clip902)\" cx=\"471.515\" cy=\"1445.72\" r=\"14\" fill=\"#009af9\" fill-rule=\"evenodd\" fill-opacity=\"1\" stroke=\"#000000\" stroke-opacity=\"1\" stroke-width=\"3.2\"/>\n<circle clip-path=\"url(#clip902)\" cx=\"513.79\" cy=\"1299.99\" r=\"14\" fill=\"#009af9\" fill-rule=\"evenodd\" fill-opacity=\"1\" stroke=\"#000000\" stroke-opacity=\"1\" stroke-width=\"3.2\"/>\n<circle clip-path=\"url(#clip902)\" cx=\"556.065\" cy=\"1334.37\" r=\"14\" fill=\"#009af9\" fill-rule=\"evenodd\" fill-opacity=\"1\" stroke=\"#000000\" stroke-opacity=\"1\" stroke-width=\"3.2\"/>\n<circle clip-path=\"url(#clip902)\" cx=\"598.34\" cy=\"1435.65\" r=\"14\" fill=\"#009af9\" fill-rule=\"evenodd\" fill-opacity=\"1\" stroke=\"#000000\" stroke-opacity=\"1\" stroke-width=\"3.2\"/>\n<circle clip-path=\"url(#clip902)\" cx=\"640.616\" cy=\"1420.23\" r=\"14\" fill=\"#009af9\" fill-rule=\"evenodd\" fill-opacity=\"1\" stroke=\"#000000\" stroke-opacity=\"1\" stroke-width=\"3.2\"/>\n<circle clip-path=\"url(#clip902)\" cx=\"682.891\" cy=\"1396.88\" r=\"14\" fill=\"#009af9\" fill-rule=\"evenodd\" fill-opacity=\"1\" stroke=\"#000000\" stroke-opacity=\"1\" stroke-width=\"3.2\"/>\n<circle clip-path=\"url(#clip902)\" cx=\"725.166\" cy=\"1424.04\" r=\"14\" fill=\"#009af9\" fill-rule=\"evenodd\" fill-opacity=\"1\" stroke=\"#000000\" stroke-opacity=\"1\" stroke-width=\"3.2\"/>\n<circle clip-path=\"url(#clip902)\" cx=\"767.441\" cy=\"1409.09\" r=\"14\" fill=\"#009af9\" fill-rule=\"evenodd\" fill-opacity=\"1\" stroke=\"#000000\" stroke-opacity=\"1\" stroke-width=\"3.2\"/>\n<circle clip-path=\"url(#clip902)\" cx=\"809.716\" cy=\"1322.11\" r=\"14\" fill=\"#009af9\" fill-rule=\"evenodd\" fill-opacity=\"1\" stroke=\"#000000\" stroke-opacity=\"1\" stroke-width=\"3.2\"/>\n<circle clip-path=\"url(#clip902)\" cx=\"851.991\" cy=\"1102.62\" r=\"14\" fill=\"#009af9\" fill-rule=\"evenodd\" fill-opacity=\"1\" stroke=\"#000000\" stroke-opacity=\"1\" stroke-width=\"3.2\"/>\n<circle clip-path=\"url(#clip902)\" cx=\"894.266\" cy=\"1145.58\" r=\"14\" fill=\"#009af9\" fill-rule=\"evenodd\" fill-opacity=\"1\" stroke=\"#000000\" stroke-opacity=\"1\" stroke-width=\"3.2\"/>\n<circle clip-path=\"url(#clip902)\" cx=\"936.541\" cy=\"1295.99\" r=\"14\" fill=\"#009af9\" fill-rule=\"evenodd\" fill-opacity=\"1\" stroke=\"#000000\" stroke-opacity=\"1\" stroke-width=\"3.2\"/>\n<circle clip-path=\"url(#clip902)\" cx=\"978.816\" cy=\"1124.51\" r=\"14\" fill=\"#009af9\" fill-rule=\"evenodd\" fill-opacity=\"1\" stroke=\"#000000\" stroke-opacity=\"1\" stroke-width=\"3.2\"/>\n<circle clip-path=\"url(#clip902)\" cx=\"1021.09\" cy=\"952.106\" r=\"14\" fill=\"#009af9\" fill-rule=\"evenodd\" fill-opacity=\"1\" stroke=\"#000000\" stroke-opacity=\"1\" stroke-width=\"3.2\"/>\n<circle clip-path=\"url(#clip902)\" cx=\"1063.37\" cy=\"1041.13\" r=\"14\" fill=\"#009af9\" fill-rule=\"evenodd\" fill-opacity=\"1\" stroke=\"#000000\" stroke-opacity=\"1\" stroke-width=\"3.2\"/>\n<circle clip-path=\"url(#clip902)\" cx=\"1105.64\" cy=\"839.421\" r=\"14\" fill=\"#009af9\" fill-rule=\"evenodd\" fill-opacity=\"1\" stroke=\"#000000\" stroke-opacity=\"1\" stroke-width=\"3.2\"/>\n<circle clip-path=\"url(#clip902)\" cx=\"1147.92\" cy=\"1061.36\" r=\"14\" fill=\"#009af9\" fill-rule=\"evenodd\" fill-opacity=\"1\" stroke=\"#000000\" stroke-opacity=\"1\" stroke-width=\"3.2\"/>\n<circle clip-path=\"url(#clip902)\" cx=\"1190.19\" cy=\"759.556\" r=\"14\" fill=\"#009af9\" fill-rule=\"evenodd\" fill-opacity=\"1\" stroke=\"#000000\" stroke-opacity=\"1\" stroke-width=\"3.2\"/>\n<circle clip-path=\"url(#clip902)\" cx=\"1232.47\" cy=\"869.731\" r=\"14\" fill=\"#009af9\" fill-rule=\"evenodd\" fill-opacity=\"1\" stroke=\"#000000\" stroke-opacity=\"1\" stroke-width=\"3.2\"/>\n<circle clip-path=\"url(#clip902)\" cx=\"1274.74\" cy=\"920.526\" r=\"14\" fill=\"#009af9\" fill-rule=\"evenodd\" fill-opacity=\"1\" stroke=\"#000000\" stroke-opacity=\"1\" stroke-width=\"3.2\"/>\n<circle clip-path=\"url(#clip902)\" cx=\"1317.02\" cy=\"789.639\" r=\"14\" fill=\"#009af9\" fill-rule=\"evenodd\" fill-opacity=\"1\" stroke=\"#000000\" stroke-opacity=\"1\" stroke-width=\"3.2\"/>\n<circle clip-path=\"url(#clip902)\" cx=\"1359.29\" cy=\"888.199\" r=\"14\" fill=\"#009af9\" fill-rule=\"evenodd\" fill-opacity=\"1\" stroke=\"#000000\" stroke-opacity=\"1\" stroke-width=\"3.2\"/>\n<circle clip-path=\"url(#clip902)\" cx=\"1401.57\" cy=\"822.428\" r=\"14\" fill=\"#009af9\" fill-rule=\"evenodd\" fill-opacity=\"1\" stroke=\"#000000\" stroke-opacity=\"1\" stroke-width=\"3.2\"/>\n<circle clip-path=\"url(#clip902)\" cx=\"1443.84\" cy=\"856.847\" r=\"14\" fill=\"#009af9\" fill-rule=\"evenodd\" fill-opacity=\"1\" stroke=\"#000000\" stroke-opacity=\"1\" stroke-width=\"3.2\"/>\n<circle clip-path=\"url(#clip902)\" cx=\"1486.12\" cy=\"849.746\" r=\"14\" fill=\"#009af9\" fill-rule=\"evenodd\" fill-opacity=\"1\" stroke=\"#000000\" stroke-opacity=\"1\" stroke-width=\"3.2\"/>\n<circle clip-path=\"url(#clip902)\" cx=\"1528.39\" cy=\"810.475\" r=\"14\" fill=\"#009af9\" fill-rule=\"evenodd\" fill-opacity=\"1\" stroke=\"#000000\" stroke-opacity=\"1\" stroke-width=\"3.2\"/>\n<circle clip-path=\"url(#clip902)\" cx=\"1570.67\" cy=\"788.401\" r=\"14\" fill=\"#009af9\" fill-rule=\"evenodd\" fill-opacity=\"1\" stroke=\"#000000\" stroke-opacity=\"1\" stroke-width=\"3.2\"/>\n<circle clip-path=\"url(#clip902)\" cx=\"1612.94\" cy=\"874.705\" r=\"14\" fill=\"#009af9\" fill-rule=\"evenodd\" fill-opacity=\"1\" stroke=\"#000000\" stroke-opacity=\"1\" stroke-width=\"3.2\"/>\n<circle clip-path=\"url(#clip902)\" cx=\"1655.22\" cy=\"873.398\" r=\"14\" fill=\"#009af9\" fill-rule=\"evenodd\" fill-opacity=\"1\" stroke=\"#000000\" stroke-opacity=\"1\" stroke-width=\"3.2\"/>\n<circle clip-path=\"url(#clip902)\" cx=\"1697.49\" cy=\"922.482\" r=\"14\" fill=\"#009af9\" fill-rule=\"evenodd\" fill-opacity=\"1\" stroke=\"#000000\" stroke-opacity=\"1\" stroke-width=\"3.2\"/>\n<circle clip-path=\"url(#clip902)\" cx=\"1739.77\" cy=\"884.798\" r=\"14\" fill=\"#009af9\" fill-rule=\"evenodd\" fill-opacity=\"1\" stroke=\"#000000\" stroke-opacity=\"1\" stroke-width=\"3.2\"/>\n<circle clip-path=\"url(#clip902)\" cx=\"1782.04\" cy=\"888.185\" r=\"14\" fill=\"#009af9\" fill-rule=\"evenodd\" fill-opacity=\"1\" stroke=\"#000000\" stroke-opacity=\"1\" stroke-width=\"3.2\"/>\n<circle clip-path=\"url(#clip902)\" cx=\"1824.32\" cy=\"925.475\" r=\"14\" fill=\"#009af9\" fill-rule=\"evenodd\" fill-opacity=\"1\" stroke=\"#000000\" stroke-opacity=\"1\" stroke-width=\"3.2\"/>\n<circle clip-path=\"url(#clip902)\" cx=\"1866.59\" cy=\"1000.92\" r=\"14\" fill=\"#009af9\" fill-rule=\"evenodd\" fill-opacity=\"1\" stroke=\"#000000\" stroke-opacity=\"1\" stroke-width=\"3.2\"/>\n<circle clip-path=\"url(#clip902)\" cx=\"1908.87\" cy=\"973.994\" r=\"14\" fill=\"#009af9\" fill-rule=\"evenodd\" fill-opacity=\"1\" stroke=\"#000000\" stroke-opacity=\"1\" stroke-width=\"3.2\"/>\n<circle clip-path=\"url(#clip902)\" cx=\"1951.14\" cy=\"858.774\" r=\"14\" fill=\"#009af9\" fill-rule=\"evenodd\" fill-opacity=\"1\" stroke=\"#000000\" stroke-opacity=\"1\" stroke-width=\"3.2\"/>\n<circle clip-path=\"url(#clip902)\" cx=\"1993.42\" cy=\"773.758\" r=\"14\" fill=\"#009af9\" fill-rule=\"evenodd\" fill-opacity=\"1\" stroke=\"#000000\" stroke-opacity=\"1\" stroke-width=\"3.2\"/>\n<circle clip-path=\"url(#clip902)\" cx=\"2035.69\" cy=\"674.115\" r=\"14\" fill=\"#009af9\" fill-rule=\"evenodd\" fill-opacity=\"1\" stroke=\"#000000\" stroke-opacity=\"1\" stroke-width=\"3.2\"/>\n<circle clip-path=\"url(#clip902)\" cx=\"2077.97\" cy=\"640.814\" r=\"14\" fill=\"#009af9\" fill-rule=\"evenodd\" fill-opacity=\"1\" stroke=\"#000000\" stroke-opacity=\"1\" stroke-width=\"3.2\"/>\n<circle clip-path=\"url(#clip902)\" cx=\"2120.24\" cy=\"696.109\" r=\"14\" fill=\"#009af9\" fill-rule=\"evenodd\" fill-opacity=\"1\" stroke=\"#000000\" stroke-opacity=\"1\" stroke-width=\"3.2\"/>\n<circle clip-path=\"url(#clip902)\" cx=\"2162.52\" cy=\"581.578\" r=\"14\" fill=\"#009af9\" fill-rule=\"evenodd\" fill-opacity=\"1\" stroke=\"#000000\" stroke-opacity=\"1\" stroke-width=\"3.2\"/>\n<circle clip-path=\"url(#clip902)\" cx=\"2204.79\" cy=\"531.503\" r=\"14\" fill=\"#009af9\" fill-rule=\"evenodd\" fill-opacity=\"1\" stroke=\"#000000\" stroke-opacity=\"1\" stroke-width=\"3.2\"/>\n<circle clip-path=\"url(#clip902)\" cx=\"2247.07\" cy=\"369.335\" r=\"14\" fill=\"#009af9\" fill-rule=\"evenodd\" fill-opacity=\"1\" stroke=\"#000000\" stroke-opacity=\"1\" stroke-width=\"3.2\"/>\n<circle clip-path=\"url(#clip902)\" cx=\"2289.34\" cy=\"144.353\" r=\"14\" fill=\"#009af9\" fill-rule=\"evenodd\" fill-opacity=\"1\" stroke=\"#000000\" stroke-opacity=\"1\" stroke-width=\"3.2\"/>\n<polyline clip-path=\"url(#clip902)\" style=\"stroke:#e26f46; stroke-linecap:butt; stroke-linejoin:round; stroke-width:4; stroke-opacity:1; fill:none\" points=\"\n  175.59,218.76 217.865,490.985 260.14,720.575 302.415,911.225 344.69,1066.48 386.965,1189.76 429.24,1284.29 471.515,1353.2 513.79,1399.44 556.065,1425.82 \n  598.34,1435.01 640.616,1429.52 682.891,1411.74 725.166,1383.87 767.441,1348 809.716,1306.06 851.991,1259.82 894.266,1210.92 936.541,1160.85 978.816,1110.95 \n  1021.09,1062.4 1063.37,1016.26 1105.64,973.428 1147.92,934.646 1190.19,900.521 1232.47,871.509 1274.74,847.919 1317.02,829.912 1359.29,817.503 1401.57,810.56 \n  1443.84,808.801 1486.12,811.8 1528.39,818.981 1570.67,829.624 1612.94,842.857 1655.22,857.666 1697.49,872.887 1739.77,887.208 1782.04,899.17 1824.32,907.17 \n  1866.59,909.453 1908.87,904.121 1951.14,889.124 1993.42,862.27 2035.69,821.216 2077.97,763.473 2120.24,686.404 2162.52,587.227 2204.79,463.01 2247.07,310.676 \n  2289.34,126.997 \n  \"/>\n<path clip-path=\"url(#clip900)\" d=\"\nM1985.64 250.738 L2278.07 250.738 L2278.07 95.2176 L1985.64 95.2176  Z\n  \" fill=\"#ffffff\" fill-rule=\"evenodd\" fill-opacity=\"1\"/>\n<polyline clip-path=\"url(#clip900)\" style=\"stroke:#000000; stroke-linecap:butt; stroke-linejoin:round; stroke-width:4; stroke-opacity:1; fill:none\" points=\"\n  1985.64,250.738 2278.07,250.738 2278.07,95.2176 1985.64,95.2176 1985.64,250.738 \n  \"/>\n<circle clip-path=\"url(#clip900)\" cx=\"2081.64\" cy=\"147.058\" r=\"23\" fill=\"#009af9\" fill-rule=\"evenodd\" fill-opacity=\"1\" stroke=\"#000000\" stroke-opacity=\"1\" stroke-width=\"5.12\"/>\n<path clip-path=\"url(#clip900)\" d=\"M2191.48 166.745 Q2189.68 171.375 2187.96 172.787 Q2186.25 174.199 2183.38 174.199 L2179.98 174.199 L2179.98 170.634 L2182.48 170.634 Q2184.24 170.634 2185.21 169.8 Q2186.18 168.967 2187.36 165.865 L2188.13 163.921 L2177.64 138.412 L2182.15 138.412 L2190.26 158.689 L2198.36 138.412 L2202.87 138.412 L2191.48 166.745 Z\" fill=\"#000000\" fill-rule=\"evenodd\" fill-opacity=\"1\" /><path clip-path=\"url(#clip900)\" d=\"M2210.16 160.402 L2217.8 160.402 L2217.8 134.037 L2209.49 135.703 L2209.49 131.444 L2217.76 129.778 L2222.43 129.778 L2222.43 160.402 L2230.07 160.402 L2230.07 164.338 L2210.16 164.338 L2210.16 160.402 Z\" fill=\"#000000\" fill-rule=\"evenodd\" fill-opacity=\"1\" /><polyline clip-path=\"url(#clip900)\" style=\"stroke:#e26f46; stroke-linecap:butt; stroke-linejoin:round; stroke-width:4; stroke-opacity:1; fill:none\" points=\"\n  2009.64,198.898 2153.64,198.898 \n  \"/>\n<path clip-path=\"url(#clip900)\" d=\"M2191.48 218.585 Q2189.68 223.215 2187.96 224.627 Q2186.25 226.039 2183.38 226.039 L2179.98 226.039 L2179.98 222.474 L2182.48 222.474 Q2184.24 222.474 2185.21 221.64 Q2186.18 220.807 2187.36 217.705 L2188.13 215.761 L2177.64 190.252 L2182.15 190.252 L2190.26 210.529 L2198.36 190.252 L2202.87 190.252 L2191.48 218.585 Z\" fill=\"#000000\" fill-rule=\"evenodd\" fill-opacity=\"1\" /><path clip-path=\"url(#clip900)\" d=\"M2213.38 212.242 L2229.7 212.242 L2229.7 216.178 L2207.76 216.178 L2207.76 212.242 Q2210.42 209.488 2215 204.858 Q2219.61 200.205 2220.79 198.863 Q2223.03 196.34 2223.91 194.604 Q2224.82 192.844 2224.82 191.155 Q2224.82 188.4 2222.87 186.664 Q2220.95 184.928 2217.85 184.928 Q2215.65 184.928 2213.2 185.692 Q2210.76 186.455 2207.99 188.006 L2207.99 183.284 Q2210.81 182.15 2213.26 181.571 Q2215.72 180.993 2217.76 180.993 Q2223.13 180.993 2226.32 183.678 Q2229.51 186.363 2229.51 190.854 Q2229.51 192.983 2228.7 194.905 Q2227.92 196.803 2225.81 199.395 Q2225.23 200.067 2222.13 203.284 Q2219.03 206.479 2213.38 212.242 Z\" fill=\"#000000\" fill-rule=\"evenodd\" fill-opacity=\"1\" /></svg>\n"
     },
     "execution_count": 32,
     "metadata": {},
     "output_type": "execute_result"
    }
   ],
   "source": [
    "g(x) = 𝐰_out'*𝒙(x)\n",
    "\n",
    "plot!(xs, g.(xs))"
   ]
  },
  {
   "cell_type": "markdown",
   "id": "7ba306a0",
   "metadata": {
    "slideshow": {
     "slide_type": "slide"
    }
   },
   "source": [
    "# 復習\n",
    "\n",
    "- [JuliaAcademy](https://juliaacademy.com/) みると良い"
   ]
  },
  {
   "cell_type": "markdown",
   "id": "fe6768cf",
   "metadata": {
    "slideshow": {
     "slide_type": "slide"
    }
   },
   "source": [
    "# 参考文献\n",
    "\n",
    "- [Why we created Julia. ](https://julialang.org/blog/2012/02/why-we-created-julia/)\n",
    "- [Why We Use Julia, 10 Years Later](https://julialang.org/blog/2022/02/10years/)\n",
    "- Juliaで作って学ぶベイズ統計学\n",
    "- [JuliaAcademy](https://juliaacademy.com/)\n",
    "- バターン認識と機械学習(上)"
   ]
  }
 ],
 "metadata": {
  "celltoolbar": "スライドショー",
  "kernelspec": {
   "display_name": "Julia 1.7.1",
   "language": "julia",
   "name": "julia-1.7"
  },
  "language_info": {
   "file_extension": ".jl",
   "mimetype": "application/julia",
   "name": "julia",
   "version": "1.7.1"
  },
  "rise": {
   "enable_chalkboard": true,
   "height": 768,
   "scroll": true,
   "transition": "slide",
   "width": 1024
  }
 },
 "nbformat": 4,
 "nbformat_minor": 5
}
